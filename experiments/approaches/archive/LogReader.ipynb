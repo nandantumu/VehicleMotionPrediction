{
 "cells": [
  {
   "cell_type": "code",
   "execution_count": 1,
   "id": "ecc985ec-7e8a-46db-8639-ae089bd396d7",
   "metadata": {},
   "outputs": [],
   "source": [
    "from tensorboard.backend.event_processing import event_accumulator\n",
    "import glob\n",
    "import pandas as pd"
   ]
  },
  {
   "cell_type": "code",
   "execution_count": 18,
   "id": "e6e6b0a9-4ef5-4bcb-a01f-acd4130103c8",
   "metadata": {},
   "outputs": [],
   "source": [
    "def load_tf(dirname):\n",
    "    ea = event_accumulator.EventAccumulator(dirname)\n",
    "    ea.Reload()\n",
    "    \n",
    "    return ea\n",
    "\n",
    "def get_scalars(ea):\n",
    "    dframes = {}\n",
    "    mnames = ea.Tags()['scalars']\n",
    "    for n in mnames:\n",
    "        dframes[n] = pd.DataFrame(ea.Scalars(n), columns=[\"wall_time\", \"epoch\", n.replace('val/', '')])\n",
    "        dframes[n].drop(\"wall_time\", axis=1, inplace=True)\n",
    "        dframes[n] = dframes[n].set_index(\"epoch\")\n",
    "    return pd.concat([v for k,v in dframes.items()], axis=1)\n",
    "\n",
    "def get_histograms(ea):\n",
    "    pass\n"
   ]
  },
  {
   "cell_type": "code",
   "execution_count": 19,
   "id": "d686139e-1fc1-488e-ac53-ecd323b58106",
   "metadata": {},
   "outputs": [],
   "source": [
    "dirname = \"runs/final-toy/model-error/\""
   ]
  },
  {
   "cell_type": "code",
   "execution_count": 20,
   "id": "9c116f09-03e9-4afd-b534-cbe15bfbf441",
   "metadata": {},
   "outputs": [],
   "source": [
    "dirname = glob.glob(dirname + '/PIMP*')[0]"
   ]
  },
  {
   "cell_type": "code",
   "execution_count": 22,
   "id": "11a2c5c0-77e9-4f0b-8be8-fcc9af4d1182",
   "metadata": {},
   "outputs": [],
   "source": [
    "data = load_tf(dirname)"
   ]
  },
  {
   "cell_type": "code",
   "execution_count": 24,
   "id": "7202282a-2a0c-4eaa-b49d-49fa6d1c403f",
   "metadata": {},
   "outputs": [
    {
     "data": {
      "text/plain": [
       "['distributions/ADE/test', 'distributions/FDE/test', 'distributions/loss/test']"
      ]
     },
     "execution_count": 24,
     "metadata": {},
     "output_type": "execute_result"
    }
   ],
   "source": [
    "data.Tags()['histograms']"
   ]
  },
  {
   "cell_type": "code",
   "execution_count": 32,
   "id": "b51e2dca-27e6-4d2f-b0c3-1d787ea19695",
   "metadata": {},
   "outputs": [
    {
     "data": {
      "text/plain": [
       "[HistogramEvent(wall_time=1664747699.523627, step=299, histogram_value=HistogramValue(min=0.11297733336687088, max=1.034361481666565, num=576.0, sum=191.94636122137308, sum_squares=80.88867838797941, bucket_limit=[0.11268002566852665, 0.12394802823537933, 0.13634283105891729, 0.14997711416480902, 0.16497482558128992, 0.18147230813941892, 0.19961953895336082, 0.2195814928486969, 0.24153964213356663, 0.2656936063469233, 0.29226296698161564, 0.3214892636797772, 0.35363819004775493, 0.38900200905253046, 0.42790220995778355, 0.47069243095356195, 0.5177616740489182, 0.56953784145381, 0.6264916255991911, 0.6891407881591103, 0.7580548669750213, 0.8338603536725235, 0.917246389039776, 1.0089710279437536, 1.109868130738129], bucket=[0.0, 3.0, 6.0, 18.0, 26.0, 28.0, 23.0, 37.0, 53.0, 61.0, 47.0, 38.0, 34.0, 62.0, 30.0, 15.0, 16.0, 24.0, 17.0, 16.0, 1.0, 6.0, 3.0, 9.0, 3.0]))]"
      ]
     },
     "execution_count": 32,
     "metadata": {},
     "output_type": "execute_result"
    }
   ],
   "source": [
    "data.Histograms('distributions/FDE/test')"
   ]
  },
  {
   "cell_type": "code",
   "execution_count": 34,
   "id": "ef6e1c67-f446-4b5e-9138-5487e8940baa",
   "metadata": {},
   "outputs": [
    {
     "data": {
      "text/plain": [
       "['train/example_fig']"
      ]
     },
     "execution_count": 34,
     "metadata": {},
     "output_type": "execute_result"
    }
   ],
   "source": [
    "data.Tags()['images']"
   ]
  },
  {
   "cell_type": "code",
   "execution_count": 46,
   "id": "5b43be62-02ad-4a48-bb24-4855b93c18a7",
   "metadata": {},
   "outputs": [],
   "source": [
    "img = data.Images('train/example_fig')[-1]"
   ]
  },
  {
   "cell_type": "code",
   "execution_count": 60,
   "id": "d41ac1c9-69dd-4b38-a462-c99e49595564",
   "metadata": {},
   "outputs": [],
   "source": [
    "import matplotlib.image as mpimg\n",
    "import matplotlib.pyplot as plt\n",
    "import io"
   ]
  },
  {
   "cell_type": "code",
   "execution_count": 61,
   "id": "1aa67cf0-6710-4117-9888-2d08287186db",
   "metadata": {},
   "outputs": [],
   "source": [
    "i = io.BytesIO(img.encoded_image_string)\n",
    "i = mpimg.imread(i, format='JPG')"
   ]
  },
  {
   "cell_type": "code",
   "execution_count": 62,
   "id": "43b13ade-21bb-4855-a19a-42b615e9d80a",
   "metadata": {},
   "outputs": [
    {
     "data": {
      "image/png": "[encoded data removed]",
      "text/plain": [
       "<Figure size 640x480 with 1 Axes>"
      ]
     },
     "metadata": {},
     "output_type": "display_data"
    }
   ],
   "source": [
    "plt.imshow(i, interpolation='nearest')\n",
    "plt.show()"
   ]
  },
  {
   "cell_type": "code",
   "execution_count": null,
   "id": "2564a773-5988-4e21-bc55-b72b4945147b",
   "metadata": {},
   "outputs": [],
   "source": []
  }
 ],
 "metadata": {
  "kernelspec": {
   "display_name": "Python 3.9.5 ('base')",
   "language": "python",
   "name": "python3"
  },
  "language_info": {
   "codemirror_mode": {
    "name": "ipython",
    "version": 3
   },
   "file_extension": ".py",
   "mimetype": "text/x-python",
   "name": "python",
   "nbconvert_exporter": "python",
   "pygments_lexer": "ipython3",
   "version": "3.9.5"
  },
  "vscode": {
   "interpreter": {
    "hash": "2f394aca7ca06fed1e6064aef884364492d7cdda3614a461e02e6407fc40ba69"
   }
  }
 },
 "nbformat": 4,
 "nbformat_minor": 5
}
