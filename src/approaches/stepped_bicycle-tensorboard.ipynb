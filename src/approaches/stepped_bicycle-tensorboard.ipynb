{
 "cells": [
  {
   "cell_type": "code",
   "execution_count": 1,
   "metadata": {
    "tags": []
   },
   "outputs": [
    {
     "name": "stderr",
     "output_type": "stream",
     "text": [
      "/home/nandan/.local/share/virtualenvs/ModelInformedRL-v_iDpmFY/lib/python3.9/site-packages/tqdm/auto.py:22: TqdmWarning: IProgress not found. Please update jupyter and ipywidgets. See https://ipywidgets.readthedocs.io/en/stable/user_install.html\n",
      "  from .autonotebook import tqdm as notebook_tqdm\n"
     ]
    },
    {
     "data": {
      "text/plain": [
       "'cuda'"
      ]
     },
     "execution_count": 1,
     "metadata": {},
     "output_type": "execute_result"
    }
   ],
   "source": [
    "import torch\n",
    "import pandas as pd\n",
    "import numpy as np\n",
    "import torch.nn as nn\n",
    "import torch.nn.functional as F\n",
    "from torch.utils.data import Dataset, DataLoader\n",
    "import matplotlib.pylab as plt\n",
    "from tqdm.autonotebook import tqdm\n",
    "DEVICE = \"cuda\" if torch.cuda.is_available() else \"cpu\"\n",
    "DEVICE"
   ]
  },
  {
   "cell_type": "code",
   "execution_count": 2,
   "metadata": {},
   "outputs": [],
   "source": [
    "from tensorboardX import SummaryWriter\n",
    "writer = SummaryWriter('runs/kin-kin/stepped-bicycle')"
   ]
  },
  {
   "cell_type": "code",
   "execution_count": 3,
   "metadata": {
    "collapsed": false,
    "jupyter": {
     "outputs_hidden": false
    },
    "pycharm": {
     "name": "#%%\n"
    }
   },
   "outputs": [],
   "source": [
    "train_frame = pd.read_pickle(\"../../data/train_data.pkl\")\n",
    "test_frame = pd.read_pickle(\"../../data/test_data.pkl\")\n",
    "#train_frame = train_frame.iloc[-1:]; test_frame = train_frame;"
   ]
  },
  {
   "cell_type": "code",
   "execution_count": 4,
   "metadata": {
    "collapsed": false,
    "jupyter": {
     "outputs_hidden": false
    },
    "pycharm": {
     "name": "#%%\n"
    }
   },
   "outputs": [],
   "source": [
    "class TraceDataset(Dataset):\n",
    "    def __init__(self, dataframe):\n",
    "        self.dataframe = dataframe\n",
    "\n",
    "    def __len__(self):\n",
    "        return len(self.dataframe)\n",
    "\n",
    "    def __getitem__(self, idx):\n",
    "        input = torch.tensor(train_frame.iloc[idx]['input'], dtype=torch.float32)\n",
    "        target = torch.tensor(train_frame.iloc[idx]['target'], dtype=torch.float32)\n",
    "        return input, target\n",
    "\n",
    "train_dataset = TraceDataset(train_frame)\n",
    "test_dataset = TraceDataset(test_frame)\n",
    "train_dataloader = DataLoader(train_dataset, batch_size=1, shuffle=True)\n",
    "test_dataloader = DataLoader(test_dataset, batch_size=1, shuffle=True)"
   ]
  },
  {
   "cell_type": "code",
   "execution_count": 5,
   "metadata": {
    "collapsed": false,
    "jupyter": {
     "outputs_hidden": false
    },
    "pycharm": {
     "name": "#%%\n"
    }
   },
   "outputs": [],
   "source": [
    "def bicycle_model_eval(input, last_pose):\n",
    "    # This version takes in an input of dim 5\n",
    "    states = []  # torch.zeros((81, 4))\n",
    "    L = 0.3302\n",
    "    TS = 0.1\n",
    "    X, Y, THETA, V = 0, 1, 2, 3\n",
    "    #states.append(torch.tensor([last_pose[0],last_pose[1],last_pose[2],input[0]], requires_grad=True))\n",
    "    state = torch.zeros((4,))\n",
    "    state[X] = last_pose[0]\n",
    "    state[Y] = last_pose[1]\n",
    "    state[THETA] = last_pose[2]\n",
    "    state[V] = input[0]\n",
    "    states.append(state)\n",
    "    for i in range(1,11):\n",
    "        # Advance bicycle model\n",
    "        state = torch.zeros((4,))\n",
    "        state[X] = states[i-1][X] + (TS * states[i-1][V] * torch.cos(states[i-1][THETA]))\n",
    "        state[Y] = states[i-1][Y] + (TS * states[i-1][V] * torch.sin(states[i-1][THETA]))\n",
    "        state[THETA] = states[i-1][THETA] + (TS * (states[i-1][V] * torch.tan(input[1])) / L)\n",
    "        state[V] = states[i-1][V] + TS*input[2]\n",
    "        states.append(state)\n",
    "    for i in range(11,21):\n",
    "        # Advance bicycle model\n",
    "        state = torch.zeros((4,))\n",
    "        state[X] = states[i-1][X] + (TS * states[i-1][V] * torch.cos(states[i-1][THETA]))\n",
    "        state[Y] = states[i-1][Y] + (TS * states[i-1][V] * torch.sin(states[i-1][THETA]))\n",
    "        state[THETA] = states[i-1][THETA] + (TS * (states[i-1][V] * torch.tan(input[3])) / L)\n",
    "        state[V] = states[i-1][V] + TS*input[4]\n",
    "        states.append(state)\n",
    "    for i in range(21,31):\n",
    "        # Advance bicycle model\n",
    "        state = torch.zeros((4,))\n",
    "        state[X] = states[i-1][X] + (TS * states[i-1][V] * torch.cos(states[i-1][THETA]))\n",
    "        state[Y] = states[i-1][Y] + (TS * states[i-1][V] * torch.sin(states[i-1][THETA]))\n",
    "        state[THETA] = states[i-1][THETA] + (TS * (states[i-1][V] * torch.tan(input[5])) / L)\n",
    "        state[V] = states[i-1][V] + TS*input[6]\n",
    "        states.append(state)\n",
    "    for i in range(31,41):\n",
    "        # Advance bicycle model\n",
    "        state = torch.zeros((4,))\n",
    "        state[X] = states[i-1][X] + (TS * states[i-1][V] * torch.cos(states[i-1][THETA]))\n",
    "        state[Y] = states[i-1][Y] + (TS * states[i-1][V] * torch.sin(states[i-1][THETA]))\n",
    "        state[THETA] = states[i-1][THETA] + (TS * (states[i-1][V] * torch.tan(input[7])) / L)\n",
    "        state[V] = states[i-1][V] + TS*input[8]\n",
    "        states.append(state)\n",
    "    for i in range(41,51):\n",
    "        # Advance bicycle model\n",
    "        state = torch.zeros((4,))\n",
    "        state[X] = states[i-1][X] + (TS * states[i-1][V] * torch.cos(states[i-1][THETA]))\n",
    "        state[Y] = states[i-1][Y] + (TS * states[i-1][V] * torch.sin(states[i-1][THETA]))\n",
    "        state[THETA] = states[i-1][THETA] + (TS * (states[i-1][V] * torch.tan(input[9])) / L)\n",
    "        state[V] = states[i-1][V] + TS*input[10]\n",
    "        states.append(state)\n",
    "    for i in range(51,61):\n",
    "        # Advance bicycle model\n",
    "        state = torch.zeros((4,))\n",
    "        state[X] = states[i-1][X] + (TS * states[i-1][V] * torch.cos(states[i-1][THETA]))\n",
    "        state[Y] = states[i-1][Y] + (TS * states[i-1][V] * torch.sin(states[i-1][THETA]))\n",
    "        state[THETA] = states[i-1][THETA] + (TS * (states[i-1][V] * torch.tan(input[11])) / L)\n",
    "        state[V] = states[i-1][V] + TS*input[12]\n",
    "        states.append(state)\n",
    "    for i in range(61,71):\n",
    "        # Advance bicycle model\n",
    "        state = torch.zeros((4,))\n",
    "        state[X] = states[i-1][X] + (TS * states[i-1][V] * torch.cos(states[i-1][THETA]))\n",
    "        state[Y] = states[i-1][Y] + (TS * states[i-1][V] * torch.sin(states[i-1][THETA]))\n",
    "        state[THETA] = states[i-1][THETA] + (TS * (states[i-1][V] * torch.tan(input[13])) / L)\n",
    "        state[V] = states[i-1][V] + TS*input[14]\n",
    "        states.append(state)\n",
    "    for i in range(71,81):\n",
    "        # Advance bicycle model\n",
    "        state = torch.zeros((4,))\n",
    "        state[X] = states[i-1][X] + (TS * states[i-1][V] * torch.cos(states[i-1][THETA]))\n",
    "        state[Y] = states[i-1][Y] + (TS * states[i-1][V] * torch.sin(states[i-1][THETA]))\n",
    "        state[THETA] = states[i-1][THETA] + (TS * (states[i-1][V] * torch.tan(input[15])) / L)\n",
    "        state[V] = states[i-1][V] + TS*input[16]\n",
    "        states.append(state)\n",
    "    trace = torch.vstack(states)[1:,0:3]\n",
    "    return trace\n",
    "\n",
    "\n",
    "def custom_loss_func(prediction, target, output):\n",
    "    loss = F.mse_loss(prediction, target)\n",
    "    #loss += 10*output[0]**2 if output[0]<0 else 0\n",
    "    #loss += 2*torch.linalg.norm(output)**2\n",
    "    return loss\n",
    "\n",
    "class LSTMPredictor(nn.Module):\n",
    "    def __init__(self, input_dim=3, hidden_dim=10, target_size=17):\n",
    "        super(LSTMPredictor, self).__init__()\n",
    "        self.hidden_dim = hidden_dim\n",
    "\n",
    "        # The LSTM takes word embeddings as inputs, and outputs hidden states\n",
    "        # with dimensionality hidden_dim.\n",
    "        self.lstm = nn.LSTM(input_dim, hidden_dim, num_layers=2, batch_first=True)\n",
    "\n",
    "        # The linear layer that maps from hidden state space to tag space\n",
    "        self.hidden2output = nn.Sequential(\n",
    "            nn.Linear(hidden_dim, hidden_dim),\n",
    "            nn.Linear(hidden_dim, target_size)\n",
    "        )\n",
    "\n",
    "    def forward(self, inputs):\n",
    "        lstm_out, _ = self.lstm(inputs)\n",
    "        output = self.hidden2output(lstm_out)\n",
    "        output_list = [F.softplus(output[:,0])]\n",
    "        for i in range(8):\n",
    "            output_list.append(torch.tanh(output[:,(2*i)+1])*np.pi)\n",
    "            output_list.append(output[:,(2*i)+2])\n",
    "        output = torch.column_stack(output_list)\n",
    "        return output"
   ]
  },
  {
   "cell_type": "code",
   "execution_count": 6,
   "metadata": {
    "collapsed": false,
    "jupyter": {
     "outputs_hidden": false
    },
    "pycharm": {
     "name": "#%%\n"
    }
   },
   "outputs": [],
   "source": [
    "net = LSTMPredictor()\n",
    "#net.load_state_dict(torch.load(\"best_stepped_bicycle.pt\"))"
   ]
  },
  {
   "cell_type": "code",
   "execution_count": 7,
   "metadata": {
    "collapsed": false,
    "jupyter": {
     "outputs_hidden": false
    },
    "pycharm": {
     "name": "#%%\n"
    }
   },
   "outputs": [
    {
     "data": {
      "text/plain": [
       "tensor([[-54.8251,  24.3798,   2.0672],\n",
       "        [-54.8444,  24.4154,   2.0632],\n",
       "        [-54.8635,  24.4511,   2.0632],\n",
       "        [-54.8826,  24.4868,   2.0672],\n",
       "        [-54.9019,  24.5224,   2.0672],\n",
       "        [-54.9212,  24.5580,   2.0711],\n",
       "        [-54.9406,  24.5936,   2.0711],\n",
       "        [-54.9601,  24.6291,   2.0750],\n",
       "        [-54.9796,  24.6646,   2.0750],\n",
       "        [-54.9992,  24.7000,   2.0789]], dtype=torch.float64)"
      ]
     },
     "execution_count": 7,
     "metadata": {},
     "output_type": "execute_result"
    }
   ],
   "source": [
    "torch.tensor(train_frame.iloc[0]['input'])"
   ]
  },
  {
   "cell_type": "code",
   "execution_count": 8,
   "metadata": {
    "collapsed": false,
    "jupyter": {
     "outputs_hidden": false
    },
    "pycharm": {
     "name": "#%%\n"
    }
   },
   "outputs": [
    {
     "data": {
      "text/plain": [
       "torch.Size([10, 17])"
      ]
     },
     "execution_count": 8,
     "metadata": {},
     "output_type": "execute_result"
    }
   ],
   "source": [
    "inp = torch.tensor(train_frame.iloc[0]['input'], dtype=torch.float32)\n",
    "outp = net(inp)\n",
    "target = torch.tensor(train_frame.iloc[0]['target'], dtype=torch.float32)\n",
    "outp.shape"
   ]
  },
  {
   "cell_type": "code",
   "execution_count": 9,
   "metadata": {
    "collapsed": false,
    "jupyter": {
     "outputs_hidden": false
    },
    "pycharm": {
     "name": "#%%\n"
    }
   },
   "outputs": [],
   "source": [
    "outp_trace = bicycle_model_eval(outp[-1], inp[-1])\n",
    "#from viz_net import make_dot"
   ]
  },
  {
   "cell_type": "code",
   "execution_count": 10,
   "metadata": {},
   "outputs": [],
   "source": [
    "loss = custom_loss_func(outp_trace, target.squeeze(), outp[-1])\n",
    "#g = make_dot(loss)\n",
    "#g.view()"
   ]
  },
  {
   "cell_type": "code",
   "execution_count": 11,
   "metadata": {},
   "outputs": [],
   "source": [
    "#g = make_dot(outp[-1])\n",
    "#g.view()"
   ]
  },
  {
   "cell_type": "code",
   "execution_count": 12,
   "metadata": {
    "collapsed": false,
    "jupyter": {
     "outputs_hidden": false
    },
    "pycharm": {
     "name": "#%%\n"
    }
   },
   "outputs": [
    {
     "data": {
      "text/plain": [
       "<matplotlib.legend.Legend at 0x7f810bbd3a00>"
      ]
     },
     "execution_count": 12,
     "metadata": {},
     "output_type": "execute_result"
    },
    {
     "data": {
      "image/png": "[encoded data removed]",
      "text/plain": [
       "<Figure size 504x504 with 1 Axes>"
      ]
     },
     "metadata": {
      "needs_background": "light"
     },
     "output_type": "display_data"
    }
   ],
   "source": [
    "fig, ax = plt.subplots(figsize=(7,7));\n",
    "ax.set_aspect(1.0, adjustable='box');\n",
    "ax.set_title(\"TEST\");\n",
    "ax.plot(outp_trace[:,0].detach().numpy(), outp_trace[:,1].detach().numpy(), marker='o', label='Predicted')\n",
    "ax.plot(target[:,0].detach().numpy(), target[:,1].detach().numpy(), marker='o', label='Target')\n",
    "ax.legend()"
   ]
  },
  {
   "cell_type": "code",
   "execution_count": 13,
   "metadata": {
    "collapsed": false,
    "jupyter": {
     "outputs_hidden": false
    },
    "pycharm": {
     "name": "#%%\n"
    }
   },
   "outputs": [
    {
     "data": {
      "text/plain": [
       "<matplotlib.legend.Legend at 0x7f8109ac4c10>"
      ]
     },
     "execution_count": 13,
     "metadata": {},
     "output_type": "execute_result"
    },
    {
     "data": {
      "image/png": "[encoded data removed]",
      "text/plain": [
       "<Figure size 504x504 with 1 Axes>"
      ]
     },
     "metadata": {
      "needs_background": "light"
     },
     "output_type": "display_data"
    }
   ],
   "source": [
    "fig, ax = plt.subplots(figsize=(7,7));\n",
    "ax.set_aspect(1.0, adjustable='box');\n",
    "ax.set_title(\"TEST\");\n",
    "ax.plot(outp_trace[:,0].detach().numpy(), outp_trace[:,1].detach().numpy(), marker='o', label='Predicted')\n",
    "ax.plot(target[:10,0].detach().numpy(), target[:10,1].detach().numpy(), marker='o', label='Target')\n",
    "ax.legend()"
   ]
  },
  {
   "cell_type": "code",
   "execution_count": 14,
   "metadata": {
    "collapsed": false,
    "jupyter": {
     "outputs_hidden": false
    },
    "pycharm": {
     "name": "#%%\n"
    }
   },
   "outputs": [
    {
     "data": {
      "text/plain": [
       "tensor(8.0072, grad_fn=<MseLossBackward0>)"
      ]
     },
     "execution_count": 14,
     "metadata": {},
     "output_type": "execute_result"
    }
   ],
   "source": [
    "loss = nn.MSELoss()\n",
    "loss(outp_trace,torch.tensor(train_frame.iloc[0]['target'], dtype=torch.float32))"
   ]
  },
  {
   "cell_type": "code",
   "execution_count": null,
   "metadata": {
    "pycharm": {
     "name": "#%%\n"
    },
    "tags": []
   },
   "outputs": [
    {
     "name": "stderr",
     "output_type": "stream",
     "text": [
      "100%|████████████████████████████████████████████████████████████████████████████████████████████████████████████████████████████████████████████████████████████████████████████████████████████████████████████████████████████| 2544/2544 [17:31<00:00,  2.42it/s]\n"
     ]
    },
    {
     "name": "stdout",
     "output_type": "stream",
     "text": [
      "0.678828522611304\n"
     ]
    },
    {
     "name": "stderr",
     "output_type": "stream",
     "text": [
      "100%|█████████████████████████████████████████████████████████████████████████████████████████████████████████████████████████████████████████████████████████████████████████████████████████████████████████████████████████████| 637/637 [00:04<00:00, 155.78it/s]\n"
     ]
    },
    {
     "name": "stdout",
     "output_type": "stream",
     "text": [
      "0.40881881651613317\n",
      "Epoch 0 | Train Loss: 0.678828522611304 | Test Loss: 0.40881881651613317\n"
     ]
    },
    {
     "name": "stderr",
     "output_type": "stream",
     "text": [
      "100%|████████████████████████████████████████████████████████████████████████████████████████████████████████████████████████████████████████████████████████████████████████████████████████████████████████████████████████████| 2544/2544 [17:38<00:00,  2.40it/s]\n"
     ]
    },
    {
     "name": "stdout",
     "output_type": "stream",
     "text": [
      "0.36887071737924404\n"
     ]
    },
    {
     "name": "stderr",
     "output_type": "stream",
     "text": [
      "100%|█████████████████████████████████████████████████████████████████████████████████████████████████████████████████████████████████████████████████████████████████████████████████████████████████████████████████████████████| 637/637 [00:04<00:00, 155.70it/s]\n"
     ]
    },
    {
     "name": "stdout",
     "output_type": "stream",
     "text": [
      "0.38287962983936963\n",
      "Epoch 1 | Train Loss: 0.36887071737924404 | Test Loss: 0.38287962983936963\n"
     ]
    },
    {
     "name": "stderr",
     "output_type": "stream",
     "text": [
      "100%|████████████████████████████████████████████████████████████████████████████████████████████████████████████████████████████████████████████████████████████████████████████████████████████████████████████████████████████| 2544/2544 [17:37<00:00,  2.41it/s]\n"
     ]
    },
    {
     "name": "stdout",
     "output_type": "stream",
     "text": [
      "0.35230327646120646\n"
     ]
    },
    {
     "name": "stderr",
     "output_type": "stream",
     "text": [
      "100%|█████████████████████████████████████████████████████████████████████████████████████████████████████████████████████████████████████████████████████████████████████████████████████████████████████████████████████████████| 637/637 [00:04<00:00, 155.90it/s]\n"
     ]
    },
    {
     "name": "stdout",
     "output_type": "stream",
     "text": [
      "0.36166489179636496\n",
      "Epoch 2 | Train Loss: 0.35230327646120646 | Test Loss: 0.36166489179636496\n"
     ]
    },
    {
     "name": "stderr",
     "output_type": "stream",
     "text": [
      "100%|████████████████████████████████████████████████████████████████████████████████████████████████████████████████████████████████████████████████████████████████████████████████████████████████████████████████████████████| 2544/2544 [17:38<00:00,  2.40it/s]\n"
     ]
    },
    {
     "name": "stdout",
     "output_type": "stream",
     "text": [
      "0.3416206082487486\n"
     ]
    },
    {
     "name": "stderr",
     "output_type": "stream",
     "text": [
      "100%|█████████████████████████████████████████████████████████████████████████████████████████████████████████████████████████████████████████████████████████████████████████████████████████████████████████████████████████████| 637/637 [00:04<00:00, 156.17it/s]\n"
     ]
    },
    {
     "name": "stdout",
     "output_type": "stream",
     "text": [
      "0.35114278991632103\n",
      "Epoch 3 | Train Loss: 0.3416206082487486 | Test Loss: 0.35114278991632103\n"
     ]
    },
    {
     "name": "stderr",
     "output_type": "stream",
     "text": [
      "100%|████████████████████████████████████████████████████████████████████████████████████████████████████████████████████████████████████████████████████████████████████████████████████████████████████████████████████████████| 2544/2544 [17:37<00:00,  2.41it/s]\n"
     ]
    },
    {
     "name": "stdout",
     "output_type": "stream",
     "text": [
      "0.34600358521573116\n"
     ]
    },
    {
     "name": "stderr",
     "output_type": "stream",
     "text": [
      "100%|█████████████████████████████████████████████████████████████████████████████████████████████████████████████████████████████████████████████████████████████████████████████████████████████████████████████████████████████| 637/637 [00:04<00:00, 153.91it/s]\n"
     ]
    },
    {
     "name": "stdout",
     "output_type": "stream",
     "text": [
      "0.35642091269872417\n",
      "Epoch 4 | Train Loss: 0.34600358521573116 | Test Loss: 0.35642091269872417\n"
     ]
    },
    {
     "name": "stderr",
     "output_type": "stream",
     "text": [
      "100%|████████████████████████████████████████████████████████████████████████████████████████████████████████████████████████████████████████████████████████████████████████████████████████████████████████████████████████████| 2544/2544 [17:36<00:00,  2.41it/s]\n"
     ]
    },
    {
     "name": "stdout",
     "output_type": "stream",
     "text": [
      "0.32560323243153516\n"
     ]
    },
    {
     "name": "stderr",
     "output_type": "stream",
     "text": [
      "100%|█████████████████████████████████████████████████████████████████████████████████████████████████████████████████████████████████████████████████████████████████████████████████████████████████████████████████████████████| 637/637 [00:04<00:00, 158.75it/s]\n"
     ]
    },
    {
     "name": "stdout",
     "output_type": "stream",
     "text": [
      "0.33350649333191273\n",
      "Epoch 5 | Train Loss: 0.32560323243153516 | Test Loss: 0.33350649333191273\n"
     ]
    },
    {
     "name": "stderr",
     "output_type": "stream",
     "text": [
      "100%|████████████████████████████████████████████████████████████████████████████████████████████████████████████████████████████████████████████████████████████████████████████████████████████████████████████████████████████| 2544/2544 [17:35<00:00,  2.41it/s]\n"
     ]
    },
    {
     "name": "stdout",
     "output_type": "stream",
     "text": [
      "0.3217585605681572\n"
     ]
    },
    {
     "name": "stderr",
     "output_type": "stream",
     "text": [
      "100%|█████████████████████████████████████████████████████████████████████████████████████████████████████████████████████████████████████████████████████████████████████████████████████████████████████████████████████████████| 637/637 [00:04<00:00, 155.57it/s]\n"
     ]
    },
    {
     "name": "stdout",
     "output_type": "stream",
     "text": [
      "0.31703943040991694\n",
      "Epoch 6 | Train Loss: 0.3217585605681572 | Test Loss: 0.31703943040991694\n"
     ]
    },
    {
     "name": "stderr",
     "output_type": "stream",
     "text": [
      "100%|████████████████████████████████████████████████████████████████████████████████████████████████████████████████████████████████████████████████████████████████████████████████████████████████████████████████████████████| 2544/2544 [17:27<00:00,  2.43it/s]\n"
     ]
    },
    {
     "name": "stdout",
     "output_type": "stream",
     "text": [
      "0.32204309489920113\n"
     ]
    },
    {
     "name": "stderr",
     "output_type": "stream",
     "text": [
      "100%|█████████████████████████████████████████████████████████████████████████████████████████████████████████████████████████████████████████████████████████████████████████████████████████████████████████████████████████████| 637/637 [00:03<00:00, 160.97it/s]\n"
     ]
    },
    {
     "name": "stdout",
     "output_type": "stream",
     "text": [
      "0.32270608433767906\n",
      "Epoch 7 | Train Loss: 0.32204309489920113 | Test Loss: 0.32270608433767906\n"
     ]
    },
    {
     "name": "stderr",
     "output_type": "stream",
     "text": [
      "100%|████████████████████████████████████████████████████████████████████████████████████████████████████████████████████████████████████████████████████████████████████████████████████████████████████████████████████████████| 2544/2544 [17:36<00:00,  2.41it/s]\n"
     ]
    },
    {
     "name": "stdout",
     "output_type": "stream",
     "text": [
      "0.3100113946630648\n"
     ]
    },
    {
     "name": "stderr",
     "output_type": "stream",
     "text": [
      "100%|█████████████████████████████████████████████████████████████████████████████████████████████████████████████████████████████████████████████████████████████████████████████████████████████████████████████████████████████| 637/637 [00:03<00:00, 160.01it/s]\n"
     ]
    },
    {
     "name": "stdout",
     "output_type": "stream",
     "text": [
      "0.33108684233005276\n",
      "Epoch 8 | Train Loss: 0.3100113946630648 | Test Loss: 0.33108684233005276\n"
     ]
    },
    {
     "name": "stderr",
     "output_type": "stream",
     "text": [
      "100%|████████████████████████████████████████████████████████████████████████████████████████████████████████████████████████████████████████████████████████████████████████████████████████████████████████████████████████████| 2544/2544 [17:31<00:00,  2.42it/s]\n"
     ]
    },
    {
     "name": "stdout",
     "output_type": "stream",
     "text": [
      "0.30299900672230107\n"
     ]
    },
    {
     "name": "stderr",
     "output_type": "stream",
     "text": [
      "100%|█████████████████████████████████████████████████████████████████████████████████████████████████████████████████████████████████████████████████████████████████████████████████████████████████████████████████████████████| 637/637 [00:03<00:00, 159.71it/s]\n"
     ]
    },
    {
     "name": "stdout",
     "output_type": "stream",
     "text": [
      "0.32606037808223987\n",
      "Epoch 9 | Train Loss: 0.30299900672230107 | Test Loss: 0.32606037808223987\n"
     ]
    },
    {
     "name": "stderr",
     "output_type": "stream",
     "text": [
      "100%|████████████████████████████████████████████████████████████████████████████████████████████████████████████████████████████████████████████████████████████████████████████████████████████████████████████████████████████| 2544/2544 [17:31<00:00,  2.42it/s]\n"
     ]
    },
    {
     "name": "stdout",
     "output_type": "stream",
     "text": [
      "0.3017015721206974\n"
     ]
    },
    {
     "name": "stderr",
     "output_type": "stream",
     "text": [
      "100%|█████████████████████████████████████████████████████████████████████████████████████████████████████████████████████████████████████████████████████████████████████████████████████████████████████████████████████████████| 637/637 [00:04<00:00, 158.20it/s]\n"
     ]
    },
    {
     "name": "stdout",
     "output_type": "stream",
     "text": [
      "0.32648878014166555\n",
      "Epoch 10 | Train Loss: 0.3017015721206974 | Test Loss: 0.32648878014166555\n"
     ]
    },
    {
     "name": "stderr",
     "output_type": "stream",
     "text": [
      " 40%|███████████████████████████████████████████████████████████████████████████████████████▎                                                                                                                                    | 1010/2544 [06:57<10:23,  2.46it/s]"
     ]
    }
   ],
   "source": [
    "# Training Loop\n",
    "torch.autograd.set_detect_anomaly(True)\n",
    "net = LSTMPredictor()\n",
    "net.to(DEVICE)\n",
    "loss_func = nn.MSELoss()\n",
    "optimizer = torch.optim.Adam(net.parameters(), lr=1e-3)\n",
    "train_losses = list()\n",
    "test_losses = list()\n",
    "BATCH_SIZE = 32\n",
    "\n",
    "for epoch in range(100):\n",
    "    cum_train_loss = 0.0\n",
    "    net.train()\n",
    "    i=0\n",
    "    for input_data, target_data in tqdm(train_dataloader):\n",
    "        if i%BATCH_SIZE == 0:\n",
    "            net.zero_grad()\n",
    "        input_data = input_data.squeeze().to(DEVICE)\n",
    "        outp = net(input_data)\n",
    "        outp = outp.squeeze()\n",
    "        outp = outp.to(\"cpu\")\n",
    "        target_data = target_data.squeeze()\n",
    "        #print(outp.shape)\n",
    "        outp_trace = bicycle_model_eval(outp[-1], input_data[-1].detach().clone().to(\"cpu\")).to(DEVICE)\n",
    "        loss = custom_loss_func(outp_trace, target_data.squeeze().to(DEVICE), outp[-1])\n",
    "        loss.backward()\n",
    "        if i%BATCH_SIZE == 0:\n",
    "            optimizer.step()\n",
    "        cum_train_loss += loss.item()\n",
    "    # Catch remainder gradients\n",
    "    optimizer.step()\n",
    "    net.zero_grad()\n",
    "    \n",
    "    train_fig, train_ax = plt.subplots(figsize=(7,7))\n",
    "    train_ax.set_aspect(1.0, adjustable='box')\n",
    "    train_ax.set_title(f\"Epoch {epoch} training plot | Loss:{loss.item()}\")\n",
    "    train_ax.plot(outp_trace[:,0].detach().cpu().numpy(), outp_trace[:,1].detach().cpu().numpy(), marker='o', label=\"Predicted\")\n",
    "    train_ax.plot(target_data[:,0].detach().cpu().numpy(), target_data[:,1].detach().cpu().numpy(), marker='o', label=\"Truth\")\n",
    "    train_ax.legend()\n",
    "    \n",
    "    cum_train_loss /= len(train_dataset)\n",
    "    train_losses.append(cum_train_loss)\n",
    "    print(cum_train_loss)\n",
    "    cum_test_loss = 0.0\n",
    "    net.eval()\n",
    "    with torch.no_grad():\n",
    "        for input_data, target_data in tqdm(test_dataloader):\n",
    "            input_data = input_data.squeeze().to(DEVICE)\n",
    "            outp = net(input_data)\n",
    "            outp = outp.squeeze()\n",
    "            outp = outp.to(\"cpu\")\n",
    "            target_data = target_data.squeeze()\n",
    "            outp_trace = bicycle_model_eval(outp[-1], input_data[-1].detach().clone().to(\"cpu\")).to(DEVICE)\n",
    "            loss = custom_loss_func(outp_trace, target_data.squeeze().to(DEVICE), outp[-1])\n",
    "            cum_test_loss += loss.item()\n",
    "        test_fig, test_ax = plt.subplots(figsize=(7,7))\n",
    "        test_ax.set_aspect(1.0, adjustable='box')\n",
    "        test_ax.set_title(f\"Epoch {epoch} testing plot: Loss:{loss.item()}\")\n",
    "        test_ax.plot(outp_trace[:,0].detach().cpu().numpy(), outp_trace[:,1].detach().cpu().numpy(), marker='o', label=\"Predicted\")\n",
    "        test_ax.plot(target_data[:,0].detach().cpu().numpy(), target_data[:,1].detach().cpu().numpy(), marker='o', label=\"Truth\")\n",
    "        test_ax.legend()\n",
    "    cum_test_loss /= len(test_dataset)\n",
    "    test_losses.append(cum_test_loss)\n",
    "    if cum_test_loss <= min(test_losses):\n",
    "        torch.save(net.state_dict(), \"best_stepped_bicycle.pt\")\n",
    "    print(cum_test_loss)\n",
    "    writer.add_scalar(\"train/loss\", cum_train_loss, epoch)\n",
    "    writer.add_scalar(\"test/loss\", cum_test_loss, epoch)\n",
    "    writer.add_figure(\"train/example_fig\", train_fig, epoch)\n",
    "    writer.add_figure(\"test/example_fig\", test_fig, epoch)\n",
    "    print(f\"Epoch {epoch} | Train Loss: {cum_train_loss} | Test Loss: {cum_test_loss}\")"
   ]
  },
  {
   "cell_type": "code",
   "execution_count": null,
   "metadata": {
    "collapsed": false,
    "jupyter": {
     "outputs_hidden": false
    },
    "pycharm": {
     "name": "#%%\n"
    }
   },
   "outputs": [],
   "source": [
    "plt.title(f\"Learning Curves\")\n",
    "plt.plot(train_losses, marker='o', label=\"Training Loss\")\n",
    "plt.plot(test_losses, marker='o', label=\"Testing Loss\")\n",
    "plt.legend()\n",
    "plt.show()"
   ]
  },
  {
   "cell_type": "code",
   "execution_count": null,
   "metadata": {},
   "outputs": [],
   "source": [
    "test_losses"
   ]
  },
  {
   "cell_type": "code",
   "execution_count": null,
   "metadata": {},
   "outputs": [],
   "source": []
  }
 ],
 "metadata": {
  "kernelspec": {
   "display_name": "Python 3 (ipykernel)",
   "language": "python",
   "name": "python3"
  },
  "language_info": {
   "codemirror_mode": {
    "name": "ipython",
    "version": 3
   },
   "file_extension": ".py",
   "mimetype": "text/x-python",
   "name": "python",
   "nbconvert_exporter": "python",
   "pygments_lexer": "ipython3",
   "version": "3.9.5"
  }
 },
 "nbformat": 4,
 "nbformat_minor": 4
}
