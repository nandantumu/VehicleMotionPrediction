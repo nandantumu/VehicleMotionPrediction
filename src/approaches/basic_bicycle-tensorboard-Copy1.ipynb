{
 "cells": [
  {
   "cell_type": "code",
   "execution_count": 1,
   "metadata": {
    "pycharm": {
     "name": "#%%\n"
    },
    "tags": []
   },
   "outputs": [
    {
     "name": "stderr",
     "output_type": "stream",
     "text": [
      "/usr/local/lib/python3.8/dist-packages/tqdm/auto.py:22: TqdmWarning: IProgress not found. Please update jupyter and ipywidgets. See https://ipywidgets.readthedocs.io/en/stable/user_install.html\n",
      "  from .autonotebook import tqdm as notebook_tqdm\n"
     ]
    },
    {
     "data": {
      "text/plain": [
       "'cpu'"
      ]
     },
     "execution_count": 1,
     "metadata": {},
     "output_type": "execute_result"
    }
   ],
   "source": [
    "import torch\n",
    "import pandas as pd\n",
    "import numpy as np\n",
    "import torch.nn as nn\n",
    "import torch.nn.functional as F\n",
    "from torch.utils.data import Dataset, DataLoader\n",
    "import matplotlib.pylab as plt\n",
    "from tqdm.autonotebook import tqdm\n",
    "from PIL import Image\n",
    "import yaml\n",
    "DEVICE = 'cpu'#\"cuda:1\" if torch.cuda.is_available() else \"cpu\"\n",
    "DEVICE"
   ]
  },
  {
   "cell_type": "code",
   "execution_count": 2,
   "metadata": {
    "collapsed": false,
    "jupyter": {
     "outputs_hidden": false
    },
    "pycharm": {
     "name": "#%%\n"
    }
   },
   "outputs": [],
   "source": [
    "from enum import Enum, unique\n",
    "\n",
    "class Curvature(Enum):\n",
    "    NO_CURVATURE = False\n",
    "    CURVATURE = True\n"
   ]
  },
  {
   "cell_type": "code",
   "execution_count": 3,
   "metadata": {
    "collapsed": false,
    "jupyter": {
     "outputs_hidden": false
    },
    "pycharm": {
     "name": "#%%\n"
    }
   },
   "outputs": [
    {
     "name": "stderr",
     "output_type": "stream",
     "text": [
      "/tmp/ipykernel_4351/1539602785.py:11: DeprecationWarning: FLIP_TOP_BOTTOM is deprecated and will be removed in Pillow 10 (2023-07-01). Use Transpose.FLIP_TOP_BOTTOM instead.\n",
      "  map_img = np.array(Image.open(map_path + map_ext).transpose(Image.FLIP_TOP_BOTTOM)).astype(np.float64)\n"
     ]
    },
    {
     "data": {
      "text/plain": [
       "<matplotlib.collections.PathCollection at 0x7f6e1f02db20>"
      ]
     },
     "execution_count": 3,
     "metadata": {},
     "output_type": "execute_result"
    },
    {
     "data": {
      "image/png": "[encoded data removed]",
      "text/plain": [
       "<Figure size 432x288 with 1 Axes>"
      ]
     },
     "metadata": {
      "needs_background": "light"
     },
     "output_type": "display_data"
    }
   ],
   "source": [
    "def _get_map_points(map_path, map_ext):\n",
    "    with open(map_path + '.yaml', 'r') as yaml_stream:\n",
    "        try:\n",
    "            map_metadata = yaml.safe_load(yaml_stream)\n",
    "            map_resolution = map_metadata['resolution']\n",
    "            origin = map_metadata['origin']\n",
    "            origin_x = origin[0]\n",
    "            origin_y = origin[1]\n",
    "        except yaml.YAMLError as ex:\n",
    "            print(ex)\n",
    "    map_img = np.array(Image.open(map_path + map_ext).transpose(Image.FLIP_TOP_BOTTOM)).astype(np.float64)\n",
    "    map_height = map_img.shape[0]\n",
    "    map_width = map_img.shape[1]\n",
    "\n",
    "    # convert map pixels to coordinates\n",
    "    range_x = np.arange(map_width)\n",
    "    range_y = np.arange(map_height)\n",
    "    map_x, map_y = np.meshgrid(range_x, range_y)\n",
    "    map_x = (map_x * map_resolution + origin_x).flatten()\n",
    "    map_y = (map_y * map_resolution + origin_y).flatten()\n",
    "    map_z = np.zeros(map_y.shape)\n",
    "    map_coords = np.vstack((map_x, map_y, map_z))\n",
    "\n",
    "    # mask and only leave the obstacle points\n",
    "    map_mask = map_img == 0.0\n",
    "    map_mask_flat = map_mask.flatten()\n",
    "    map_points = map_coords[:, map_mask_flat].T\n",
    "    return map_points[:,0], map_points[:,1]\n",
    "\n",
    "map_x, map_y = _get_map_points(\"../data_generation/track_config/Spielberg_map\", \".png\")\n",
    "plt.scatter(map_x, map_y)"
   ]
  },
  {
   "cell_type": "code",
   "execution_count": 4,
   "metadata": {
    "collapsed": false,
    "jupyter": {
     "outputs_hidden": false
    },
    "pycharm": {
     "name": "#%%\n"
    }
   },
   "outputs": [],
   "source": [
    "from tensorboardX import SummaryWriter\n"
   ]
  },
  {
   "cell_type": "code",
   "execution_count": 5,
   "metadata": {
    "collapsed": false,
    "jupyter": {
     "outputs_hidden": false
    },
    "pycharm": {
     "name": "#%%\n"
    }
   },
   "outputs": [],
   "source": [
    "train_frame = pd.read_pickle(\"../../data/train_data.pkl\")\n",
    "test_frame = pd.read_pickle(\"../../data/test_data.pkl\")\n",
    "full_frame = pd.read_pickle(\"../../data/final_data.pkl\")"
   ]
  },
  {
   "cell_type": "code",
   "execution_count": 6,
   "metadata": {
    "collapsed": false,
    "jupyter": {
     "outputs_hidden": false
    },
    "pycharm": {
     "name": "#%%\n"
    }
   },
   "outputs": [
    {
     "data": {
      "text/plain": [
       "torch.Size([9, 10, 3])"
      ]
     },
     "execution_count": 6,
     "metadata": {},
     "output_type": "execute_result"
    }
   ],
   "source": [
    "torch.tensor(np.array(train_frame.iloc[:9]['input_no_curve'].to_list())).shape"
   ]
  },
  {
   "cell_type": "code",
   "execution_count": 7,
   "metadata": {
    "collapsed": false,
    "jupyter": {
     "outputs_hidden": false
    },
    "pycharm": {
     "name": "#%%\n"
    }
   },
   "outputs": [],
   "source": [
    "class TraceRelativeDataset(Dataset):\n",
    "    def __init__(self, dataframe, curve=False):\n",
    "        self.dataframe = dataframe\n",
    "        self.curve = curve\n",
    "\n",
    "    def __len__(self):\n",
    "        return len(self.dataframe)\n",
    "\n",
    "    def __getitem__(self, idx):\n",
    "        if self.curve:\n",
    "            key=\"input\"\n",
    "        else:\n",
    "            key=\"input_no_curve\"\n",
    "        \n",
    "        try:\n",
    "            inputs = torch.tensor(np.array(self.dataframe.iloc[idx][key].to_list()), dtype=torch.float32)\n",
    "            last_pose = torch.tensor(np.array(self.dataframe.iloc[idx]['last_pose'].to_list()), dtype=torch.float32)\n",
    "            target = torch.tensor(np.array(self.dataframe.iloc[idx]['target'].to_list()), dtype=torch.float32)\n",
    "        except AttributeError as v:\n",
    "            inputs = torch.tensor(self.dataframe.iloc[idx][key], dtype=torch.float32)\n",
    "            last_pose = torch.tensor(self.dataframe.iloc[idx]['last_pose'], dtype=torch.float32)\n",
    "            target = torch.tensor(self.dataframe.iloc[idx]['target'], dtype=torch.float32)\n",
    "        return inputs, last_pose, target\n",
    "\n",
    "train_dataset = TraceRelativeDataset(train_frame, curve=False)\n",
    "test_dataset = TraceRelativeDataset(test_frame, curve=False)\n",
    "train_dataloader = DataLoader(train_dataset, batch_size=32, shuffle=True)\n",
    "test_dataloader = DataLoader(test_dataset, batch_size=32, shuffle=True)"
   ]
  },
  {
   "cell_type": "code",
   "execution_count": 8,
   "metadata": {
    "collapsed": false,
    "jupyter": {
     "outputs_hidden": false
    },
    "pycharm": {
     "name": "#%%\n"
    }
   },
   "outputs": [],
   "source": [
    "def bicycle_model_eval(inputs, last_poses):\n",
    "    # This version takes in an input of dim 5\n",
    "    BATCHES = inputs.shape[0]\n",
    "    states = []  # torch.zeros((81, 4))\n",
    "    L = 0.3302\n",
    "    TS = 0.1\n",
    "    X, Y, THETA, V = 0, 1, 2, 3\n",
    "    state = torch.zeros((BATCHES, 4,))\n",
    "    state[:,X] = last_poses[:,0]\n",
    "    state[:,Y] = last_poses[:,1]\n",
    "    state[:,THETA] = last_poses[:,2]\n",
    "    state[:,V] = inputs[:,0]\n",
    "    states.append(state)\n",
    "    for i in range(1,81):\n",
    "        # Advance bicycle model\n",
    "        state = torch.zeros((BATCHES, 4,))\n",
    "        state[:,X] = states[i-1][:,X] + (TS * states[i-1][:,V] * torch.cos(states[i-1][:,THETA]))\n",
    "        state[:,Y] = states[i-1][:,Y] + (TS * states[i-1][:,V] * torch.sin(states[i-1][:,THETA]))\n",
    "        state[:,THETA] = states[i-1][:,THETA] + (TS * (states[i-1][:,V] * torch.tan(inputs[:,1])) / L)\n",
    "        state[:,V] = states[i-1][:,V] + TS*inputs[:,2]\n",
    "        states.append(state)\n",
    "    trace = torch.dstack(states).movedim((0,1,2), (0,2,1))\n",
    "    trace = trace[:,1:,:3]\n",
    "    return trace\n",
    "\n",
    "def custom_loss_func(prediction, target):\n",
    "    loss = F.smooth_l1_loss(prediction[:,:,:2], target[:,:,:2])\n",
    "    loss += 4*F.smooth_l1_loss(prediction[:,:,2], target[:,:,2])\n",
    "    #loss += 10*output[0]**2 if output[0]<0 else 0\n",
    "    #loss += 2*torch.linalg.norm(output)**2\n",
    "    return loss\n",
    "\n",
    "def average_displacement_error(prediction, target):\n",
    "    loss = torch.linalg.norm(prediction[:,:,:2]-target[:,:,:2], dim=2)\n",
    "    ade = torch.mean(loss, dim=0)\n",
    "    return torch.mean(ade)\n",
    "\n",
    "def final_displacement_error(prediction, target):\n",
    "    loss = torch.linalg.norm(prediction[:,-1,:2]-target[:,-1,:2], dim=1)\n",
    "    return torch.mean(loss)\n",
    "\n",
    "class LSTMPredictorBicycle(nn.Module):\n",
    "    def __init__(self, input_dim=3, hidden_dim=32, control_outputs=1):\n",
    "        super(LSTMPredictorBicycle, self).__init__()\n",
    "        self.hidden_dim = hidden_dim\n",
    "        self.control_outputs = control_outputs\n",
    "\n",
    "        # The LSTM takes word embeddings as inputs, and outputs hidden states\n",
    "        # with dimensionality hidden_dim.\n",
    "        self.lstm = nn.LSTM(input_dim, hidden_dim, num_layers=4, batch_first=True)\n",
    "\n",
    "        # The linear layer that maps from hidden state space to tag space\n",
    "        self.hidden2output = nn.Sequential(\n",
    "            nn.Linear(hidden_dim, hidden_dim//2),\n",
    "            nn.ELU(),\n",
    "            nn.Linear(hidden_dim//2, hidden_dim//2),\n",
    "            nn.ELU(),\n",
    "            nn.Linear(hidden_dim//2, hidden_dim//2),\n",
    "            nn.Linear(hidden_dim//2, 1+control_outputs*2)\n",
    "        )\n",
    "\n",
    "    def forward(self, inputs):\n",
    "        lstm_out, _ = self.lstm(inputs)\n",
    "        output = self.hidden2output(lstm_out)\n",
    "        scaled_output = list()\n",
    "        scaled_output.append(F.softplus(output[:,:,0]))\n",
    "        for step in range(self.control_outputs):\n",
    "            scaled_output.append(torch.tanh(output[:,:,(step*2)+1])*np.pi)\n",
    "            scaled_output.append(output[:,:,(step*2)+2])\n",
    "        output = torch.dstack(scaled_output)\n",
    "        return output\n",
    "    \n",
    "    def predict(self, inputs, last_poses, horizon=60):\n",
    "        # Compute LSTM output\n",
    "        controls = self.forward(inputs)[:, -1]  # Take last prediction\n",
    "        last_poses = last_poses.to(DEVICE)\n",
    "        BATCHES = controls.shape[0]\n",
    "        states = []  # torch.zeros((81, 4))\n",
    "        L = 0.3302\n",
    "        TS = 0.1\n",
    "        X, Y, THETA, V = 0, 1, 2, 3\n",
    "        CDIMS = 2\n",
    "        state = torch.zeros((BATCHES, 4,), device=DEVICE)\n",
    "        state[:,X] = last_poses[:,0]\n",
    "        state[:,Y] = last_poses[:,1]\n",
    "        state[:,THETA] = last_poses[:,2]\n",
    "        state[:,V] = controls[:,0]\n",
    "        states.append(state)\n",
    "        step_length = horizon//self.control_outputs\n",
    "        for i in range(1,horizon+1):\n",
    "            # Advance bicycle model\n",
    "            step = min((i-1)//step_length, self.control_outputs-1)\n",
    "            state = torch.zeros((BATCHES, 4,), device=DEVICE)\n",
    "            state[:,X] = states[i-1][:,X] + (TS * states[i-1][:,V] * torch.cos(states[i-1][:,THETA]))\n",
    "            state[:,Y] = states[i-1][:,Y] + (TS * states[i-1][:,V] * torch.sin(states[i-1][:,THETA]))\n",
    "            state[:,THETA] = states[i-1][:,THETA] + (TS * (states[i-1][:,V] * torch.tan(controls[:,(step*CDIMS)+1])) / L)\n",
    "            state[:,V] = states[i-1][:,V] + TS*controls[:,(step*CDIMS)+2]\n",
    "            states.append(state)\n",
    "        trace = torch.dstack(states).movedim((0,1,2), (0,2,1))\n",
    "        trace = trace[:,1:,:3]\n",
    "        return trace"
   ]
  },
  {
   "cell_type": "code",
   "execution_count": 9,
   "metadata": {},
   "outputs": [
    {
     "data": {
      "text/plain": [
       "7"
      ]
     },
     "execution_count": 9,
     "metadata": {},
     "output_type": "execute_result"
    }
   ],
   "source": [
    "60//8"
   ]
  },
  {
   "cell_type": "code",
   "execution_count": 10,
   "metadata": {
    "collapsed": false,
    "jupyter": {
     "outputs_hidden": false
    },
    "pycharm": {
     "name": "#%%\n"
    }
   },
   "outputs": [],
   "source": [
    "def create_debug_plot(net, train_dataset:TraceRelativeDataset=train_dataset, test_dataset:TraceRelativeDataset=test_dataset, curvature:Curvature=Curvature.NO_CURVATURE):\n",
    "    selection = [1912, 2465, 533, 905, 277, 1665, 2395, 61, 1054]\n",
    "    inputs, last_poses, targets = train_dataset[:len(selection)]\n",
    "    inputs = torch.zeros_like(inputs, dtype=torch.float32, device=DEVICE)\n",
    "    last_poses = torch.zeros_like(last_poses, dtype=torch.float32, device=DEVICE)\n",
    "    for i, DATA_IDX in enumerate(selection):\n",
    "        data_in_train = True if DATA_IDX in train_frame.index else False\n",
    "        if data_in_train:\n",
    "            dframe = train_frame\n",
    "        else:\n",
    "            dframe = test_frame\n",
    "        if curvature is Curvature.NO_CURVATURE:\n",
    "            inputs[i] = torch.tensor(dframe.loc[DATA_IDX]['input_no_curve'], dtype=torch.float32, device=DEVICE)\n",
    "        else:\n",
    "            inputs[i] = torch.tensor(dframe.loc[DATA_IDX]['input'], dtype=torch.float32, device=DEVICE)\n",
    "        last_poses[i] = torch.tensor(dframe.loc[DATA_IDX]['last_pose'], dtype=torch.float32, device=DEVICE)\n",
    "        targets[i] = torch.tensor(dframe.loc[DATA_IDX]['target'], dtype=torch.float32, device=DEVICE)\n",
    "    outputs = net.predict(inputs, last_poses).detach().cpu().numpy()\n",
    "\n",
    "    fig, axs = plt.subplots(3,3,figsize=(10,10), dpi=300)\n",
    "    for idx, DATA_IDX in enumerate(selection):\n",
    "        data_in_train = True if DATA_IDX in train_frame.index else False\n",
    "        if data_in_train:\n",
    "            dframe = train_frame\n",
    "        else:\n",
    "            dframe = test_frame\n",
    "        linput, = axs[idx//3, idx%3].plot(dframe.loc[DATA_IDX]['input'][:,0], dframe.loc[DATA_IDX]['input'][:,1], marker='.', label=\"Input\")\n",
    "        ltarget, = axs[idx//3, idx%3].plot(dframe.loc[DATA_IDX]['target'][:,0], dframe.loc[DATA_IDX]['target'][:,1], marker='.', label=\"Target\")\n",
    "        lpred, = axs[idx//3, idx%3].plot(outputs[idx,:,0], outputs[idx,:,1], marker='x', label=\"Prediction\")\n",
    "        xlim, ylim = np.average(axs[idx//3, idx%3].get_xlim()), np.average(axs[idx//3, idx%3].get_ylim())\n",
    "        axs[idx//3, idx%3].scatter(map_x, map_y, marker=\".\", color='black')\n",
    "        axs[idx//3, idx%3].set(xlim=(xlim-3.5,xlim+3.5),\n",
    "                               ylim=(ylim-3.5,ylim+3.5),\n",
    "                               aspect=1.0,\n",
    "                               adjustable='box',\n",
    "                               yticklabels=[],\n",
    "                               xticklabels=[])\n",
    "        axs[idx//3, idx%3].set_title(\"{}:{}\".format(\"Train\" if data_in_train else \"Test\",DATA_IDX))\n",
    "    fig.suptitle(\"Manually Selected Traces\")\n",
    "    fig.legend(handles=[linput, ltarget, lpred])\n",
    "    return fig, axs"
   ]
  },
  {
   "cell_type": "code",
   "execution_count": 11,
   "metadata": {
    "collapsed": false,
    "jupyter": {
     "outputs_hidden": false
    },
    "pycharm": {
     "name": "#%%\n"
    }
   },
   "outputs": [
    {
     "data": {
      "text/plain": [
       "torch.Size([32, 10, 3])"
      ]
     },
     "metadata": {},
     "output_type": "display_data"
    },
    {
     "data": {
      "text/plain": [
       "torch.Size([32, 3])"
      ]
     },
     "metadata": {},
     "output_type": "display_data"
    },
    {
     "data": {
      "text/plain": [
       "torch.Size([32, 60, 3])"
      ]
     },
     "metadata": {},
     "output_type": "display_data"
    },
    {
     "data": {
      "text/plain": [
       "torch.Size([32, 60, 3])"
      ]
     },
     "execution_count": 11,
     "metadata": {},
     "output_type": "execute_result"
    }
   ],
   "source": [
    "net = LSTMPredictorBicycle()\n",
    "net.to(DEVICE)\n",
    "#net.load_state_dict(torch.load(\"best_simple_bicycle.pt\"))\n",
    "for input, last_pose, target in train_dataloader:\n",
    "    break;\n",
    "display(input.shape)\n",
    "display(last_pose.shape)\n",
    "display(target.shape)\n",
    "input = input.to(DEVICE)\n",
    "last_pose = last_pose.to(DEVICE)\n",
    "other_outp = net.predict(input, last_pose)\n",
    "other_outp.shape"
   ]
  },
  {
   "cell_type": "code",
   "execution_count": 12,
   "metadata": {
    "collapsed": false,
    "jupyter": {
     "outputs_hidden": false
    },
    "pycharm": {
     "name": "#%%\n"
    }
   },
   "outputs": [
    {
     "data": {
      "text/plain": [
       "0.2978215217590332"
      ]
     },
     "execution_count": 12,
     "metadata": {},
     "output_type": "execute_result"
    },
    {
     "data": {
      "image/png": "[encoded data removed]",
      "text/plain": [
       "<Figure size 3000x3000 with 9 Axes>"
      ]
     },
     "metadata": {
      "needs_background": "light"
     },
     "output_type": "display_data"
    }
   ],
   "source": [
    "import time\n",
    "start = time.time()\n",
    "create_debug_plot(net)\n",
    "end = time.time()\n",
    "end-start"
   ]
  },
  {
   "cell_type": "code",
   "execution_count": 13,
   "metadata": {
    "collapsed": false,
    "jupyter": {
     "outputs_hidden": false
    },
    "pycharm": {
     "name": "#%%\n"
    }
   },
   "outputs": [
    {
     "data": {
      "image/png": "[encoded data removed]",
      "text/plain": [
       "<Figure size 1050x1050 with 1 Axes>"
      ]
     },
     "metadata": {
      "needs_background": "light"
     },
     "output_type": "display_data"
    }
   ],
   "source": [
    "dfig, ax = plt.subplots(figsize=(7,7), dpi=150);\n",
    "ax.set_aspect(1.0, adjustable='box');\n",
    "ax.set_title(\"TEST\");\n",
    "ax.plot(other_outp[0,:,0].cpu().detach().numpy(), other_outp[0,:,1].cpu().detach().numpy(), marker='o', label='Predicted');\n",
    "ax.plot(target[0,:,0].detach().numpy(), target[0,:,1].detach().numpy(), marker='o', label='Target');\n",
    "ax.legend();"
   ]
  },
  {
   "cell_type": "code",
   "execution_count": 14,
   "metadata": {
    "collapsed": false,
    "jupyter": {
     "outputs_hidden": false
    },
    "pycharm": {
     "name": "#%%\n"
    }
   },
   "outputs": [
    {
     "data": {
      "text/plain": [
       "<matplotlib.legend.Legend at 0x7f6e143af0d0>"
      ]
     },
     "execution_count": 14,
     "metadata": {},
     "output_type": "execute_result"
    },
    {
     "data": {
      "image/png": "[encoded data removed]",
      "text/plain": [
       "<Figure size 1050x1050 with 1 Axes>"
      ]
     },
     "metadata": {
      "needs_background": "light"
     },
     "output_type": "display_data"
    }
   ],
   "source": [
    "fig, ax = plt.subplots(figsize=(7,7), dpi=150);\n",
    "ax.set_aspect(1.0, adjustable='box');\n",
    "ax.set_title(\"TEST\");\n",
    "ax.plot(other_outp[0,:,0].cpu().detach().numpy(), other_outp[0,:,1].cpu().detach().numpy(), marker='o', label='Predicted')\n",
    "ax.plot(target[0,:10,0].detach().numpy(), target[0,:10,1].detach().numpy(), marker='o', label='Target')\n",
    "ax.legend()"
   ]
  },
  {
   "cell_type": "code",
   "execution_count": 15,
   "metadata": {
    "collapsed": false,
    "jupyter": {
     "outputs_hidden": false
    },
    "pycharm": {
     "name": "#%%\n"
    }
   },
   "outputs": [
    {
     "name": "stderr",
     "output_type": "stream",
     "text": [
      "/usr/local/lib/python3.8/dist-packages/torch/nn/modules/loss.py:520: UserWarning: Using a target size (torch.Size([60, 3])) that is different to the input size (torch.Size([32, 60, 3])). This will likely lead to incorrect results due to broadcasting. Please ensure they have the same size.\n",
      "  return F.mse_loss(input, target, reduction=self.reduction)\n"
     ]
    },
    {
     "data": {
      "text/plain": [
       "tensor(543.6218, grad_fn=<MseLossBackward0>)"
      ]
     },
     "execution_count": 15,
     "metadata": {},
     "output_type": "execute_result"
    }
   ],
   "source": [
    "loss = nn.MSELoss()\n",
    "loss(other_outp,torch.tensor(train_frame.iloc[0]['target'], dtype=torch.float32, device=DEVICE))"
   ]
  },
  {
   "cell_type": "code",
   "execution_count": 22,
   "metadata": {
    "collapsed": false,
    "jupyter": {
     "outputs_hidden": false
    },
    "pycharm": {
     "name": "#%%\n"
    }
   },
   "outputs": [],
   "source": [
    "def train(control_outputs:int, curvature:Curvature, hidden_dim:int=32, epochs=100):\n",
    "    directory = f'runs/testing/bicycle-{control_outputs}-{curvature.name}-{hidden_dim}/'\n",
    "    writer = SummaryWriter(directory)\n",
    "\n",
    "    train_dataset = TraceRelativeDataset(train_frame, curve=True if curvature is Curvature.CURVATURE else False)\n",
    "    test_dataset = TraceRelativeDataset(test_frame, curve=True if curvature is Curvature.CURVATURE else False)\n",
    "    train_dataloader = DataLoader(train_dataset, batch_size=32, shuffle=True)\n",
    "    test_dataloader = DataLoader(test_dataset, batch_size=32, shuffle=True)\n",
    "    # Training Loop\n",
    "    torch.autograd.set_detect_anomaly(True)\n",
    "    net = LSTMPredictorBicycle(input_dim=9 if curvature is Curvature.CURVATURE else 3,\n",
    "                               hidden_dim=hidden_dim,\n",
    "                               control_outputs=control_outputs)\n",
    "    net.to(DEVICE)\n",
    "    pytorch_total_params = sum(p.numel() for p in net.parameters())\n",
    "    print(pytorch_total_params)\n",
    "    optimizer = torch.optim.Adam(net.parameters(), lr=1e-3)\n",
    "    train_losses = list()\n",
    "    test_losses = list()\n",
    "    train_ades, test_ades = list(), list()\n",
    "    train_fdes, test_fdes = list(), list()\n",
    "\n",
    "    for epoch in range(epochs):\n",
    "        cum_train_loss = 0.0\n",
    "        net.train()\n",
    "        i=0\n",
    "        fde, ade = list(), list()\n",
    "\n",
    "        for input_data, last_pose, target_data in tqdm(train_dataloader):\n",
    "            net.zero_grad()\n",
    "            input_data = input_data.to(DEVICE)\n",
    "            last_pose = last_pose.to(DEVICE)\n",
    "            outp = net.predict(input_data, last_pose)\n",
    "            target_data = target_data.to(DEVICE)\n",
    "            loss = custom_loss_func(outp, target_data)\n",
    "            loss.backward()\n",
    "            optimizer.step()\n",
    "            with torch.no_grad():\n",
    "                fde.append(final_displacement_error(outp, target_data).cpu().numpy())\n",
    "                ade.append(average_displacement_error(outp, target_data).cpu().numpy())\n",
    "            cum_train_loss += loss.item()\n",
    "\n",
    "        train_fig, train_ax = create_debug_plot(net, train_dataset, test_dataset, curvature)\n",
    "        cum_train_loss /= len(train_dataset)\n",
    "        train_losses.append(cum_train_loss)\n",
    "        ade, fde = np.mean(ade), np.mean(fde)\n",
    "        writer.add_scalar(\"ADE/train\", ade, epoch)\n",
    "        writer.add_scalar(\"FDE/train\", fde, epoch)\n",
    "        train_ades.append(ade)\n",
    "        train_fdes.append(fde)\n",
    "        cum_test_loss = 0.0\n",
    "        fde, ade = list(), list()\n",
    "        net.eval()\n",
    "        with torch.no_grad():\n",
    "            for input_data, last_pose, target_data in tqdm(test_dataloader):\n",
    "                input_data = input_data.to(DEVICE)\n",
    "                last_pose = last_pose.to(DEVICE)\n",
    "                outp = net.predict(input_data, last_pose)\n",
    "                target_data = target_data.to(DEVICE)\n",
    "                loss = custom_loss_func(outp, target_data)\n",
    "                cum_test_loss += loss.item()\n",
    "                fde.append(final_displacement_error(outp, target_data).cpu().numpy())\n",
    "                ade.append(average_displacement_error(outp, target_data).cpu().numpy())\n",
    "            test_fig, test_ax = create_debug_plot(net, train_dataset, test_dataset, curvature)\n",
    "        cum_test_loss /= len(test_dataset)\n",
    "        test_losses.append(cum_test_loss)\n",
    "        ade, fde = np.mean(ade), np.mean(fde)\n",
    "        writer.add_scalar(\"ADE/test\", ade, epoch)\n",
    "        writer.add_scalar(\"FDE/test\", fde, epoch)\n",
    "        test_ades.append(ade)\n",
    "        test_fdes.append(fde)\n",
    "        if cum_test_loss <= min(test_losses):\n",
    "            torch.save(net.state_dict(), f\"{directory}/best_model.pt\")\n",
    "        writer.add_scalar(\"loss/train\", cum_train_loss, epoch)\n",
    "        writer.add_scalar(\"loss/test\", cum_test_loss, epoch)\n",
    "        writer.add_figure(\"train/example_fig\", train_fig, epoch)\n",
    "        writer.add_figure(\"test/example_fig\", test_fig, epoch)\n",
    "        tqdm.write(f\"Epoch {epoch} | Train Loss: {cum_train_loss} | Test Loss: {cum_test_loss}\")\n",
    "    return {\n",
    "        'control_outputs': control_ouptut,\n",
    "        'curvature': curvature,\n",
    "        'hidden_dims': hidden_dims,\n",
    "        'training_loss': cum_train_loss,\n",
    "        'test_loss': cum_test_loss,\n",
    "        'ade': ade,\n",
    "        'fde': fde,\n",
    "        'params': pytorch_total_params\n",
    "    }\n",
    "\n",
    "def train_catch(*args, **kwargs):\n",
    "    import traceback\n",
    "    try:\n",
    "        train(*args, **kwargs)\n",
    "    except Exception as e:\n",
    "        print(\"Exception Occurred:\")\n",
    "        print(e)\n",
    "        traceback.print_exc()\n",
    "        print(\"--------------------\")"
   ]
  },
  {
   "cell_type": "code",
   "execution_count": 23,
   "metadata": {
    "collapsed": false,
    "jupyter": {
     "outputs_hidden": false
    },
    "pycharm": {
     "name": "#%%\n"
    }
   },
   "outputs": [],
   "source": [
    "hyperparameters = {\n",
    "    'control_outputs': [1,2,4,8,10,15,20,30],\n",
    "    'curvature': [Curvature.NO_CURVATURE, Curvature.CURVATURE],\n",
    "    'hidden_dims': [32, 16, 64],\n",
    "}\n",
    "hyp_packages = list()\n",
    "for control_ouptut in hyperparameters['control_outputs']:\n",
    "    for curvature in hyperparameters['curvature']:\n",
    "        for hidden_dims in hyperparameters['hidden_dims']:\n",
    "            hyp_packages.append({\n",
    "                'control_outputs': control_ouptut,\n",
    "                'curvature': curvature,\n",
    "                'hidden_dims': hidden_dims,})"
   ]
  },
  {
   "cell_type": "code",
   "execution_count": 27,
   "metadata": {},
   "outputs": [
    {
     "name": "stdout",
     "output_type": "stream",
     "text": [
      "8617\n"
     ]
    },
    {
     "name": "stderr",
     "output_type": "stream",
     "text": [
      "  3%|█████▊                                                                                                                                                                                                             | 2/72 [00:01<00:59,  1.17it/s]\n"
     ]
    },
    {
     "ename": "KeyboardInterrupt",
     "evalue": "",
     "output_type": "error",
     "traceback": [
      "\u001b[0;31m---------------------------------------------------------------------------\u001b[0m",
      "\u001b[0;31mKeyboardInterrupt\u001b[0m                         Traceback (most recent call last)",
      "Input \u001b[0;32mIn [27]\u001b[0m, in \u001b[0;36m<cell line: 1>\u001b[0;34m()\u001b[0m\n\u001b[0;32m----> 1\u001b[0m \u001b[43mtrain\u001b[49m\u001b[43m(\u001b[49m\u001b[38;5;241;43m4\u001b[39;49m\u001b[43m,\u001b[49m\u001b[43m \u001b[49m\u001b[43mCurvature\u001b[49m\u001b[38;5;241;43m.\u001b[39;49m\u001b[43mCURVATURE\u001b[49m\u001b[43m,\u001b[49m\u001b[43m \u001b[49m\u001b[38;5;241;43m16\u001b[39;49m\u001b[43m,\u001b[49m\u001b[43m \u001b[49m\u001b[38;5;241;43m1\u001b[39;49m\u001b[43m)\u001b[49m\n",
      "Input \u001b[0;32mIn [22]\u001b[0m, in \u001b[0;36mtrain\u001b[0;34m(control_outputs, curvature, hidden_dim, epochs)\u001b[0m\n\u001b[1;32m     31\u001b[0m input_data \u001b[38;5;241m=\u001b[39m input_data\u001b[38;5;241m.\u001b[39mto(DEVICE)\n\u001b[1;32m     32\u001b[0m last_pose \u001b[38;5;241m=\u001b[39m last_pose\u001b[38;5;241m.\u001b[39mto(DEVICE)\n\u001b[0;32m---> 33\u001b[0m outp \u001b[38;5;241m=\u001b[39m \u001b[43mnet\u001b[49m\u001b[38;5;241;43m.\u001b[39;49m\u001b[43mpredict\u001b[49m\u001b[43m(\u001b[49m\u001b[43minput_data\u001b[49m\u001b[43m,\u001b[49m\u001b[43m \u001b[49m\u001b[43mlast_pose\u001b[49m\u001b[43m)\u001b[49m\n\u001b[1;32m     34\u001b[0m target_data \u001b[38;5;241m=\u001b[39m target_data\u001b[38;5;241m.\u001b[39mto(DEVICE)\n\u001b[1;32m     35\u001b[0m loss \u001b[38;5;241m=\u001b[39m custom_loss_func(outp, target_data)\n",
      "Input \u001b[0;32mIn [8]\u001b[0m, in \u001b[0;36mLSTMPredictorBicycle.predict\u001b[0;34m(self, inputs, last_poses, horizon)\u001b[0m\n\u001b[1;32m     73\u001b[0m \u001b[38;5;28;01mdef\u001b[39;00m \u001b[38;5;21mpredict\u001b[39m(\u001b[38;5;28mself\u001b[39m, inputs, last_poses, horizon\u001b[38;5;241m=\u001b[39m\u001b[38;5;241m60\u001b[39m):\n\u001b[1;32m     74\u001b[0m     \u001b[38;5;66;03m# Compute LSTM output\u001b[39;00m\n\u001b[0;32m---> 75\u001b[0m     controls \u001b[38;5;241m=\u001b[39m \u001b[38;5;28;43mself\u001b[39;49m\u001b[38;5;241;43m.\u001b[39;49m\u001b[43mforward\u001b[49m\u001b[43m(\u001b[49m\u001b[43minputs\u001b[49m\u001b[43m)\u001b[49m[:, \u001b[38;5;241m-\u001b[39m\u001b[38;5;241m1\u001b[39m]  \u001b[38;5;66;03m# Take last prediction\u001b[39;00m\n\u001b[1;32m     76\u001b[0m     last_poses \u001b[38;5;241m=\u001b[39m last_poses\u001b[38;5;241m.\u001b[39mto(DEVICE)\n\u001b[1;32m     77\u001b[0m     BATCHES \u001b[38;5;241m=\u001b[39m controls\u001b[38;5;241m.\u001b[39mshape[\u001b[38;5;241m0\u001b[39m]\n",
      "Input \u001b[0;32mIn [8]\u001b[0m, in \u001b[0;36mLSTMPredictorBicycle.forward\u001b[0;34m(self, inputs)\u001b[0m\n\u001b[1;32m     62\u001b[0m \u001b[38;5;28;01mdef\u001b[39;00m \u001b[38;5;21mforward\u001b[39m(\u001b[38;5;28mself\u001b[39m, inputs):\n\u001b[0;32m---> 63\u001b[0m     lstm_out, _ \u001b[38;5;241m=\u001b[39m \u001b[38;5;28;43mself\u001b[39;49m\u001b[38;5;241;43m.\u001b[39;49m\u001b[43mlstm\u001b[49m\u001b[43m(\u001b[49m\u001b[43minputs\u001b[49m\u001b[43m)\u001b[49m\n\u001b[1;32m     64\u001b[0m     output \u001b[38;5;241m=\u001b[39m \u001b[38;5;28mself\u001b[39m\u001b[38;5;241m.\u001b[39mhidden2output(lstm_out)\n\u001b[1;32m     65\u001b[0m     scaled_output \u001b[38;5;241m=\u001b[39m \u001b[38;5;28mlist\u001b[39m()\n",
      "File \u001b[0;32m/usr/local/lib/python3.8/dist-packages/torch/nn/modules/module.py:1102\u001b[0m, in \u001b[0;36mModule._call_impl\u001b[0;34m(self, *input, **kwargs)\u001b[0m\n\u001b[1;32m   1098\u001b[0m \u001b[38;5;66;03m# If we don't have any hooks, we want to skip the rest of the logic in\u001b[39;00m\n\u001b[1;32m   1099\u001b[0m \u001b[38;5;66;03m# this function, and just call forward.\u001b[39;00m\n\u001b[1;32m   1100\u001b[0m \u001b[38;5;28;01mif\u001b[39;00m \u001b[38;5;129;01mnot\u001b[39;00m (\u001b[38;5;28mself\u001b[39m\u001b[38;5;241m.\u001b[39m_backward_hooks \u001b[38;5;129;01mor\u001b[39;00m \u001b[38;5;28mself\u001b[39m\u001b[38;5;241m.\u001b[39m_forward_hooks \u001b[38;5;129;01mor\u001b[39;00m \u001b[38;5;28mself\u001b[39m\u001b[38;5;241m.\u001b[39m_forward_pre_hooks \u001b[38;5;129;01mor\u001b[39;00m _global_backward_hooks\n\u001b[1;32m   1101\u001b[0m         \u001b[38;5;129;01mor\u001b[39;00m _global_forward_hooks \u001b[38;5;129;01mor\u001b[39;00m _global_forward_pre_hooks):\n\u001b[0;32m-> 1102\u001b[0m     \u001b[38;5;28;01mreturn\u001b[39;00m \u001b[43mforward_call\u001b[49m\u001b[43m(\u001b[49m\u001b[38;5;241;43m*\u001b[39;49m\u001b[38;5;28;43minput\u001b[39;49m\u001b[43m,\u001b[49m\u001b[43m \u001b[49m\u001b[38;5;241;43m*\u001b[39;49m\u001b[38;5;241;43m*\u001b[39;49m\u001b[43mkwargs\u001b[49m\u001b[43m)\u001b[49m\n\u001b[1;32m   1103\u001b[0m \u001b[38;5;66;03m# Do not call functions when jit is used\u001b[39;00m\n\u001b[1;32m   1104\u001b[0m full_backward_hooks, non_full_backward_hooks \u001b[38;5;241m=\u001b[39m [], []\n",
      "File \u001b[0;32m/usr/local/lib/python3.8/dist-packages/torch/nn/modules/rnn.py:691\u001b[0m, in \u001b[0;36mLSTM.forward\u001b[0;34m(self, input, hx)\u001b[0m\n\u001b[1;32m    689\u001b[0m \u001b[38;5;28mself\u001b[39m\u001b[38;5;241m.\u001b[39mcheck_forward_args(\u001b[38;5;28minput\u001b[39m, hx, batch_sizes)\n\u001b[1;32m    690\u001b[0m \u001b[38;5;28;01mif\u001b[39;00m batch_sizes \u001b[38;5;129;01mis\u001b[39;00m \u001b[38;5;28;01mNone\u001b[39;00m:\n\u001b[0;32m--> 691\u001b[0m     result \u001b[38;5;241m=\u001b[39m \u001b[43m_VF\u001b[49m\u001b[38;5;241;43m.\u001b[39;49m\u001b[43mlstm\u001b[49m\u001b[43m(\u001b[49m\u001b[38;5;28;43minput\u001b[39;49m\u001b[43m,\u001b[49m\u001b[43m \u001b[49m\u001b[43mhx\u001b[49m\u001b[43m,\u001b[49m\u001b[43m \u001b[49m\u001b[38;5;28;43mself\u001b[39;49m\u001b[38;5;241;43m.\u001b[39;49m\u001b[43m_flat_weights\u001b[49m\u001b[43m,\u001b[49m\u001b[43m \u001b[49m\u001b[38;5;28;43mself\u001b[39;49m\u001b[38;5;241;43m.\u001b[39;49m\u001b[43mbias\u001b[49m\u001b[43m,\u001b[49m\u001b[43m \u001b[49m\u001b[38;5;28;43mself\u001b[39;49m\u001b[38;5;241;43m.\u001b[39;49m\u001b[43mnum_layers\u001b[49m\u001b[43m,\u001b[49m\n\u001b[1;32m    692\u001b[0m \u001b[43m                      \u001b[49m\u001b[38;5;28;43mself\u001b[39;49m\u001b[38;5;241;43m.\u001b[39;49m\u001b[43mdropout\u001b[49m\u001b[43m,\u001b[49m\u001b[43m \u001b[49m\u001b[38;5;28;43mself\u001b[39;49m\u001b[38;5;241;43m.\u001b[39;49m\u001b[43mtraining\u001b[49m\u001b[43m,\u001b[49m\u001b[43m \u001b[49m\u001b[38;5;28;43mself\u001b[39;49m\u001b[38;5;241;43m.\u001b[39;49m\u001b[43mbidirectional\u001b[49m\u001b[43m,\u001b[49m\u001b[43m \u001b[49m\u001b[38;5;28;43mself\u001b[39;49m\u001b[38;5;241;43m.\u001b[39;49m\u001b[43mbatch_first\u001b[49m\u001b[43m)\u001b[49m\n\u001b[1;32m    693\u001b[0m \u001b[38;5;28;01melse\u001b[39;00m:\n\u001b[1;32m    694\u001b[0m     result \u001b[38;5;241m=\u001b[39m _VF\u001b[38;5;241m.\u001b[39mlstm(\u001b[38;5;28minput\u001b[39m, batch_sizes, hx, \u001b[38;5;28mself\u001b[39m\u001b[38;5;241m.\u001b[39m_flat_weights, \u001b[38;5;28mself\u001b[39m\u001b[38;5;241m.\u001b[39mbias,\n\u001b[1;32m    695\u001b[0m                       \u001b[38;5;28mself\u001b[39m\u001b[38;5;241m.\u001b[39mnum_layers, \u001b[38;5;28mself\u001b[39m\u001b[38;5;241m.\u001b[39mdropout, \u001b[38;5;28mself\u001b[39m\u001b[38;5;241m.\u001b[39mtraining, \u001b[38;5;28mself\u001b[39m\u001b[38;5;241m.\u001b[39mbidirectional)\n",
      "File \u001b[0;32m/usr/lib/python3.8/traceback.py:197\u001b[0m, in \u001b[0;36mformat_stack\u001b[0;34m(f, limit)\u001b[0m\n\u001b[1;32m    195\u001b[0m \u001b[38;5;28;01mif\u001b[39;00m f \u001b[38;5;129;01mis\u001b[39;00m \u001b[38;5;28;01mNone\u001b[39;00m:\n\u001b[1;32m    196\u001b[0m     f \u001b[38;5;241m=\u001b[39m sys\u001b[38;5;241m.\u001b[39m_getframe()\u001b[38;5;241m.\u001b[39mf_back\n\u001b[0;32m--> 197\u001b[0m \u001b[38;5;28;01mreturn\u001b[39;00m \u001b[43mformat_list\u001b[49m\u001b[43m(\u001b[49m\u001b[43mextract_stack\u001b[49m\u001b[43m(\u001b[49m\u001b[43mf\u001b[49m\u001b[43m,\u001b[49m\u001b[43m \u001b[49m\u001b[43mlimit\u001b[49m\u001b[38;5;241;43m=\u001b[39;49m\u001b[43mlimit\u001b[49m\u001b[43m)\u001b[49m\u001b[43m)\u001b[49m\n",
      "File \u001b[0;32m/usr/lib/python3.8/traceback.py:39\u001b[0m, in \u001b[0;36mformat_list\u001b[0;34m(extracted_list)\u001b[0m\n\u001b[1;32m     27\u001b[0m \u001b[38;5;28;01mdef\u001b[39;00m \u001b[38;5;21mformat_list\u001b[39m(extracted_list):\n\u001b[1;32m     28\u001b[0m     \u001b[38;5;124;03m\"\"\"Format a list of tuples or FrameSummary objects for printing.\u001b[39;00m\n\u001b[1;32m     29\u001b[0m \n\u001b[1;32m     30\u001b[0m \u001b[38;5;124;03m    Given a list of tuples or FrameSummary objects as returned by\u001b[39;00m\n\u001b[0;32m   (...)\u001b[0m\n\u001b[1;32m     37\u001b[0m \u001b[38;5;124;03m    whose source text line is not None.\u001b[39;00m\n\u001b[1;32m     38\u001b[0m \u001b[38;5;124;03m    \"\"\"\u001b[39;00m\n\u001b[0;32m---> 39\u001b[0m     \u001b[38;5;28;01mreturn\u001b[39;00m \u001b[43mStackSummary\u001b[49m\u001b[38;5;241;43m.\u001b[39;49m\u001b[43mfrom_list\u001b[49m\u001b[43m(\u001b[49m\u001b[43mextracted_list\u001b[49m\u001b[43m)\u001b[49m\u001b[38;5;241;43m.\u001b[39;49m\u001b[43mformat\u001b[49m\u001b[43m(\u001b[49m\u001b[43m)\u001b[49m\n",
      "File \u001b[0;32m/usr/lib/python3.8/traceback.py:425\u001b[0m, in \u001b[0;36mStackSummary.format\u001b[0;34m(self)\u001b[0m\n\u001b[1;32m    422\u001b[0m row \u001b[38;5;241m=\u001b[39m []\n\u001b[1;32m    423\u001b[0m row\u001b[38;5;241m.\u001b[39mappend(\u001b[38;5;124m'\u001b[39m\u001b[38;5;124m  File \u001b[39m\u001b[38;5;124m\"\u001b[39m\u001b[38;5;132;01m{}\u001b[39;00m\u001b[38;5;124m\"\u001b[39m\u001b[38;5;124m, line \u001b[39m\u001b[38;5;132;01m{}\u001b[39;00m\u001b[38;5;124m, in \u001b[39m\u001b[38;5;132;01m{}\u001b[39;00m\u001b[38;5;130;01m\\n\u001b[39;00m\u001b[38;5;124m'\u001b[39m\u001b[38;5;241m.\u001b[39mformat(\n\u001b[1;32m    424\u001b[0m     frame\u001b[38;5;241m.\u001b[39mfilename, frame\u001b[38;5;241m.\u001b[39mlineno, frame\u001b[38;5;241m.\u001b[39mname))\n\u001b[0;32m--> 425\u001b[0m \u001b[38;5;28;01mif\u001b[39;00m \u001b[43mframe\u001b[49m\u001b[38;5;241;43m.\u001b[39;49m\u001b[43mline\u001b[49m:\n\u001b[1;32m    426\u001b[0m     row\u001b[38;5;241m.\u001b[39mappend(\u001b[38;5;124m'\u001b[39m\u001b[38;5;124m    \u001b[39m\u001b[38;5;132;01m{}\u001b[39;00m\u001b[38;5;130;01m\\n\u001b[39;00m\u001b[38;5;124m'\u001b[39m\u001b[38;5;241m.\u001b[39mformat(frame\u001b[38;5;241m.\u001b[39mline\u001b[38;5;241m.\u001b[39mstrip()))\n\u001b[1;32m    427\u001b[0m \u001b[38;5;28;01mif\u001b[39;00m frame\u001b[38;5;241m.\u001b[39mlocals:\n",
      "\u001b[0;31mKeyboardInterrupt\u001b[0m: "
     ]
    }
   ],
   "source": [
    "train(4, Curvature.CURVATURE, 16, 1)"
   ]
  },
  {
   "cell_type": "code",
   "execution_count": 36,
   "metadata": {
    "collapsed": false,
    "jupyter": {
     "outputs_hidden": false
    },
    "pycharm": {
     "name": "#%%\n"
    }
   },
   "outputs": [
    {
     "data": {
      "text/plain": [
       "31203"
      ]
     },
     "execution_count": 36,
     "metadata": {},
     "output_type": "execute_result"
    }
   ],
   "source": [
    "pytorch_total_params = sum(p.numel() for p in net.parameters())\n",
    "pytorch_total_paramspytorch_total_params"
   ]
  },
  {
   "cell_type": "code",
   "execution_count": null,
   "metadata": {
    "collapsed": true,
    "jupyter": {
     "outputs_hidden": true
    },
    "pycharm": {
     "is_executing": true,
     "name": "#%%\n"
    },
    "tags": []
   },
   "outputs": [
    {
     "name": "stderr",
     "output_type": "stream",
     "text": [
      "100%|██████████| 72/72 [01:43<00:00,  1.44s/it]\n",
      " 39%|███▉      | 7/18 [00:00<00:00, 30.53it/s]\n",
      " 89%|████████▉ | 16/18 [00:00<00:00, 32.36it/s]\n",
      "  0%|          | 0/18 [00:00<?, ?it/s]\n",
      "100%|██████████| 18/18 [00:00<00:00, 33.99it/s]\n",
      "  0%|          | 0/72 [00:00<?, ?it/s]"
     ]
    },
    {
     "name": "stdout",
     "output_type": "stream",
     "text": [
      "Epoch 0 | Train Loss: 0.04218259422702441 | Test Loss: 0.028661650204513636\n"
     ]
    },
    {
     "name": "stderr",
     "output_type": "stream",
     "text": [
      "\n",
      "  0%|          | 0/72 [00:00<?, ?it/s]"
     ]
    },
    {
     "name": "stdout",
     "output_type": "stream",
     "text": [
      "Epoch 0 | Train Loss: 0.027430709043629372 | Test Loss: 0.02828391884557075\n"
     ]
    },
    {
     "name": "stderr",
     "output_type": "stream",
     "text": [
      "  1%|▏         | 1/72 [00:00<00:47,  1.50it/s]\n",
      "  0%|          | 0/72 [00:00<?, ?it/s]\n",
      "  0%|          | 0/72 [00:00<?, ?it/s]"
     ]
    },
    {
     "name": "stdout",
     "output_type": "stream",
     "text": [
      "Epoch 0 | Train Loss: 0.07286921075563861 | Test Loss: 0.028794753779139783\n",
      "Epoch 0 | Train Loss: 0.09664336819166106 | Test Loss: 0.033180831362389855\n"
     ]
    },
    {
     "name": "stderr",
     "output_type": "stream",
     "text": [
      " 99%|█████████▊| 71/72 [01:34<00:01,  1.25s/it]\n",
      "100%|██████████| 72/72 [01:35<00:00,  1.32s/it]\n",
      "100%|██████████| 18/18 [00:00<00:00, 34.84it/s]\n",
      "  0%|          | 0/18 [00:00<?, ?it/s]\n",
      "100%|██████████| 18/18 [00:00<00:00, 34.09it/s]\n",
      "  0%|          | 0/72 [00:00<?, ?it/s]"
     ]
    },
    {
     "name": "stdout",
     "output_type": "stream",
     "text": [
      "Epoch 1 | Train Loss: 0.02720381170802537 | Test Loss: 0.02844149640036954\n"
     ]
    },
    {
     "name": "stderr",
     "output_type": "stream",
     "text": [
      "  3%|▎         | 2/72 [00:01<00:37,  1.89it/s]\n",
      "  0%|          | 0/72 [00:00<?, ?it/s]"
     ]
    },
    {
     "name": "stdout",
     "output_type": "stream",
     "text": [
      "Epoch 1 | Train Loss: 0.02696778862490331 | Test Loss: 0.028343694168142974\n"
     ]
    },
    {
     "name": "stderr",
     "output_type": "stream",
     "text": [
      "  4%|▍         | 3/72 [00:01<00:38,  1.78it/s]\n",
      "  0%|          | 0/72 [00:00<?, ?it/s]\n",
      "  1%|▏         | 1/72 [00:00<00:46,  1.53it/s]"
     ]
    },
    {
     "name": "stdout",
     "output_type": "stream",
     "text": [
      "Epoch 1 | Train Loss: 0.026679798316608605 | Test Loss: 0.0277699542671649\n",
      "Epoch 1 | Train Loss: 0.02845196155013984 | Test Loss: 0.029075532892925873\n"
     ]
    },
    {
     "name": "stderr",
     "output_type": "stream",
     "text": [
      " 97%|█████████▋| 70/72 [01:32<00:02,  1.29s/it]\n",
      "100%|██████████| 72/72 [01:35<00:00,  1.33s/it]\n",
      "  0%|          | 0/18 [00:00<?, ?it/s]\n",
      " 22%|██▏       | 4/18 [00:00<00:00, 32.84it/s]\n",
      " 44%|████▍     | 8/18 [00:00<00:00, 32.01it/s]"
     ]
    },
    {
     "name": "stdout",
     "output_type": "stream",
     "text": [
      "Epoch 2 | Train Loss: 0.026977901388247773 | Test Loss: 0.028080711787980463\n"
     ]
    },
    {
     "name": "stderr",
     "output_type": "stream",
     "text": [
      " 67%|██████▋   | 12/18 [00:00<00:00, 32.68it/s]\n",
      "  6%|▌         | 4/72 [00:02<00:37,  1.84it/s]]\n",
      "  0%|          | 0/72 [00:00<?, ?it/s]\n",
      "  0%|          | 0/72 [00:00<?, ?it/s]"
     ]
    },
    {
     "name": "stdout",
     "output_type": "stream",
     "text": [
      "Epoch 2 | Train Loss: 0.02634957192755336 | Test Loss: 0.027295711346798472\n",
      "Epoch 2 | Train Loss: 0.026854331953876646 | Test Loss: 0.02822428483179667\n"
     ]
    },
    {
     "name": "stderr",
     "output_type": "stream",
     "text": [
      "  7%|▋         | 5/72 [00:02<00:39,  1.70it/s]\n",
      "  0%|          | 0/72 [00:00<?, ?it/s]"
     ]
    },
    {
     "name": "stdout",
     "output_type": "stream",
     "text": [
      "Epoch 2 | Train Loss: 0.02760642495080764 | Test Loss: 0.028836001771398716\n"
     ]
    },
    {
     "name": "stderr",
     "output_type": "stream",
     "text": [
      " 94%|█████████▍| 68/72 [01:30<00:05,  1.28s/it]\n",
      " 97%|█████████▋| 70/72 [01:32<00:02,  1.06s/it]\n",
      "  0%|          | 0/72 [00:00<?, ?it/s]"
     ]
    },
    {
     "name": "stdout",
     "output_type": "stream",
     "text": [
      "Epoch 3 | Train Loss: 0.026662429432173482 | Test Loss: 0.0275331681025111\n"
     ]
    },
    {
     "name": "stderr",
     "output_type": "stream",
     "text": [
      "  3%|▎         | 2/72 [00:02<01:19,  1.14s/it]]\n",
      " 22%|██▏       | 4/18 [00:00<00:00, 33.29it/s]\n",
      " 67%|██████▋   | 12/18 [00:00<00:00, 34.93it/s]\n",
      "  8%|▊         | 6/72 [00:04<00:42,  1.55it/s]]"
     ]
    },
    {
     "name": "stdout",
     "output_type": "stream",
     "text": [
      "Epoch 3 | Train Loss: 0.025982459892173314 | Test Loss: 0.027019217946670122\n"
     ]
    },
    {
     "name": "stderr",
     "output_type": "stream",
     "text": [
      "\n",
      "  0%|          | 0/72 [00:00<?, ?it/s]\n",
      " 10%|▉         | 7/72 [00:05<00:41,  1.56it/s]"
     ]
    },
    {
     "name": "stdout",
     "output_type": "stream",
     "text": [
      "Epoch 3 | Train Loss: 0.026800091492479826 | Test Loss: 0.028124050159628194\n"
     ]
    },
    {
     "name": "stderr",
     "output_type": "stream",
     "text": [
      "\n",
      "  0%|          | 0/72 [00:00<?, ?it/s]"
     ]
    },
    {
     "name": "stdout",
     "output_type": "stream",
     "text": [
      "Epoch 3 | Train Loss: 0.027532313692243487 | Test Loss: 0.029332880448136065\n"
     ]
    },
    {
     "name": "stderr",
     "output_type": "stream",
     "text": [
      " 92%|█████████▏| 66/72 [01:27<00:07,  1.27s/it]\n",
      " 94%|█████████▍| 68/72 [01:29<00:04,  1.21s/it]"
     ]
    },
    {
     "name": "stdout",
     "output_type": "stream",
     "text": [
      "Epoch 4 | Train Loss: 0.026316900044148845 | Test Loss: 0.02771959841872255\n"
     ]
    },
    {
     "name": "stderr",
     "output_type": "stream",
     "text": [
      "\n",
      " 99%|█████████▊| 71/72 [01:34<00:01,  1.19s/it]\n",
      "100%|██████████| 72/72 [01:35<00:00,  1.32s/it]\n",
      " 67%|██████▋   | 12/18 [00:00<00:00, 34.50it/s]\n",
      " 10%|▉         | 7/72 [00:07<00:54,  1.20it/s]]\n",
      "  0%|          | 0/72 [00:00<?, ?it/s]"
     ]
    },
    {
     "name": "stdout",
     "output_type": "stream",
     "text": [
      "Epoch 4 | Train Loss: 0.02577602717666187 | Test Loss: 0.02684573413959394\n"
     ]
    },
    {
     "name": "stderr",
     "output_type": "stream",
     "text": [
      "  1%|▏         | 1/72 [00:00<00:47,  1.50it/s]\n",
      " 12%|█▎        | 9/72 [00:08<00:44,  1.41it/s]"
     ]
    },
    {
     "name": "stdout",
     "output_type": "stream",
     "text": [
      "Epoch 4 | Train Loss: 0.026706005369744334 | Test Loss: 0.027973533763239782\n"
     ]
    },
    {
     "name": "stderr",
     "output_type": "stream",
     "text": [
      "\n",
      "  3%|▎         | 2/72 [00:01<00:48,  1.44it/s]"
     ]
    },
    {
     "name": "stdout",
     "output_type": "stream",
     "text": [
      "Epoch 4 | Train Loss: 0.02742285232062085 | Test Loss: 0.028649555389872856\n"
     ]
    },
    {
     "name": "stderr",
     "output_type": "stream",
     "text": [
      " 90%|█████████ | 65/72 [01:25<00:09,  1.32s/it]\n",
      " 92%|█████████▏| 66/72 [01:26<00:06,  1.06s/it]\n",
      "  0%|          | 0/72 [00:00<?, ?it/s]"
     ]
    },
    {
     "name": "stdout",
     "output_type": "stream",
     "text": [
      "Epoch 5 | Train Loss: 0.025826135965842562 | Test Loss: 0.0271143965009186\n"
     ]
    },
    {
     "name": "stderr",
     "output_type": "stream",
     "text": [
      " 99%|█████████▊| 71/72 [01:33<00:01,  1.28s/it]\n",
      "  8%|▊         | 6/72 [00:07<01:16,  1.15s/it]]\n",
      " 22%|██▏       | 4/18 [00:00<00:00, 33.00it/s]\n",
      " 11%|█         | 8/72 [00:08<00:55,  1.15it/s]]\n",
      "  0%|          | 0/72 [00:00<?, ?it/s]"
     ]
    },
    {
     "name": "stdout",
     "output_type": "stream",
     "text": [
      "Epoch 5 | Train Loss: 0.02545756565894022 | Test Loss: 0.026610620856647275\n"
     ]
    },
    {
     "name": "stderr",
     "output_type": "stream",
     "text": [
      "  1%|▏         | 1/72 [00:00<00:53,  1.33it/s]\n",
      "  0%|          | 0/72 [00:00<?, ?it/s]\n",
      "  3%|▎         | 2/72 [00:01<00:59,  1.17it/s]]"
     ]
    },
    {
     "name": "stdout",
     "output_type": "stream",
     "text": [
      "Epoch 5 | Train Loss: 0.026610630312748414 | Test Loss: 0.027870945386692055\n",
      "Epoch 5 | Train Loss: 0.027243999960135625 | Test Loss: 0.028488198592741456\n"
     ]
    },
    {
     "name": "stderr",
     "output_type": "stream",
     "text": [
      " 88%|████████▊ | 63/72 [01:24<00:11,  1.25s/it]\n",
      " 90%|█████████ | 65/72 [01:26<00:08,  1.19s/it]\n",
      " 93%|█████████▎| 67/72 [01:28<00:06,  1.21s/it]"
     ]
    },
    {
     "name": "stdout",
     "output_type": "stream",
     "text": [
      "Epoch 6 | Train Loss: 0.02587084967212559 | Test Loss: 0.027223517432705395\n"
     ]
    },
    {
     "name": "stderr",
     "output_type": "stream",
     "text": [
      " 99%|█████████▊| 71/72 [01:34<00:01,  1.28s/it]\n",
      " 10%|▉         | 7/72 [00:08<01:12,  1.12s/it]]\n",
      "  0%|          | 0/18 [00:00<?, ?it/s]\n",
      " 12%|█▎        | 9/72 [00:10<00:55,  1.14it/s]]\n",
      "  0%|          | 0/72 [00:00<?, ?it/s]"
     ]
    },
    {
     "name": "stdout",
     "output_type": "stream",
     "text": [
      "Epoch 6 | Train Loss: 0.02541922929848048 | Test Loss: 0.02703985404352554\n"
     ]
    },
    {
     "name": "stderr",
     "output_type": "stream",
     "text": [
      "  3%|▎         | 2/72 [00:01<00:44,  1.58it/s]]\n",
      "  0%|          | 0/72 [00:00<?, ?it/s]\n",
      "  0%|          | 0/72 [00:00<?, ?it/s]"
     ]
    },
    {
     "name": "stdout",
     "output_type": "stream",
     "text": [
      "Epoch 6 | Train Loss: 0.027106888779964165 | Test Loss: 0.02828684683320009\n",
      "Epoch 6 | Train Loss: 0.0264209544918881 | Test Loss: 0.027486978803709563\n"
     ]
    },
    {
     "name": "stderr",
     "output_type": "stream",
     "text": [
      " 85%|████████▍ | 61/72 [01:21<00:13,  1.27s/it]\n",
      " 92%|█████████▏| 66/72 [01:24<00:06,  1.10s/it]\n",
      " 89%|████████▉ | 64/72 [01:24<00:08,  1.10s/it]"
     ]
    },
    {
     "name": "stdout",
     "output_type": "stream",
     "text": [
      "Epoch 7 | Train Loss: 0.02568280324178038 | Test Loss: 0.027030965054614678\n"
     ]
    },
    {
     "name": "stderr",
     "output_type": "stream",
     "text": [
      "  8%|▊         | 6/72 [00:08<01:27,  1.33s/it]]\n",
      "100%|██████████| 72/72 [01:34<00:00,  1.31s/it]\n",
      "  0%|          | 0/72 [00:00<?, ?it/s]"
     ]
    },
    {
     "name": "stdout",
     "output_type": "stream",
     "text": [
      "Epoch 7 | Train Loss: 0.025463091661032132 | Test Loss: 0.02630725995792697\n"
     ]
    },
    {
     "name": "stderr",
     "output_type": "stream",
     "text": [
      "\n",
      " 12%|█▎        | 9/72 [00:11<01:08,  1.09s/it]\n",
      " 17%|█▋        | 12/72 [00:13<00:51,  1.16it/s]\n",
      "  0%|          | 0/72 [00:00<?, ?it/s]\n",
      "  0%|          | 0/72 [00:00<?, ?it/s]"
     ]
    },
    {
     "name": "stdout",
     "output_type": "stream",
     "text": [
      "Epoch 7 | Train Loss: 0.026061267647843687 | Test Loss: 0.027300022206165724\n",
      "Epoch 7 | Train Loss: 0.026977987291629577 | Test Loss: 0.028297881569920316\n"
     ]
    },
    {
     "name": "stderr",
     "output_type": "stream",
     "text": [
      " 88%|████████▊ | 63/72 [01:22<00:12,  1.35s/it]\n",
      " 92%|█████████▏| 66/72 [01:25<00:06,  1.10s/it]\n",
      "  0%|          | 0/72 [00:00<?, ?it/s]"
     ]
    },
    {
     "name": "stdout",
     "output_type": "stream",
     "text": [
      "Epoch 8 | Train Loss: 0.02567563792099961 | Test Loss: 0.026610722144444782\n"
     ]
    },
    {
     "name": "stderr",
     "output_type": "stream",
     "text": [
      " 96%|█████████▌| 69/72 [01:31<00:03,  1.15s/it]\n",
      " 99%|█████████▊| 71/72 [01:33<00:01,  1.12s/it]\n",
      "  0%|          | 0/72 [00:00<?, ?it/s]"
     ]
    },
    {
     "name": "stdout",
     "output_type": "stream",
     "text": [
      "Epoch 8 | Train Loss: 0.025111412704735346 | Test Loss: 0.02622138268391912\n"
     ]
    },
    {
     "name": "stderr",
     "output_type": "stream",
     "text": [
      "  1%|▏         | 1/72 [00:00<01:05,  1.08it/s]]\n",
      " 61%|██████    | 11/18 [00:00<00:00, 32.56it/s]\n",
      "  7%|▋         | 5/72 [00:03<00:43,  1.53it/s]]\n",
      "  0%|          | 0/72 [00:00<?, ?it/s]"
     ]
    },
    {
     "name": "stdout",
     "output_type": "stream",
     "text": [
      "Epoch 8 | Train Loss: 0.026951561451320747 | Test Loss: 0.028061790210712288\n"
     ]
    },
    {
     "name": "stderr",
     "output_type": "stream",
     "text": [
      "\n",
      " 19%|█▉        | 14/72 [00:15<00:46,  1.25it/s]"
     ]
    },
    {
     "name": "stdout",
     "output_type": "stream",
     "text": [
      "Epoch 8 | Train Loss: 0.025658046210153947 | Test Loss: 0.02685392839420173\n"
     ]
    },
    {
     "name": "stderr",
     "output_type": "stream",
     "text": [
      " 89%|████████▉ | 64/72 [01:21<00:10,  1.30s/it]\n",
      " 85%|████████▍ | 61/72 [01:20<00:11,  1.08s/it]\n",
      " 86%|████████▌ | 62/72 [01:21<00:10,  1.09s/it]"
     ]
    },
    {
     "name": "stdout",
     "output_type": "stream",
     "text": [
      "Epoch 9 | Train Loss: 0.025604521862185075 | Test Loss: 0.026713964387050107\n"
     ]
    },
    {
     "name": "stderr",
     "output_type": "stream",
     "text": [
      " 93%|█████████▎| 67/72 [01:28<00:06,  1.30s/it]\n",
      " 97%|█████████▋| 70/72 [01:31<00:02,  1.08s/it]\n",
      "  0%|          | 0/72 [00:00<?, ?it/s]"
     ]
    },
    {
     "name": "stdout",
     "output_type": "stream",
     "text": [
      "Epoch 9 | Train Loss: 0.025108198526045948 | Test Loss: 0.026434572077252798\n"
     ]
    },
    {
     "name": "stderr",
     "output_type": "stream",
     "text": [
      " 15%|█▌        | 11/72 [00:13<01:09,  1.14s/it]\n",
      " 22%|██▏       | 4/18 [00:00<00:00, 32.74it/s]\n",
      " 19%|█▉        | 14/72 [00:15<00:54,  1.07it/s]\n",
      "  0%|          | 0/72 [00:00<?, ?it/s]"
     ]
    },
    {
     "name": "stdout",
     "output_type": "stream",
     "text": [
      "Epoch 9 | Train Loss: 0.02682907857020247 | Test Loss: 0.027802384975883696\n"
     ]
    },
    {
     "name": "stderr",
     "output_type": "stream",
     "text": [
      "\n",
      "  0%|          | 0/72 [00:00<?, ?it/s]"
     ]
    },
    {
     "name": "stdout",
     "output_type": "stream",
     "text": [
      "Epoch 9 | Train Loss: 0.025316182328153445 | Test Loss: 0.02693635816427155\n"
     ]
    },
    {
     "name": "stderr",
     "output_type": "stream",
     "text": [
      " 81%|████████  | 58/72 [01:17<00:18,  1.32s/it]\n",
      " 85%|████████▍ | 61/72 [01:20<00:11,  1.04s/it]\n",
      "  0%|          | 0/72 [00:00<?, ?it/s]"
     ]
    },
    {
     "name": "stdout",
     "output_type": "stream",
     "text": [
      "Epoch 10 | Train Loss: 0.02551100987675628 | Test Loss: 0.026835807624997363\n"
     ]
    },
    {
     "name": "stderr",
     "output_type": "stream",
     "text": [
      "  8%|▊         | 6/72 [00:08<01:27,  1.33s/it]]\n",
      " 96%|█████████▌| 69/72 [01:30<00:03,  1.15s/it]\n",
      "  0%|          | 0/72 [00:00<?, ?it/s]"
     ]
    },
    {
     "name": "stdout",
     "output_type": "stream",
     "text": [
      "Epoch 10 | Train Loss: 0.025041825941510557 | Test Loss: 0.02601183785332574\n"
     ]
    },
    {
     "name": "stderr",
     "output_type": "stream",
     "text": [
      "100%|██████████| 72/72 [01:34<00:00,  1.31s/it]\n",
      " 89%|████████▉ | 16/18 [00:00<00:00, 33.39it/s]\n",
      " 21%|██        | 15/72 [00:17<00:46,  1.24it/s]\n",
      "  0%|          | 0/72 [00:00<?, ?it/s]"
     ]
    },
    {
     "name": "stdout",
     "output_type": "stream",
     "text": [
      "Epoch 10 | Train Loss: 0.026480197901639288 | Test Loss: 0.027564361911370523\n"
     ]
    },
    {
     "name": "stderr",
     "output_type": "stream",
     "text": [
      " 10%|▉         | 7/72 [00:06<00:48,  1.35it/s]\n",
      "  0%|          | 0/72 [00:00<?, ?it/s]"
     ]
    },
    {
     "name": "stdout",
     "output_type": "stream",
     "text": [
      "Epoch 10 | Train Loss: 0.025678053174611283 | Test Loss: 0.02679848636034876\n"
     ]
    },
    {
     "name": "stderr",
     "output_type": "stream",
     "text": [
      " 79%|███████▉  | 57/72 [01:15<00:17,  1.17s/it]\n",
      " 93%|█████████▎| 67/72 [01:24<00:05,  1.05s/it]\n",
      "  0%|          | 0/72 [00:00<?, ?it/s]"
     ]
    },
    {
     "name": "stdout",
     "output_type": "stream",
     "text": [
      "Epoch 11 | Train Loss: 0.025469124721740247 | Test Loss: 0.027341048065055575\n"
     ]
    },
    {
     "name": "stderr",
     "output_type": "stream",
     "text": [
      " 90%|█████████ | 65/72 [01:25<00:08,  1.27s/it]\n",
      " 11%|█         | 8/72 [00:09<01:06,  1.03s/it]]\n",
      "  0%|          | 0/72 [00:00<?, ?it/s]"
     ]
    },
    {
     "name": "stdout",
     "output_type": "stream",
     "text": [
      "Epoch 11 | Train Loss: 0.02515605489903823 | Test Loss: 0.02649440199861096\n"
     ]
    },
    {
     "name": "stderr",
     "output_type": "stream",
     "text": [
      "100%|██████████| 72/72 [01:34<00:00,  1.31s/it]\n",
      "100%|██████████| 18/18 [00:00<00:00, 34.13it/s]\n",
      " 10%|▉         | 7/72 [00:08<01:08,  1.06s/it]]\n",
      "  0%|          | 0/72 [00:00<?, ?it/s]"
     ]
    },
    {
     "name": "stdout",
     "output_type": "stream",
     "text": [
      "Epoch 11 | Train Loss: 0.026347719408008556 | Test Loss: 0.0272798672473679\n"
     ]
    },
    {
     "name": "stderr",
     "output_type": "stream",
     "text": [
      " 11%|█         | 8/72 [00:09<01:04,  1.01s/it]]\n",
      "  0%|          | 0/72 [00:00<?, ?it/s]"
     ]
    },
    {
     "name": "stdout",
     "output_type": "stream",
     "text": [
      "Epoch 11 | Train Loss: 0.025516079283998284 | Test Loss: 0.02631859049304492\n"
     ]
    },
    {
     "name": "stderr",
     "output_type": "stream",
     "text": [
      " 78%|███████▊  | 56/72 [01:14<00:20,  1.28s/it]\n",
      " 93%|█████████▎| 67/72 [01:26<00:05,  1.08s/it]"
     ]
    },
    {
     "name": "stdout",
     "output_type": "stream",
     "text": [
      "Epoch 12 | Train Loss: 0.025619445082211267 | Test Loss: 0.026825360054822847\n"
     ]
    },
    {
     "name": "stderr",
     "output_type": "stream",
     "text": [
      "\n",
      " 89%|████████▉ | 64/72 [01:24<00:10,  1.28s/it]\n",
      " 93%|█████████▎| 67/72 [01:27<00:05,  1.13s/it]\n",
      "  0%|          | 0/72 [00:00<?, ?it/s]"
     ]
    },
    {
     "name": "stdout",
     "output_type": "stream",
     "text": [
      "Epoch 12 | Train Loss: 0.024940392653418172 | Test Loss: 0.024015712247799255\n"
     ]
    },
    {
     "name": "stderr",
     "output_type": "stream",
     "text": [
      " 18%|█▊        | 13/72 [00:16<01:12,  1.23s/it]\n",
      " 19%|█▉        | 14/72 [00:17<01:08,  1.18s/it]\n",
      " 11%|█         | 8/72 [00:09<01:09,  1.09s/it]]\n",
      "  0%|          | 0/72 [00:00<?, ?it/s]"
     ]
    },
    {
     "name": "stdout",
     "output_type": "stream",
     "text": [
      "Epoch 12 | Train Loss: 0.02622144850542191 | Test Loss: 0.027074848987265594\n"
     ]
    },
    {
     "name": "stderr",
     "output_type": "stream",
     "text": [
      "\n",
      " 24%|██▎       | 17/72 [00:20<00:58,  1.06s/it]"
     ]
    },
    {
     "name": "stdout",
     "output_type": "stream",
     "text": [
      "Epoch 12 | Train Loss: 0.02539127735302927 | Test Loss: 0.02633507155244135\n"
     ]
    },
    {
     "name": "stderr",
     "output_type": "stream",
     "text": [
      " 90%|█████████ | 65/72 [01:26<00:08,  1.22s/it]\n",
      " 82%|████████▏ | 59/72 [01:18<00:14,  1.09s/it]\n",
      " 82%|████████▏ | 59/72 [01:18<00:14,  1.12s/it]"
     ]
    },
    {
     "name": "stdout",
     "output_type": "stream",
     "text": [
      "Epoch 13 | Train Loss: 0.02544644475306872 | Test Loss: 0.026990981701399304\n"
     ]
    },
    {
     "name": "stderr",
     "output_type": "stream",
     "text": [
      " 89%|████████▉ | 64/72 [01:25<00:09,  1.23s/it]\n",
      " 10%|▉         | 7/72 [00:09<01:21,  1.25s/it]]\n",
      " 93%|█████████▎| 67/72 [01:28<00:05,  1.11s/it]"
     ]
    },
    {
     "name": "stdout",
     "output_type": "stream",
     "text": [
      "Epoch 13 | Train Loss: 0.02563738648162315 | Test Loss: 0.026333828831815884\n"
     ]
    },
    {
     "name": "stderr",
     "output_type": "stream",
     "text": [
      "100%|██████████| 72/72 [01:34<00:00,  1.32s/it]\n",
      " 17%|█▋        | 3/18 [00:00<00:00, 29.94it/s]\n",
      " 12%|█▎        | 9/72 [00:10<00:54,  1.17it/s]]\n",
      "  0%|          | 0/72 [00:00<?, ?it/s]\n",
      "  0%|          | 0/72 [00:00<?, ?it/s]"
     ]
    },
    {
     "name": "stdout",
     "output_type": "stream",
     "text": [
      "Epoch 13 | Train Loss: 0.025955259822613253 | Test Loss: 0.02707104069284267\n",
      "Epoch 13 | Train Loss: 0.025313302667424743 | Test Loss: 0.02694753803209298\n"
     ]
    },
    {
     "name": "stderr",
     "output_type": "stream",
     "text": [
      " 76%|███████▋  | 55/72 [01:13<00:21,  1.26s/it]\n",
      " 81%|████████  | 58/72 [01:16<00:15,  1.12s/it]\n",
      " 81%|████████  | 58/72 [01:16<00:15,  1.13s/it]"
     ]
    },
    {
     "name": "stdout",
     "output_type": "stream",
     "text": [
      "Epoch 14 | Train Loss: 0.025337357205103314 | Test Loss: 0.0262672323668893\n"
     ]
    },
    {
     "name": "stderr",
     "output_type": "stream",
     "text": [
      " 88%|████████▊ | 63/72 [01:22<00:11,  1.27s/it]\n",
      " 92%|█████████▏| 66/72 [01:25<00:06,  1.09s/it]\n",
      "  0%|          | 0/72 [00:00<?, ?it/s]"
     ]
    },
    {
     "name": "stdout",
     "output_type": "stream",
     "text": [
      "Epoch 14 | Train Loss: 0.025156706909800385 | Test Loss: 0.02664239714956946\n"
     ]
    },
    {
     "name": "stderr",
     "output_type": "stream",
     "text": [
      "100%|██████████| 72/72 [01:34<00:00,  1.31s/it]\n",
      " 67%|██████▋   | 12/18 [00:00<00:00, 32.95it/s]\n",
      " 14%|█▍        | 10/72 [00:11<00:53,  1.15it/s]\n",
      " 25%|██▌       | 18/72 [00:20<00:47,  1.15it/s]"
     ]
    },
    {
     "name": "stdout",
     "output_type": "stream",
     "text": [
      "Epoch 14 | Train Loss: 0.025891082709271634 | Test Loss: 0.027097831687165633\n"
     ]
    },
    {
     "name": "stderr",
     "output_type": "stream",
     "text": [
      "\n",
      "  0%|          | 0/72 [00:00<?, ?it/s]"
     ]
    },
    {
     "name": "stdout",
     "output_type": "stream",
     "text": [
      "Epoch 14 | Train Loss: 0.02552784448708015 | Test Loss: 0.026107710301099967\n"
     ]
    },
    {
     "name": "stderr",
     "output_type": "stream",
     "text": [
      "100%|██████████| 72/72 [01:32<00:00,  1.28s/it]\n",
      " 79%|███████▉  | 57/72 [01:14<00:15,  1.03s/it]\n",
      "  0%|          | 0/72 [00:00<?, ?it/s]"
     ]
    },
    {
     "name": "stdout",
     "output_type": "stream",
     "text": [
      "Epoch 15 | Train Loss: 0.025289891808771964 | Test Loss: 0.02609328225824154\n"
     ]
    },
    {
     "name": "stderr",
     "output_type": "stream",
     "text": [
      " 85%|████████▍ | 61/72 [01:20<00:14,  1.31s/it]\n",
      " 10%|▉         | 7/72 [00:09<01:18,  1.21s/it]]\n",
      "  0%|          | 0/72 [00:00<?, ?it/s]"
     ]
    },
    {
     "name": "stdout",
     "output_type": "stream",
     "text": [
      "Epoch 15 | Train Loss: 0.025680054221901037 | Test Loss: 0.02654411525064562\n"
     ]
    },
    {
     "name": "stderr",
     "output_type": "stream",
     "text": [
      " 21%|██        | 15/72 [00:19<01:14,  1.30s/it]\n",
      " 22%|██▏       | 16/72 [00:20<01:05,  1.17s/it]\n",
      " 15%|█▌        | 11/72 [00:13<00:57,  1.06it/s]\n",
      "  0%|          | 0/72 [00:00<?, ?it/s]"
     ]
    },
    {
     "name": "stdout",
     "output_type": "stream",
     "text": [
      "Epoch 15 | Train Loss: 0.025679495764959388 | Test Loss: 0.027405794852206275\n"
     ]
    },
    {
     "name": "stderr",
     "output_type": "stream",
     "text": [
      " 26%|██▋       | 19/72 [00:23<00:53,  1.01s/it]\n",
      " 17%|█▋        | 12/72 [00:14<00:59,  1.00it/s]"
     ]
    },
    {
     "name": "stdout",
     "output_type": "stream",
     "text": [
      "Epoch 15 | Train Loss: 0.024906480467217215 | Test Loss: 0.025964267196185473\n"
     ]
    },
    {
     "name": "stderr",
     "output_type": "stream",
     "text": [
      " 74%|███████▎  | 53/72 [01:10<00:25,  1.32s/it]\n",
      " 94%|█████████▍| 68/72 [01:27<00:04,  1.13s/it]\n",
      "  0%|          | 0/72 [00:00<?, ?it/s]"
     ]
    },
    {
     "name": "stdout",
     "output_type": "stream",
     "text": [
      "Epoch 16 | Train Loss: 0.025263467603739348 | Test Loss: 0.02653945013622029\n"
     ]
    },
    {
     "name": "stderr",
     "output_type": "stream",
     "text": [
      " 85%|████████▍ | 61/72 [01:19<00:13,  1.25s/it]\n",
      " 86%|████████▌ | 62/72 [01:21<00:11,  1.15s/it]\n",
      "  0%|          | 0/72 [00:00<?, ?it/s]"
     ]
    },
    {
     "name": "stdout",
     "output_type": "stream",
     "text": [
      "Epoch 16 | Train Loss: 0.024417171143092456 | Test Loss: 0.026014402845046587\n"
     ]
    },
    {
     "name": "stderr",
     "output_type": "stream",
     "text": [
      " 22%|██▏       | 16/72 [00:19<01:07,  1.21s/it]\n",
      " 14%|█▍        | 10/72 [00:13<01:10,  1.13s/it]\n",
      " 17%|█▋        | 12/72 [00:14<00:53,  1.12it/s]\n",
      "  0%|          | 0/72 [00:00<?, ?it/s]"
     ]
    },
    {
     "name": "stdout",
     "output_type": "stream",
     "text": [
      "Epoch 16 | Train Loss: 0.026119020949566914 | Test Loss: 0.02794106771600329\n"
     ]
    },
    {
     "name": "stderr",
     "output_type": "stream",
     "text": [
      "  1%|▏         | 1/72 [00:01<01:23,  1.18s/it]]\n",
      "  0%|          | 0/72 [00:00<?, ?it/s]"
     ]
    },
    {
     "name": "stdout",
     "output_type": "stream",
     "text": [
      "Epoch 16 | Train Loss: 0.025480096500292485 | Test Loss: 0.026670738336785387\n"
     ]
    },
    {
     "name": "stderr",
     "output_type": "stream",
     "text": [
      " 71%|███████   | 51/72 [01:08<00:25,  1.20s/it]\n",
      " 74%|███████▎  | 53/72 [01:10<00:21,  1.15s/it]\n",
      "  0%|          | 0/72 [00:00<?, ?it/s]"
     ]
    },
    {
     "name": "stdout",
     "output_type": "stream",
     "text": [
      "Epoch 17 | Train Loss: 0.025066408101343054 | Test Loss: 0.026999102426796324\n"
     ]
    },
    {
     "name": "stderr",
     "output_type": "stream",
     "text": [
      " 81%|████████  | 58/72 [01:17<00:18,  1.30s/it]\n",
      " 85%|████████▍ | 61/72 [01:20<00:12,  1.10s/it]\n",
      "  0%|          | 0/72 [00:00<?, ?it/s]"
     ]
    },
    {
     "name": "stdout",
     "output_type": "stream",
     "text": [
      "Epoch 17 | Train Loss: 0.024529004179031873 | Test Loss: 0.02371546392613608\n"
     ]
    },
    {
     "name": "stderr",
     "output_type": "stream",
     "text": [
      " 14%|█▍        | 10/72 [00:13<01:17,  1.25s/it]\n",
      " 17%|█▋        | 12/72 [00:14<01:04,  1.08s/it]\n",
      " 18%|█▊        | 13/72 [00:15<01:00,  1.03s/it]\n",
      "  0%|          | 0/72 [00:00<?, ?it/s]"
     ]
    },
    {
     "name": "stdout",
     "output_type": "stream",
     "text": [
      "Epoch 17 | Train Loss: 0.025571866092845785 | Test Loss: 0.026419246420522943\n"
     ]
    },
    {
     "name": "stderr",
     "output_type": "stream",
     "text": [
      " 31%|███       | 22/72 [00:27<00:53,  1.07s/it]\n",
      "  0%|          | 0/72 [00:00<?, ?it/s]"
     ]
    },
    {
     "name": "stdout",
     "output_type": "stream",
     "text": [
      "Epoch 17 | Train Loss: 0.025301579152962935 | Test Loss: 0.025962854761423335\n"
     ]
    },
    {
     "name": "stderr",
     "output_type": "stream",
     "text": [
      " 90%|█████████ | 65/72 [01:24<00:08,  1.27s/it]\n",
      " 75%|███████▌  | 54/72 [01:10<00:19,  1.11s/it]\n",
      "  0%|          | 0/72 [00:00<?, ?it/s]"
     ]
    },
    {
     "name": "stdout",
     "output_type": "stream",
     "text": [
      "Epoch 18 | Train Loss: 0.025778766472271272 | Test Loss: 0.02629832075520729\n"
     ]
    },
    {
     "name": "stderr",
     "output_type": "stream",
     "text": [
      " 81%|████████  | 58/72 [01:15<00:16,  1.20s/it]\n",
      " 86%|████████▌ | 62/72 [01:20<00:10,  1.04s/it]\n",
      " 85%|████████▍ | 61/72 [01:19<00:11,  1.07s/it]"
     ]
    },
    {
     "name": "stdout",
     "output_type": "stream",
     "text": [
      "Epoch 18 | Train Loss: 0.024401010999651862 | Test Loss: 0.024341388864235744\n"
     ]
    },
    {
     "name": "stderr",
     "output_type": "stream",
     "text": [
      " 14%|█▍        | 10/72 [00:13<01:19,  1.28s/it]\n",
      " 17%|█▋        | 12/72 [00:14<01:05,  1.09s/it]\n",
      " 29%|██▉       | 21/72 [00:25<00:46,  1.10it/s]\n",
      "  0%|          | 0/72 [00:00<?, ?it/s]"
     ]
    },
    {
     "name": "stdout",
     "output_type": "stream",
     "text": [
      "Epoch 18 | Train Loss: 0.025808214555477497 | Test Loss: 0.027096189157519903\n"
     ]
    },
    {
     "name": "stderr",
     "output_type": "stream",
     "text": [
      " 21%|██        | 15/72 [00:17<00:51,  1.11it/s]\n",
      "  0%|          | 0/72 [00:00<?, ?it/s]"
     ]
    },
    {
     "name": "stdout",
     "output_type": "stream",
     "text": [
      "Epoch 18 | Train Loss: 0.025174960166338887 | Test Loss: 0.027099778617007866\n"
     ]
    },
    {
     "name": "stderr",
     "output_type": "stream",
     "text": [
      " 90%|█████████ | 65/72 [01:23<00:09,  1.34s/it]\n",
      " 94%|█████████▍| 68/72 [01:26<00:04,  1.04s/it]\n",
      "  0%|          | 0/72 [00:00<?, ?it/s]"
     ]
    },
    {
     "name": "stdout",
     "output_type": "stream",
     "text": [
      "Epoch 19 | Train Loss: 0.02522801454919354 | Test Loss: 0.026670744228694174\n"
     ]
    },
    {
     "name": "stderr",
     "output_type": "stream",
     "text": [
      "100%|██████████| 72/72 [01:31<00:00,  1.28s/it]\n",
      " 82%|████████▏ | 59/72 [01:16<00:14,  1.11s/it]\n",
      " 10%|▉         | 7/72 [00:08<01:15,  1.16s/it]"
     ]
    },
    {
     "name": "stdout",
     "output_type": "stream",
     "text": [
      "Epoch 19 | Train Loss: 0.023978769589866066 | Test Loss: 0.02545029976560424\n"
     ]
    },
    {
     "name": "stderr",
     "output_type": "stream",
     "text": [
      " 15%|█▌        | 11/72 [00:14<01:12,  1.20s/it]\n",
      " 18%|█▊        | 13/72 [00:16<01:05,  1.11s/it]\n",
      " 22%|██▏       | 4/18 [00:00<00:00, 31.96it/s]\n",
      "  0%|          | 0/72 [00:00<?, ?it/s]"
     ]
    },
    {
     "name": "stdout",
     "output_type": "stream",
     "text": [
      "Epoch 19 | Train Loss: 0.025757920228391497 | Test Loss: 0.026904574556586642\n"
     ]
    },
    {
     "name": "stderr",
     "output_type": "stream",
     "text": [
      " 22%|██▏       | 16/72 [00:19<00:58,  1.05s/it]\n",
      "  0%|          | 0/72 [00:00<?, ?it/s]"
     ]
    },
    {
     "name": "stdout",
     "output_type": "stream",
     "text": [
      "Epoch 19 | Train Loss: 0.025626969379700597 | Test Loss: 0.026734107264524534\n"
     ]
    },
    {
     "name": "stderr",
     "output_type": "stream",
     "text": [
      " 68%|██████▊   | 49/72 [01:06<00:28,  1.24s/it]\n",
      " 94%|█████████▍| 68/72 [01:29<00:04,  1.09s/it]\n",
      "  0%|          | 0/72 [00:00<?, ?it/s]"
     ]
    },
    {
     "name": "stdout",
     "output_type": "stream",
     "text": [
      "Epoch 20 | Train Loss: 0.025123755674935442 | Test Loss: 0.02648241185104578\n"
     ]
    },
    {
     "name": "stderr",
     "output_type": "stream",
     "text": [
      " 82%|████████▏ | 59/72 [01:17<00:15,  1.22s/it]\n",
      " 10%|▉         | 7/72 [00:08<01:06,  1.02s/it]]"
     ]
    },
    {
     "name": "stdout",
     "output_type": "stream",
     "text": [
      "Epoch 20 | Train Loss: 0.02487586097359709 | Test Loss: 0.025681845792051818\n"
     ]
    },
    {
     "name": "stderr",
     "output_type": "stream",
     "text": [
      "\n",
      "100%|██████████| 72/72 [01:34<00:00,  1.31s/it]\n",
      "100%|██████████| 72/72 [01:35<00:00,  1.32s/it]\n",
      "  0%|          | 0/72 [00:00<?, ?it/s]"
     ]
    },
    {
     "name": "stdout",
     "output_type": "stream",
     "text": [
      "Epoch 20 | Train Loss: 0.025786744467881737 | Test Loss: 0.02750792667373187\n"
     ]
    },
    {
     "name": "stderr",
     "output_type": "stream",
     "text": [
      " 29%|██▉       | 21/72 [00:25<00:51,  1.02s/it]\n",
      " 22%|██▏       | 16/72 [00:19<00:56,  1.01s/it]\n",
      "  4%|▍         | 3/72 [00:03<01:15,  1.10s/it]"
     ]
    },
    {
     "name": "stdout",
     "output_type": "stream",
     "text": [
      "Epoch 20 | Train Loss: 0.025301837986197603 | Test Loss: 0.02640326027499719\n"
     ]
    },
    {
     "name": "stderr",
     "output_type": "stream",
     "text": [
      " 72%|███████▏  | 52/72 [01:07<00:24,  1.23s/it]\n",
      " 94%|█████████▍| 68/72 [01:27<00:04,  1.06s/it]\n",
      "  0%|          | 0/72 [00:00<?, ?it/s]"
     ]
    },
    {
     "name": "stdout",
     "output_type": "stream",
     "text": [
      "Epoch 21 | Train Loss: 0.02503561836098532 | Test Loss: 0.025971657208477456\n"
     ]
    },
    {
     "name": "stderr",
     "output_type": "stream",
     "text": [
      "  6%|▌         | 4/72 [00:05<01:27,  1.29s/it]]\n",
      " 85%|████████▍ | 61/72 [01:18<00:12,  1.15s/it]\n",
      " 10%|▉         | 7/72 [00:08<01:12,  1.12s/it]"
     ]
    },
    {
     "name": "stdout",
     "output_type": "stream",
     "text": [
      "Epoch 21 | Train Loss: 0.02449630005859635 | Test Loss: 0.02500157419449857\n"
     ]
    },
    {
     "name": "stderr",
     "output_type": "stream",
     "text": [
      " 25%|██▌       | 18/72 [00:22<01:09,  1.29s/it]\n",
      "100%|██████████| 72/72 [01:33<00:00,  1.29s/it]\n",
      "  0%|          | 0/72 [00:00<?, ?it/s]"
     ]
    },
    {
     "name": "stdout",
     "output_type": "stream",
     "text": [
      "Epoch 21 | Train Loss: 0.02581609660463422 | Test Loss: 0.026311381901096966\n"
     ]
    },
    {
     "name": "stderr",
     "output_type": "stream",
     "text": [
      " 19%|█▉        | 14/72 [00:17<01:03,  1.10s/it]\n",
      "  4%|▍         | 3/72 [00:02<01:02,  1.11it/s]]\n",
      "  0%|          | 0/72 [00:00<?, ?it/s]"
     ]
    },
    {
     "name": "stdout",
     "output_type": "stream",
     "text": [
      "Epoch 21 | Train Loss: 0.02510743440378888 | Test Loss: 0.026257609793295462\n"
     ]
    },
    {
     "name": "stderr",
     "output_type": "stream",
     "text": [
      " 67%|██████▋   | 48/72 [01:03<00:31,  1.30s/it]\n",
      " 71%|███████   | 51/72 [01:06<00:22,  1.07s/it]\n",
      "  0%|          | 0/72 [00:00<?, ?it/s]"
     ]
    },
    {
     "name": "stdout",
     "output_type": "stream",
     "text": [
      "Epoch 22 | Train Loss: 0.025246742378101466 | Test Loss: 0.02572473042851521\n"
     ]
    },
    {
     "name": "stderr",
     "output_type": "stream",
     "text": [
      "100%|██████████| 72/72 [01:33<00:00,  1.30s/it]\n",
      " 10%|▉         | 7/72 [00:09<01:18,  1.21s/it]]\n",
      " 86%|████████▌ | 62/72 [01:19<00:10,  1.06s/it]"
     ]
    },
    {
     "name": "stdout",
     "output_type": "stream",
     "text": [
      "Epoch 22 | Train Loss: 0.024293140352879213 | Test Loss: 0.024885627803289227\n"
     ]
    },
    {
     "name": "stderr",
     "output_type": "stream",
     "text": [
      " 96%|█████████▌| 69/72 [01:30<00:03,  1.23s/it]\n",
      " 18%|█▊        | 13/72 [00:17<01:03,  1.08s/it]"
     ]
    },
    {
     "name": "stdout",
     "output_type": "stream",
     "text": [
      "Epoch 22 | Train Loss: 0.025604497388872657 | Test Loss: 0.02720233497287457\n"
     ]
    },
    {
     "name": "stderr",
     "output_type": "stream",
     "text": [
      "\n",
      " 19%|█▉        | 14/72 [00:18<01:02,  1.08s/it]\n",
      " 33%|███▎      | 24/72 [00:30<00:55,  1.15s/it]\n",
      " 24%|██▎       | 17/72 [00:21<00:57,  1.05s/it]"
     ]
    },
    {
     "name": "stdout",
     "output_type": "stream",
     "text": [
      "Epoch 22 | Train Loss: 0.024867033400612484 | Test Loss: 0.025705757243688114\n"
     ]
    },
    {
     "name": "stderr",
     "output_type": "stream",
     "text": [
      " 67%|██████▋   | 48/72 [01:03<00:30,  1.28s/it]\n",
      " 75%|███████▌  | 54/72 [01:10<00:20,  1.16s/it]\n",
      " 71%|███████   | 51/72 [01:06<00:22,  1.06s/it]"
     ]
    },
    {
     "name": "stdout",
     "output_type": "stream",
     "text": [
      "Epoch 23 | Train Loss: 0.025002067054999744 | Test Loss: 0.02584948680467076\n"
     ]
    },
    {
     "name": "stderr",
     "output_type": "stream",
     "text": [
      " 82%|████████▏ | 59/72 [01:16<00:16,  1.27s/it]\n",
      " 10%|▉         | 7/72 [00:09<01:20,  1.25s/it]]\n",
      " 86%|████████▌ | 62/72 [01:19<00:10,  1.06s/it]"
     ]
    },
    {
     "name": "stdout",
     "output_type": "stream",
     "text": [
      "Epoch 23 | Train Loss: 0.02378157713813796 | Test Loss: 0.025666782050393522\n"
     ]
    },
    {
     "name": "stderr",
     "output_type": "stream",
     "text": [
      " 25%|██▌       | 18/72 [00:23<01:05,  1.21s/it]\n",
      " 18%|█▊        | 13/72 [00:16<01:03,  1.08s/it]\n",
      "100%|██████████| 72/72 [01:33<00:00,  1.29s/it]"
     ]
    },
    {
     "name": "stdout",
     "output_type": "stream",
     "text": [
      "Epoch 23 | Train Loss: 0.025752249498286008 | Test Loss: 0.027261778117261\n"
     ]
    },
    {
     "name": "stderr",
     "output_type": "stream",
     "text": [
      " 29%|██▉       | 21/72 [00:26<00:56,  1.11s/it]\n",
      "  4%|▍         | 3/72 [00:03<01:10,  1.02s/it]]\n",
      " 33%|███▎      | 24/72 [00:29<00:48,  1.00s/it]"
     ]
    },
    {
     "name": "stdout",
     "output_type": "stream",
     "text": [
      "Epoch 23 | Train Loss: 0.02505342639597549 | Test Loss: 0.025773721190893814\n"
     ]
    },
    {
     "name": "stderr",
     "output_type": "stream",
     "text": [
      " 71%|███████   | 51/72 [01:06<00:27,  1.30s/it]\n",
      " 75%|███████▌  | 54/72 [01:10<00:20,  1.12s/it]\n",
      " 71%|███████   | 51/72 [01:06<00:21,  1.03s/it]"
     ]
    },
    {
     "name": "stdout",
     "output_type": "stream",
     "text": [
      "Epoch 24 | Train Loss: 0.025009117371602538 | Test Loss: 0.025757860916201025\n"
     ]
    },
    {
     "name": "stderr",
     "output_type": "stream",
     "text": [
      " 82%|████████▏ | 59/72 [01:16<00:16,  1.26s/it]\n",
      " 86%|████████▌ | 62/72 [01:19<00:10,  1.03s/it]\n",
      "  0%|          | 0/72 [00:00<?, ?it/s]"
     ]
    },
    {
     "name": "stdout",
     "output_type": "stream",
     "text": [
      "Epoch 24 | Train Loss: 0.024626052338827392 | Test Loss: 0.02632284649169176\n"
     ]
    },
    {
     "name": "stderr",
     "output_type": "stream",
     "text": [
      " 96%|█████████▌| 69/72 [01:30<00:03,  1.25s/it]\n",
      " 18%|█▊        | 13/72 [00:16<01:02,  1.06s/it]\n",
      " 29%|██▉       | 21/72 [00:26<00:57,  1.12s/it]"
     ]
    },
    {
     "name": "stdout",
     "output_type": "stream",
     "text": [
      "Epoch 24 | Train Loss: 0.025876926567298654 | Test Loss: 0.026813227353462327\n"
     ]
    },
    {
     "name": "stderr",
     "output_type": "stream",
     "text": [
      "  1%|▏         | 1/72 [00:01<01:31,  1.30s/it]]\n",
      " 24%|██▎       | 17/72 [00:20<00:55,  1.01s/it]\n",
      "  0%|          | 0/72 [00:00<?, ?it/s]"
     ]
    },
    {
     "name": "stdout",
     "output_type": "stream",
     "text": [
      "Epoch 24 | Train Loss: 0.024662342306054953 | Test Loss: 0.02622165762457169\n"
     ]
    },
    {
     "name": "stderr",
     "output_type": "stream",
     "text": [
      "100%|██████████| 72/72 [01:32<00:00,  1.29s/it]\n",
      " 75%|███████▌  | 54/72 [01:10<00:22,  1.24s/it]\n",
      " 69%|██████▉   | 50/72 [01:06<00:26,  1.22s/it]"
     ]
    },
    {
     "name": "stdout",
     "output_type": "stream",
     "text": [
      "Epoch 25 | Train Loss: 0.024838697275294107 | Test Loss: 0.026186694714447692\n"
     ]
    },
    {
     "name": "stderr",
     "output_type": "stream",
     "text": [
      " 83%|████████▎ | 60/72 [01:17<00:14,  1.23s/it]\n",
      " 86%|████████▌ | 62/72 [01:19<00:11,  1.19s/it]\n",
      "  0%|          | 0/72 [00:00<?, ?it/s]"
     ]
    },
    {
     "name": "stdout",
     "output_type": "stream",
     "text": [
      "Epoch 25 | Train Loss: 0.024290810347244233 | Test Loss: 0.02641598438559514\n"
     ]
    },
    {
     "name": "stderr",
     "output_type": "stream",
     "text": [
      " 25%|██▌       | 18/72 [00:23<01:10,  1.30s/it]\n",
      " 97%|█████████▋| 70/72 [01:32<00:02,  1.06s/it]\n",
      "  0%|          | 0/72 [00:00<?, ?it/s]"
     ]
    },
    {
     "name": "stdout",
     "output_type": "stream",
     "text": [
      "Epoch 25 | Train Loss: 0.025769148398996643 | Test Loss: 0.02691457301585211\n"
     ]
    },
    {
     "name": "stderr",
     "output_type": "stream",
     "text": [
      "  3%|▎         | 2/72 [00:02<01:30,  1.30s/it]]\n",
      "  7%|▋         | 5/72 [00:05<01:11,  1.07s/it]]\n"
     ]
    },
    {
     "name": "stdout",
     "output_type": "stream",
     "text": [
      "Epoch 25 | Train Loss: 0.025029089544567205 | Test Loss: 0.025880297684731584\n"
     ]
    },
    {
     "name": "stderr",
     "output_type": "stream",
     "text": [
      " 74%|███████▎  | 53/72 [01:08<00:24,  1.31s/it]\n",
      " 68%|██████▊   | 49/72 [01:05<00:26,  1.15s/it]\n",
      "  0%|          | 0/72 [00:00<?, ?it/s]"
     ]
    },
    {
     "name": "stdout",
     "output_type": "stream",
     "text": [
      "Epoch 26 | Train Loss: 0.024614223388293117 | Test Loss: 0.02552300796378404\n"
     ]
    },
    {
     "name": "stderr",
     "output_type": "stream",
     "text": [
      " 85%|████████▍ | 61/72 [01:17<00:13,  1.19s/it]\n",
      " 88%|████████▊ | 63/72 [01:20<00:10,  1.16s/it]\n",
      "  0%|          | 0/72 [00:00<?, ?it/s]"
     ]
    },
    {
     "name": "stdout",
     "output_type": "stream",
     "text": [
      "Epoch 26 | Train Loss: 0.024769401072575463 | Test Loss: 0.025860892518216536\n"
     ]
    },
    {
     "name": "stderr",
     "output_type": "stream",
     "text": [
      " 24%|██▎       | 17/72 [00:21<01:04,  1.18s/it]\n",
      " 26%|██▋       | 19/72 [00:24<00:59,  1.11s/it]\n",
      "  0%|          | 0/72 [00:00<?, ?it/s]"
     ]
    },
    {
     "name": "stdout",
     "output_type": "stream",
     "text": [
      "Epoch 26 | Train Loss: 0.025623698434836962 | Test Loss: 0.02684689423121098\n"
     ]
    },
    {
     "name": "stderr",
     "output_type": "stream",
     "text": [
      "  6%|▌         | 4/72 [00:04<01:23,  1.22s/it]]\n",
      "  8%|▊         | 6/72 [00:07<01:17,  1.18s/it]]\n",
      " 25%|██▌       | 18/72 [00:23<01:02,  1.17s/it]"
     ]
    },
    {
     "name": "stdout",
     "output_type": "stream",
     "text": [
      "Epoch 26 | Train Loss: 0.024725635306218675 | Test Loss: 0.024945673222343128\n"
     ]
    },
    {
     "name": "stderr",
     "output_type": "stream",
     "text": [
      " 90%|█████████ | 65/72 [01:25<00:09,  1.30s/it]\n",
      " 78%|███████▊  | 56/72 [01:12<00:18,  1.13s/it]\n",
      " 94%|█████████▍| 68/72 [01:28<00:04,  1.04s/it]"
     ]
    },
    {
     "name": "stdout",
     "output_type": "stream",
     "text": [
      "Epoch 27 | Train Loss: 0.024431870641796926 | Test Loss: 0.026203842600807548\n"
     ]
    },
    {
     "name": "stderr",
     "output_type": "stream",
     "text": [
      "100%|██████████| 72/72 [01:33<00:00,  1.30s/it]\n",
      " 10%|▉         | 7/72 [00:08<01:13,  1.13s/it]]\n",
      "  0%|          | 0/72 [00:00<?, ?it/s]"
     ]
    },
    {
     "name": "stdout",
     "output_type": "stream",
     "text": [
      "Epoch 27 | Train Loss: 0.02559339911470612 | Test Loss: 0.02609065319928858\n"
     ]
    },
    {
     "name": "stderr",
     "output_type": "stream",
     "text": [
      " 12%|█▎        | 9/72 [00:11<01:20,  1.29s/it]]\n",
      " 26%|██▋       | 19/72 [00:23<00:54,  1.03s/it]\n",
      "  0%|          | 0/72 [00:00<?, ?it/s]"
     ]
    },
    {
     "name": "stdout",
     "output_type": "stream",
     "text": [
      "Epoch 27 | Train Loss: 0.025570268034740804 | Test Loss: 0.026701844232674275\n"
     ]
    },
    {
     "name": "stderr",
     "output_type": "stream",
     "text": [
      "  6%|▌         | 4/72 [00:05<01:31,  1.35s/it]]\n",
      " 25%|██▌       | 18/72 [00:22<00:59,  1.11s/it]\n",
      "  0%|          | 0/72 [00:00<?, ?it/s]"
     ]
    },
    {
     "name": "stdout",
     "output_type": "stream",
     "text": [
      "Epoch 27 | Train Loss: 0.02529132480188544 | Test Loss: 0.02656274767489069\n"
     ]
    },
    {
     "name": "stderr",
     "output_type": "stream",
     "text": [
      " 64%|██████▍   | 46/72 [01:01<00:34,  1.31s/it]\n",
      " 93%|█████████▎| 67/72 [01:26<00:05,  1.15s/it]\n",
      " 68%|██████▊   | 49/72 [01:04<00:26,  1.13s/it]"
     ]
    },
    {
     "name": "stdout",
     "output_type": "stream",
     "text": [
      "Epoch 28 | Train Loss: 0.025626356866401658 | Test Loss: 0.02623711868848962\n"
     ]
    },
    {
     "name": "stderr",
     "output_type": "stream",
     "text": [
      "100%|██████████| 72/72 [01:32<00:00,  1.29s/it]\n",
      " 78%|███████▊  | 56/72 [01:13<00:19,  1.21s/it]\n",
      " 88%|████████▊ | 63/72 [01:21<00:10,  1.17s/it]"
     ]
    },
    {
     "name": "stdout",
     "output_type": "stream",
     "text": [
      "Epoch 28 | Train Loss: 0.024556252481553423 | Test Loss: 0.024487559994061787\n"
     ]
    },
    {
     "name": "stderr",
     "output_type": "stream",
     "text": [
      "100%|██████████| 72/72 [01:33<00:00,  1.30s/it]\n",
      " 93%|█████████▎| 67/72 [01:28<00:06,  1.25s/it]\n",
      "  0%|          | 0/72 [00:00<?, ?it/s]"
     ]
    },
    {
     "name": "stdout",
     "output_type": "stream",
     "text": [
      "Epoch 28 | Train Loss: 0.0253844049319845 | Test Loss: 0.027075367604589298\n"
     ]
    },
    {
     "name": "stderr",
     "output_type": "stream",
     "text": [
      " 24%|██▎       | 17/72 [00:21<01:10,  1.28s/it]\n",
      " 38%|███▊      | 27/72 [00:33<00:48,  1.08s/it]\n",
      " 28%|██▊       | 20/72 [00:25<00:59,  1.14s/it]"
     ]
    },
    {
     "name": "stdout",
     "output_type": "stream",
     "text": [
      "Epoch 28 | Train Loss: 0.024909646595811245 | Test Loss: 0.025370247920768127\n"
     ]
    },
    {
     "name": "stderr",
     "output_type": "stream",
     "text": [
      " 72%|███████▏  | 52/72 [01:09<00:26,  1.33s/it]\n",
      " 76%|███████▋  | 55/72 [01:12<00:19,  1.13s/it]\n",
      "  0%|          | 0/72 [00:00<?, ?it/s]"
     ]
    },
    {
     "name": "stdout",
     "output_type": "stream",
     "text": [
      "Epoch 29 | Train Loss: 0.02481056722957191 | Test Loss: 0.02567988944550355\n"
     ]
    },
    {
     "name": "stderr",
     "output_type": "stream",
     "text": [
      " 74%|███████▎  | 53/72 [01:09<00:22,  1.17s/it]\n",
      " 76%|███████▋  | 55/72 [01:11<00:18,  1.11s/it]\n",
      "  0%|          | 0/72 [00:00<?, ?it/s]"
     ]
    },
    {
     "name": "stdout",
     "output_type": "stream",
     "text": [
      "Epoch 29 | Train Loss: 0.025203037298212456 | Test Loss: 0.026447351814972028\n"
     ]
    },
    {
     "name": "stderr",
     "output_type": "stream",
     "text": [
      " 25%|██▌       | 18/72 [00:23<01:09,  1.29s/it]\n",
      " 94%|█████████▍| 68/72 [01:27<00:04,  1.06s/it]\n",
      "  0%|          | 0/72 [00:00<?, ?it/s]"
     ]
    },
    {
     "name": "stdout",
     "output_type": "stream",
     "text": [
      "Epoch 29 | Train Loss: 0.02532766548209507 | Test Loss: 0.026282641034211136\n"
     ]
    },
    {
     "name": "stderr",
     "output_type": "stream",
     "text": [
      "  6%|▌         | 4/72 [00:05<01:28,  1.30s/it]]\n",
      " 10%|▉         | 7/72 [00:08<01:08,  1.05s/it]]\n",
      "  0%|          | 0/72 [00:00<?, ?it/s]"
     ]
    },
    {
     "name": "stdout",
     "output_type": "stream",
     "text": [
      "Epoch 29 | Train Loss: 0.024207103817839398 | Test Loss: 0.02738982850375275\n"
     ]
    },
    {
     "name": "stderr",
     "output_type": "stream",
     "text": [
      " 90%|█████████ | 65/72 [01:24<00:08,  1.28s/it]\n",
      " 94%|█████████▍| 68/72 [01:26<00:04,  1.05s/it]\n",
      "  0%|          | 0/72 [00:00<?, ?it/s]"
     ]
    },
    {
     "name": "stdout",
     "output_type": "stream",
     "text": [
      "Epoch 30 | Train Loss: 0.024812841524153972 | Test Loss: 0.02598756388761103\n"
     ]
    },
    {
     "name": "stderr",
     "output_type": "stream",
     "text": [
      " 72%|███████▏  | 52/72 [01:08<00:23,  1.19s/it]\n",
      " 10%|▉         | 7/72 [00:08<01:11,  1.10s/it]]\n",
      "  0%|          | 0/72 [00:00<?, ?it/s]"
     ]
    },
    {
     "name": "stdout",
     "output_type": "stream",
     "text": [
      "Epoch 30 | Train Loss: 0.024783764692342197 | Test Loss: 0.023798327731330775\n"
     ]
    },
    {
     "name": "stderr",
     "output_type": "stream",
     "text": [
      " 25%|██▌       | 18/72 [00:23<01:10,  1.30s/it]\n",
      " 29%|██▉       | 21/72 [00:26<00:56,  1.10s/it]\n",
      "  0%|          | 0/72 [00:00<?, ?it/s]"
     ]
    },
    {
     "name": "stdout",
     "output_type": "stream",
     "text": [
      "Epoch 30 | Train Loss: 0.02515466949966397 | Test Loss: 0.02601882601286181\n"
     ]
    },
    {
     "name": "stderr",
     "output_type": "stream",
     "text": [
      " 35%|███▍      | 25/72 [00:31<00:59,  1.27s/it]\n",
      " 39%|███▉      | 28/72 [00:34<00:44,  1.02s/it]\n",
      "  0%|          | 0/72 [00:00<?, ?it/s]"
     ]
    },
    {
     "name": "stdout",
     "output_type": "stream",
     "text": [
      "Epoch 30 | Train Loss: 0.02539775669121618 | Test Loss: 0.026318531729177468\n"
     ]
    },
    {
     "name": "stderr",
     "output_type": "stream",
     "text": [
      " 90%|█████████ | 65/72 [01:24<00:09,  1.30s/it]\n",
      " 65%|██████▌   | 47/72 [01:01<00:27,  1.09s/it]\n",
      " 75%|███████▌  | 54/72 [01:10<00:18,  1.05s/it]"
     ]
    },
    {
     "name": "stdout",
     "output_type": "stream",
     "text": [
      "Epoch 31 | Train Loss: 0.024496962124567565 | Test Loss: 0.025917343937584922\n"
     ]
    },
    {
     "name": "stderr",
     "output_type": "stream",
     "text": [
      " 82%|████████▏ | 59/72 [01:16<00:16,  1.26s/it]\n",
      " 76%|███████▋  | 55/72 [01:10<00:17,  1.04s/it]\n",
      "  0%|          | 0/72 [00:00<?, ?it/s]"
     ]
    },
    {
     "name": "stdout",
     "output_type": "stream",
     "text": [
      "Epoch 31 | Train Loss: 0.02492681914919439 | Test Loss: 0.02519035366519044\n"
     ]
    },
    {
     "name": "stderr",
     "output_type": "stream",
     "text": [
      " 92%|█████████▏| 66/72 [01:25<00:07,  1.26s/it]\n",
      " 29%|██▉       | 21/72 [00:26<00:51,  1.02s/it]\n",
      "  0%|          | 0/72 [00:00<?, ?it/s]"
     ]
    },
    {
     "name": "stdout",
     "output_type": "stream",
     "text": [
      "Epoch 31 | Train Loss: 0.025101271792145836 | Test Loss: 0.026486384268436167\n"
     ]
    },
    {
     "name": "stderr",
     "output_type": "stream",
     "text": [
      "  6%|▌         | 4/72 [00:05<01:26,  1.27s/it]]\n",
      " 28%|██▊       | 20/72 [00:24<00:53,  1.04s/it]\n",
      "  0%|          | 0/72 [00:00<?, ?it/s]"
     ]
    },
    {
     "name": "stdout",
     "output_type": "stream",
     "text": [
      "Epoch 31 | Train Loss: 0.02582760436296929 | Test Loss: 0.026637612997243803\n"
     ]
    },
    {
     "name": "stderr",
     "output_type": "stream",
     "text": [
      " 90%|█████████ | 65/72 [01:23<00:08,  1.28s/it]\n",
      " 75%|███████▌  | 54/72 [01:09<00:19,  1.06s/it]\n",
      "  0%|          | 0/72 [00:00<?, ?it/s]"
     ]
    },
    {
     "name": "stdout",
     "output_type": "stream",
     "text": [
      "Epoch 32 | Train Loss: 0.023913368327036617 | Test Loss: 0.026494852849282324\n"
     ]
    },
    {
     "name": "stderr",
     "output_type": "stream",
     "text": [
      "  7%|▋         | 5/72 [00:06<01:24,  1.27s/it]]\n",
      " 76%|███████▋  | 55/72 [01:10<00:17,  1.04s/it]\n",
      "  0%|          | 0/72 [00:00<?, ?it/s]"
     ]
    },
    {
     "name": "stdout",
     "output_type": "stream",
     "text": [
      "Epoch 32 | Train Loss: 0.023439404581366778 | Test Loss: 0.02321658012806438\n"
     ]
    },
    {
     "name": "stderr",
     "output_type": "stream",
     "text": [
      "100%|██████████| 72/72 [01:32<00:00,  1.29s/it]\n",
      " 29%|██▉       | 21/72 [00:26<00:59,  1.16s/it]"
     ]
    },
    {
     "name": "stdout",
     "output_type": "stream",
     "text": [
      "Epoch 32 | Train Loss: 0.02528457837640514 | Test Loss: 0.02781486918684095\n"
     ]
    },
    {
     "name": "stderr",
     "output_type": "stream",
     "text": [
      "\n",
      " 25%|██▌       | 18/72 [00:22<01:04,  1.19s/it]\n",
      " 28%|██▊       | 20/72 [00:25<01:01,  1.18s/it]\n",
      "  0%|          | 0/72 [00:00<?, ?it/s]"
     ]
    },
    {
     "name": "stdout",
     "output_type": "stream",
     "text": [
      "Epoch 32 | Train Loss: 0.024630578161564394 | Test Loss: 0.024277865912558302\n"
     ]
    },
    {
     "name": "stderr",
     "output_type": "stream",
     "text": [
      "100%|██████████| 72/72 [01:33<00:00,  1.30s/it]\n",
      " 65%|██████▌   | 47/72 [01:01<00:30,  1.24s/it]\n",
      "  0%|          | 0/72 [00:00<?, ?it/s]"
     ]
    },
    {
     "name": "stdout",
     "output_type": "stream",
     "text": [
      "Epoch 33 | Train Loss: 0.024172622239545673 | Test Loss: 0.02608686663572573\n"
     ]
    },
    {
     "name": "stderr",
     "output_type": "stream",
     "text": [
      " 82%|████████▏ | 59/72 [01:17<00:16,  1.26s/it]\n",
      " 76%|███████▋  | 55/72 [01:11<00:17,  1.06s/it]\n",
      "  0%|          | 0/72 [00:00<?, ?it/s]"
     ]
    },
    {
     "name": "stdout",
     "output_type": "stream",
     "text": [
      "Epoch 33 | Train Loss: 0.023778646501456002 | Test Loss: 0.025143765572768945\n"
     ]
    },
    {
     "name": "stderr",
     "output_type": "stream",
     "text": [
      "100%|██████████| 72/72 [01:34<00:00,  1.31s/it]\n",
      " 29%|██▉       | 21/72 [00:26<00:59,  1.17s/it]\n",
      "  0%|          | 0/72 [00:00<?, ?it/s]"
     ]
    },
    {
     "name": "stdout",
     "output_type": "stream",
     "text": [
      "Epoch 33 | Train Loss: 0.025964301064947085 | Test Loss: 0.026771750546888344\n"
     ]
    },
    {
     "name": "stderr",
     "output_type": "stream",
     "text": [
      " 25%|██▌       | 18/72 [00:23<01:04,  1.19s/it]\n",
      " 28%|██▊       | 20/72 [00:25<00:57,  1.11s/it]\n",
      " 10%|▉         | 7/72 [00:08<01:16,  1.17s/it]"
     ]
    },
    {
     "name": "stdout",
     "output_type": "stream",
     "text": [
      "Epoch 33 | Train Loss: 0.024399893241833337 | Test Loss: 0.025725205218704004\n"
     ]
    },
    {
     "name": "stderr",
     "output_type": "stream",
     "text": [
      " 72%|███████▏  | 52/72 [01:08<00:24,  1.21s/it]\n",
      " 75%|███████▌  | 54/72 [01:10<00:20,  1.16s/it]\n",
      "  0%|          | 0/72 [00:00<?, ?it/s]"
     ]
    },
    {
     "name": "stdout",
     "output_type": "stream",
     "text": [
      "Epoch 34 | Train Loss: 0.025080707298023714 | Test Loss: 0.026028839392691024\n"
     ]
    },
    {
     "name": "stderr",
     "output_type": "stream",
     "text": [
      " 72%|███████▏  | 52/72 [01:08<00:26,  1.34s/it]\n",
      " 10%|▉         | 7/72 [00:08<01:12,  1.12s/it]]\n",
      "  0%|          | 0/72 [00:00<?, ?it/s]"
     ]
    },
    {
     "name": "stdout",
     "output_type": "stream",
     "text": [
      "Epoch 34 | Train Loss: 0.025069550962246417 | Test Loss: 0.024593786549909662\n"
     ]
    },
    {
     "name": "stderr",
     "output_type": "stream",
     "text": [
      " 90%|█████████ | 65/72 [01:25<00:08,  1.28s/it]\n",
      " 94%|█████████▍| 68/72 [01:28<00:04,  1.04s/it]\n",
      "  0%|          | 0/72 [00:00<?, ?it/s]"
     ]
    },
    {
     "name": "stdout",
     "output_type": "stream",
     "text": [
      "Epoch 34 | Train Loss: 0.025479013134250425 | Test Loss: 0.02574023563000891\n"
     ]
    },
    {
     "name": "stderr",
     "output_type": "stream",
     "text": [
      " 25%|██▌       | 18/72 [00:22<01:04,  1.20s/it]\n",
      " 10%|▉         | 7/72 [00:08<01:10,  1.09s/it]]\n",
      "  0%|          | 0/72 [00:00<?, ?it/s]"
     ]
    },
    {
     "name": "stdout",
     "output_type": "stream",
     "text": [
      "Epoch 34 | Train Loss: 0.02467540121814487 | Test Loss: 0.025685028402626306\n"
     ]
    },
    {
     "name": "stderr",
     "output_type": "stream",
     "text": [
      " 62%|██████▎   | 45/72 [00:59<00:33,  1.26s/it]\n",
      " 94%|█████████▍| 68/72 [01:27<00:04,  1.10s/it]\n",
      " 76%|███████▋  | 55/72 [01:11<00:18,  1.07s/it]"
     ]
    },
    {
     "name": "stdout",
     "output_type": "stream",
     "text": [
      "Epoch 35 | Train Loss: 0.024126727508622135 | Test Loss: 0.025614810092115983\n"
     ]
    },
    {
     "name": "stderr",
     "output_type": "stream",
     "text": [
      "100%|██████████| 72/72 [01:32<00:00,  1.29s/it]\n",
      " 75%|███████▌  | 54/72 [01:10<00:20,  1.14s/it]\n",
      "  0%|          | 0/72 [00:00<?, ?it/s]"
     ]
    },
    {
     "name": "stdout",
     "output_type": "stream",
     "text": [
      "Epoch 35 | Train Loss: 0.024086381793410543 | Test Loss: 0.023836416606273916\n"
     ]
    },
    {
     "name": "stderr",
     "output_type": "stream",
     "text": [
      " 90%|█████████ | 65/72 [01:24<00:08,  1.27s/it]\n",
      " 94%|█████████▍| 68/72 [01:27<00:04,  1.06s/it]\n",
      "  0%|          | 0/72 [00:00<?, ?it/s]"
     ]
    },
    {
     "name": "stdout",
     "output_type": "stream",
     "text": [
      "Epoch 35 | Train Loss: 0.024596842491334155 | Test Loss: 0.02786206335036291\n"
     ]
    },
    {
     "name": "stderr",
     "output_type": "stream",
     "text": [
      " 35%|███▍      | 25/72 [00:31<00:56,  1.20s/it]\n",
      " 10%|▉         | 7/72 [00:08<01:07,  1.05s/it]]\n",
      "  0%|          | 0/72 [00:00<?, ?it/s]"
     ]
    },
    {
     "name": "stdout",
     "output_type": "stream",
     "text": [
      "Epoch 35 | Train Loss: 0.023378500626701618 | Test Loss: 0.024209435589404568\n"
     ]
    },
    {
     "name": "stderr",
     "output_type": "stream",
     "text": [
      " 62%|██████▎   | 45/72 [00:59<00:33,  1.25s/it]\n",
      " 76%|███████▋  | 55/72 [01:11<00:17,  1.03s/it]\n",
      "  0%|          | 0/72 [00:00<?, ?it/s]"
     ]
    },
    {
     "name": "stdout",
     "output_type": "stream",
     "text": [
      "Epoch 36 | Train Loss: 0.025077801238224364 | Test Loss: 0.026532007271372195\n"
     ]
    },
    {
     "name": "stderr",
     "output_type": "stream",
     "text": [
      "  6%|▌         | 4/72 [00:05<01:27,  1.28s/it]]\n",
      " 75%|███████▌  | 54/72 [01:10<00:19,  1.08s/it]"
     ]
    },
    {
     "name": "stdout",
     "output_type": "stream",
     "text": [
      "Epoch 36 | Train Loss: 0.02420689347810998 | Test Loss: 0.023789522871892486\n"
     ]
    },
    {
     "name": "stderr",
     "output_type": "stream",
     "text": [
      "\n",
      " 24%|██▎       | 17/72 [00:21<01:09,  1.26s/it]\n",
      " 18%|█▊        | 13/72 [00:16<01:04,  1.10s/it]"
     ]
    },
    {
     "name": "stdout",
     "output_type": "stream",
     "text": [
      "Epoch 36 | Train Loss: 0.02602202176067049 | Test Loss: 0.026420599936197203\n"
     ]
    },
    {
     "name": "stderr",
     "output_type": "stream",
     "text": [
      "\n",
      "  7%|▋         | 5/72 [00:06<01:23,  1.25s/it]]\n",
      " 29%|██▉       | 21/72 [00:25<00:56,  1.10s/it]"
     ]
    },
    {
     "name": "stdout",
     "output_type": "stream",
     "text": [
      "Epoch 36 | Train Loss: 0.023963909346988985 | Test Loss: 0.024959071688095316\n"
     ]
    },
    {
     "name": "stderr",
     "output_type": "stream",
     "text": [
      "\n",
      "100%|██████████| 72/72 [01:33<00:00,  1.30s/it]\n",
      " 96%|█████████▌| 69/72 [01:28<00:03,  1.17s/it]\n",
      "  0%|          | 0/72 [00:00<?, ?it/s]"
     ]
    },
    {
     "name": "stdout",
     "output_type": "stream",
     "text": [
      "Epoch 37 | Train Loss: 0.025216423185440272 | Test Loss: 0.026275351772912674\n"
     ]
    },
    {
     "name": "stderr",
     "output_type": "stream",
     "text": [
      " 82%|████████▏ | 59/72 [01:16<00:15,  1.17s/it]\n",
      "  8%|▊         | 6/72 [00:07<01:13,  1.12s/it]]\n",
      "  0%|          | 0/72 [00:00<?, ?it/s]"
     ]
    },
    {
     "name": "stdout",
     "output_type": "stream",
     "text": [
      "Epoch 37 | Train Loss: 0.023553065466917048 | Test Loss: 0.024869218982833747\n"
     ]
    },
    {
     "name": "stderr",
     "output_type": "stream",
     "text": [
      " 89%|████████▉ | 64/72 [01:24<00:10,  1.34s/it]\n",
      " 93%|█████████▎| 67/72 [01:26<00:05,  1.05s/it]\n",
      "  0%|          | 0/72 [00:00<?, ?it/s]"
     ]
    },
    {
     "name": "stdout",
     "output_type": "stream",
     "text": [
      "Epoch 37 | Train Loss: 0.025776721048391352 | Test Loss: 0.026412915444881137\n"
     ]
    },
    {
     "name": "stderr",
     "output_type": "stream",
     "text": [
      " 26%|██▋       | 19/72 [00:24<01:05,  1.24s/it]\n",
      " 11%|█         | 8/72 [00:09<01:10,  1.10s/it]]\n",
      "  0%|          | 0/72 [00:00<?, ?it/s]"
     ]
    },
    {
     "name": "stdout",
     "output_type": "stream",
     "text": [
      "Epoch 37 | Train Loss: 0.02225432939079795 | Test Loss: 0.023430645258890256\n"
     ]
    },
    {
     "name": "stderr",
     "output_type": "stream",
     "text": [
      " 92%|█████████▏| 66/72 [01:26<00:07,  1.29s/it]\n",
      " 65%|██████▌   | 47/72 [01:01<00:28,  1.12s/it]\n",
      "  0%|          | 0/72 [00:00<?, ?it/s]"
     ]
    },
    {
     "name": "stdout",
     "output_type": "stream",
     "text": [
      "Epoch 38 | Train Loss: 0.024983050276587624 | Test Loss: 0.025721929120158568\n"
     ]
    },
    {
     "name": "stderr",
     "output_type": "stream",
     "text": [
      " 83%|████████▎ | 60/72 [01:17<00:14,  1.20s/it]\n",
      " 75%|███████▌  | 54/72 [01:09<00:18,  1.05s/it]\n",
      "  0%|          | 0/72 [00:00<?, ?it/s]"
     ]
    },
    {
     "name": "stdout",
     "output_type": "stream",
     "text": [
      "Epoch 38 | Train Loss: 0.022975619760973884 | Test Loss: 0.021505679653879877\n"
     ]
    },
    {
     "name": "stderr",
     "output_type": "stream",
     "text": [
      " 89%|████████▉ | 64/72 [01:22<00:10,  1.31s/it]\n",
      " 93%|█████████▎| 67/72 [01:25<00:05,  1.10s/it]\n",
      " 18%|█▊        | 13/72 [00:16<01:01,  1.04s/it]"
     ]
    },
    {
     "name": "stdout",
     "output_type": "stream",
     "text": [
      "Epoch 38 | Train Loss: 0.02483437772513368 | Test Loss: 0.026693212010690734\n"
     ]
    },
    {
     "name": "stderr",
     "output_type": "stream",
     "text": [
      " 25%|██▌       | 18/72 [00:22<01:10,  1.30s/it]\n",
      " 38%|███▊      | 27/72 [00:33<00:52,  1.16s/it]\n",
      "  0%|          | 0/72 [00:00<?, ?it/s]"
     ]
    },
    {
     "name": "stdout",
     "output_type": "stream",
     "text": [
      "Epoch 38 | Train Loss: 0.023387513039301883 | Test Loss: 0.022571592436482508\n"
     ]
    },
    {
     "name": "stderr",
     "output_type": "stream",
     "text": [
      " 90%|█████████ | 65/72 [01:25<00:09,  1.33s/it]\n",
      " 94%|█████████▍| 68/72 [01:28<00:04,  1.12s/it]\n",
      "  0%|          | 0/72 [00:00<?, ?it/s]"
     ]
    },
    {
     "name": "stdout",
     "output_type": "stream",
     "text": [
      "Epoch 39 | Train Loss: 0.024723183230976765 | Test Loss: 0.026243387132934812\n"
     ]
    },
    {
     "name": "stderr",
     "output_type": "stream",
     "text": [
      " 83%|████████▎ | 60/72 [01:17<00:14,  1.23s/it]\n",
      " 10%|▉         | 7/72 [00:08<01:07,  1.04s/it]]\n",
      "  0%|          | 0/72 [00:00<?, ?it/s]"
     ]
    },
    {
     "name": "stdout",
     "output_type": "stream",
     "text": [
      "Epoch 39 | Train Loss: 0.023793660351872237 | Test Loss: 0.022457413892779086\n"
     ]
    },
    {
     "name": "stderr",
     "output_type": "stream",
     "text": [
      " 24%|██▎       | 17/72 [00:21<01:09,  1.27s/it]\n",
      " 93%|█████████▎| 67/72 [01:26<00:05,  1.08s/it]"
     ]
    },
    {
     "name": "stdout",
     "output_type": "stream",
     "text": [
      "Epoch 39 | Train Loss: 0.02382059274832002 | Test Loss: 0.024241255382852007\n"
     ]
    },
    {
     "name": "stderr",
     "output_type": "stream",
     "text": [
      "\n",
      "100%|██████████| 72/72 [01:33<00:00,  1.29s/it]\n",
      " 28%|██▊       | 20/72 [00:25<00:59,  1.14s/it]\n",
      "  0%|          | 0/72 [00:00<?, ?it/s]"
     ]
    },
    {
     "name": "stdout",
     "output_type": "stream",
     "text": [
      "Epoch 39 | Train Loss: 0.023043189026240574 | Test Loss: 0.025731124261963285\n"
     ]
    },
    {
     "name": "stderr",
     "output_type": "stream",
     "text": [
      " 74%|███████▎  | 53/72 [01:09<00:24,  1.30s/it]\n",
      " 94%|█████████▍| 68/72 [01:27<00:04,  1.12s/it]\n",
      "  0%|          | 0/72 [00:00<?, ?it/s]"
     ]
    },
    {
     "name": "stdout",
     "output_type": "stream",
     "text": [
      "Epoch 40 | Train Loss: 0.024894516063056284 | Test Loss: 0.02620595202056898\n"
     ]
    },
    {
     "name": "stderr",
     "output_type": "stream",
     "text": [
      "  6%|▌         | 4/72 [00:05<01:29,  1.31s/it]]\n",
      " 86%|████████▌ | 62/72 [01:19<00:11,  1.11s/it]\n",
      " 10%|▉         | 7/72 [00:08<01:07,  1.04s/it]"
     ]
    },
    {
     "name": "stdout",
     "output_type": "stream",
     "text": [
      "Epoch 40 | Train Loss: 0.023775137468143248 | Test Loss: 0.02481914757906149\n"
     ]
    },
    {
     "name": "stderr",
     "output_type": "stream",
     "text": [
      " 89%|████████▉ | 64/72 [01:23<00:10,  1.34s/it]\n",
      " 17%|█▋        | 12/72 [00:15<01:10,  1.17s/it]\n",
      "  0%|          | 0/72 [00:00<?, ?it/s]"
     ]
    },
    {
     "name": "stdout",
     "output_type": "stream",
     "text": [
      "Epoch 40 | Train Loss: 0.025254075424333017 | Test Loss: 0.02586408536363807\n"
     ]
    },
    {
     "name": "stderr",
     "output_type": "stream",
     "text": [
      "  8%|▊         | 6/72 [00:07<01:18,  1.19s/it]]\n",
      " 39%|███▉      | 28/72 [00:33<00:45,  1.04s/it]\n",
      "  0%|          | 0/72 [00:00<?, ?it/s]"
     ]
    },
    {
     "name": "stdout",
     "output_type": "stream",
     "text": [
      "Epoch 40 | Train Loss: 0.025278344197760292 | Test Loss: 0.02631987574406796\n"
     ]
    },
    {
     "name": "stderr",
     "output_type": "stream",
     "text": [
      "100%|██████████| 72/72 [01:32<00:00,  1.28s/it]\n",
      " 64%|██████▍   | 46/72 [01:01<00:32,  1.24s/it]\n",
      " 78%|███████▊  | 56/72 [01:11<00:16,  1.04s/it]"
     ]
    },
    {
     "name": "stdout",
     "output_type": "stream",
     "text": [
      "Epoch 41 | Train Loss: 0.024610549570761173 | Test Loss: 0.025092046992439363\n"
     ]
    },
    {
     "name": "stderr",
     "output_type": "stream",
     "text": [
      "  7%|▋         | 5/72 [00:06<01:31,  1.37s/it]]\n",
      " 75%|███████▌  | 54/72 [01:10<00:20,  1.12s/it]\n",
      "  0%|          | 0/72 [00:00<?, ?it/s]"
     ]
    },
    {
     "name": "stdout",
     "output_type": "stream",
     "text": [
      "Epoch 41 | Train Loss: 0.02452269879021689 | Test Loss: 0.026709536368596472\n"
     ]
    },
    {
     "name": "stderr",
     "output_type": "stream",
     "text": [
      " 22%|██▏       | 16/72 [00:21<01:08,  1.22s/it]\n",
      " 15%|█▌        | 11/72 [00:13<01:08,  1.12s/it]\n",
      " 26%|██▋       | 19/72 [00:24<00:57,  1.08s/it]"
     ]
    },
    {
     "name": "stdout",
     "output_type": "stream",
     "text": [
      "Epoch 41 | Train Loss: 0.024150270546303428 | Test Loss: 0.027735802590743534\n"
     ]
    },
    {
     "name": "stderr",
     "output_type": "stream",
     "text": [
      " 11%|█         | 8/72 [00:10<01:16,  1.20s/it]]\n",
      " 31%|███       | 22/72 [00:26<00:52,  1.04s/it]\n",
      " 40%|████      | 29/72 [00:37<00:50,  1.18s/it]"
     ]
    },
    {
     "name": "stdout",
     "output_type": "stream",
     "text": [
      "Epoch 41 | Train Loss: 0.025044743357619494 | Test Loss: 0.025772683568195336\n"
     ]
    },
    {
     "name": "stderr",
     "output_type": "stream",
     "text": [
      " 60%|█████▉    | 43/72 [00:58<00:35,  1.23s/it]\n",
      " 79%|███████▉  | 57/72 [01:14<00:16,  1.07s/it]\n",
      "  0%|          | 0/72 [00:00<?, ?it/s]"
     ]
    },
    {
     "name": "stdout",
     "output_type": "stream",
     "text": [
      "Epoch 42 | Train Loss: 0.024579604397439676 | Test Loss: 0.02485415098231493\n"
     ]
    },
    {
     "name": "stderr",
     "output_type": "stream",
     "text": [
      "  4%|▍         | 3/72 [00:03<01:28,  1.29s/it]]\n",
      " 88%|████████▊ | 63/72 [01:20<00:09,  1.01s/it]\n",
      "  0%|          | 0/72 [00:00<?, ?it/s]"
     ]
    },
    {
     "name": "stdout",
     "output_type": "stream",
     "text": [
      "Epoch 42 | Train Loss: 0.024628451183036967 | Test Loss: 0.02460629009227786\n"
     ]
    },
    {
     "name": "stderr",
     "output_type": "stream",
     "text": [
      " 21%|██        | 15/72 [00:18<01:13,  1.29s/it]\n",
      " 17%|█▋        | 12/72 [00:14<01:03,  1.06s/it]\n",
      "  0%|          | 0/72 [00:00<?, ?it/s]"
     ]
    },
    {
     "name": "stdout",
     "output_type": "stream",
     "text": [
      "Epoch 42 | Train Loss: 0.026023093034892784 | Test Loss: 0.027131211167822283\n"
     ]
    },
    {
     "name": "stderr",
     "output_type": "stream",
     "text": [
      " 12%|█▎        | 9/72 [00:11<01:20,  1.28s/it]]\n",
      " 33%|███▎      | 24/72 [00:29<00:50,  1.05s/it]\n",
      "  0%|          | 0/72 [00:00<?, ?it/s]"
     ]
    },
    {
     "name": "stdout",
     "output_type": "stream",
     "text": [
      "Epoch 42 | Train Loss: 0.02466463069103781 | Test Loss: 0.02483877145116114\n"
     ]
    },
    {
     "name": "stderr",
     "output_type": "stream",
     "text": [
      " 94%|█████████▍| 68/72 [01:27<00:04,  1.21s/it]\n",
      " 81%|████████  | 58/72 [01:14<00:14,  1.05s/it]\n",
      "  0%|          | 0/72 [00:00<?, ?it/s]"
     ]
    },
    {
     "name": "stdout",
     "output_type": "stream",
     "text": [
      "Epoch 43 | Train Loss: 0.024193178182653922 | Test Loss: 0.02401960842932264\n"
     ]
    },
    {
     "name": "stderr",
     "output_type": "stream",
     "text": [
      "  3%|▎         | 2/72 [00:02<01:28,  1.27s/it]]\n",
      " 88%|████████▊ | 63/72 [01:19<00:09,  1.01s/it]\n",
      "  0%|          | 0/72 [00:00<?, ?it/s]"
     ]
    },
    {
     "name": "stdout",
     "output_type": "stream",
     "text": [
      "Epoch 43 | Train Loss: 0.023869343421589438 | Test Loss: 0.02400652616051957\n"
     ]
    },
    {
     "name": "stderr",
     "output_type": "stream",
     "text": [
      " 12%|█▎        | 9/72 [00:12<01:23,  1.32s/it]]\n",
      " 17%|█▋        | 12/72 [00:14<01:03,  1.07s/it]\n",
      "  0%|          | 0/72 [00:00<?, ?it/s]"
     ]
    },
    {
     "name": "stdout",
     "output_type": "stream",
     "text": [
      "Epoch 43 | Train Loss: 0.025520757950848853 | Test Loss: 0.02616158439519091\n"
     ]
    },
    {
     "name": "stderr",
     "output_type": "stream",
     "text": [
      " 31%|███       | 22/72 [00:28<01:03,  1.27s/it]\n",
      " 35%|███▍      | 25/72 [00:31<00:48,  1.03s/it]\n",
      "  0%|          | 0/72 [00:00<?, ?it/s]"
     ]
    },
    {
     "name": "stdout",
     "output_type": "stream",
     "text": [
      "Epoch 43 | Train Loss: 0.024419367702582368 | Test Loss: 0.024704908276261348\n"
     ]
    },
    {
     "name": "stderr",
     "output_type": "stream",
     "text": [
      " 96%|█████████▌| 69/72 [01:28<00:03,  1.22s/it]\n",
      " 82%|████████▏ | 59/72 [01:16<00:13,  1.06s/it]\n",
      "  0%|          | 0/72 [00:00<?, ?it/s]"
     ]
    },
    {
     "name": "stdout",
     "output_type": "stream",
     "text": [
      "Epoch 44 | Train Loss: 0.02455390496689221 | Test Loss: 0.024724372171072498\n"
     ]
    },
    {
     "name": "stderr",
     "output_type": "stream",
     "text": [
      "  1%|▏         | 1/72 [00:01<01:32,  1.30s/it]]\n",
      " 88%|████████▊ | 63/72 [01:20<00:08,  1.00it/s]\n",
      "  0%|          | 0/72 [00:00<?, ?it/s]"
     ]
    },
    {
     "name": "stdout",
     "output_type": "stream",
     "text": [
      "Epoch 44 | Train Loss: 0.02299507120729373 | Test Loss: 0.02193776096424295\n"
     ]
    },
    {
     "name": "stderr",
     "output_type": "stream",
     "text": [
      " 82%|████████▏ | 59/72 [01:16<00:16,  1.30s/it]\n",
      " 17%|█▋        | 12/72 [00:14<01:02,  1.05s/it]\n",
      "  0%|          | 0/72 [00:00<?, ?it/s]"
     ]
    },
    {
     "name": "stdout",
     "output_type": "stream",
     "text": [
      "Epoch 44 | Train Loss: 0.024703818986711815 | Test Loss: 0.02473021146013505\n"
     ]
    },
    {
     "name": "stderr",
     "output_type": "stream",
     "text": [
      " 36%|███▌      | 26/72 [00:32<00:57,  1.25s/it]\n",
      " 40%|████      | 29/72 [00:36<00:47,  1.10s/it]\n",
      "  0%|          | 0/72 [00:00<?, ?it/s]"
     ]
    },
    {
     "name": "stdout",
     "output_type": "stream",
     "text": [
      "Epoch 44 | Train Loss: 0.024221772634279434 | Test Loss: 0.02614536928012967\n"
     ]
    },
    {
     "name": "stderr",
     "output_type": "stream",
     "text": [
      " 79%|███████▉  | 57/72 [01:15<00:18,  1.25s/it]\n",
      " 64%|██████▍   | 46/72 [01:00<00:27,  1.06s/it]\n",
      "  0%|          | 0/72 [00:00<?, ?it/s]"
     ]
    },
    {
     "name": "stdout",
     "output_type": "stream",
     "text": [
      "Epoch 45 | Train Loss: 0.02505804834277292 | Test Loss: 0.02642556233978313\n"
     ]
    },
    {
     "name": "stderr",
     "output_type": "stream",
     "text": [
      " 65%|██████▌   | 47/72 [01:01<00:28,  1.12s/it]\n",
      " 88%|████████▊ | 63/72 [01:21<00:09,  1.01s/it]\n",
      "  0%|          | 0/72 [00:00<?, ?it/s]"
     ]
    },
    {
     "name": "stdout",
     "output_type": "stream",
     "text": [
      "Epoch 45 | Train Loss: 0.024654178508758857 | Test Loss: 0.02504147981138279\n"
     ]
    },
    {
     "name": "stderr",
     "output_type": "stream",
     "text": [
      " 18%|█▊        | 13/72 [00:16<01:12,  1.24s/it]\n",
      " 17%|█▋        | 12/72 [00:14<01:04,  1.08s/it]\n",
      "  0%|          | 0/72 [00:00<?, ?it/s]"
     ]
    },
    {
     "name": "stdout",
     "output_type": "stream",
     "text": [
      "Epoch 45 | Train Loss: 0.023741673302717772 | Test Loss: 0.030817690667592816\n"
     ]
    },
    {
     "name": "stderr",
     "output_type": "stream",
     "text": [
      " 32%|███▏      | 23/72 [00:29<01:03,  1.30s/it]\n",
      " 18%|█▊        | 13/72 [00:16<01:07,  1.15s/it]\n",
      " 40%|████      | 29/72 [00:35<00:44,  1.04s/it]"
     ]
    },
    {
     "name": "stdout",
     "output_type": "stream",
     "text": [
      "Epoch 45 | Train Loss: 0.02422171732253815 | Test Loss: 0.024615062976307753\n"
     ]
    },
    {
     "name": "stderr",
     "output_type": "stream",
     "text": [
      " 79%|███████▉  | 57/72 [01:14<00:19,  1.32s/it]\n",
      " 64%|██████▍   | 46/72 [01:00<00:28,  1.11s/it]"
     ]
    },
    {
     "name": "stdout",
     "output_type": "stream",
     "text": [
      "Epoch 46 | Train Loss: 0.02442109638859043 | Test Loss: 0.023671984439715743\n"
     ]
    },
    {
     "name": "stderr",
     "output_type": "stream",
     "text": [
      "\n",
      " 65%|██████▌   | 47/72 [01:01<00:29,  1.16s/it]\n",
      " 88%|████████▊ | 63/72 [01:21<00:09,  1.05s/it]\n",
      "  0%|          | 0/72 [00:00<?, ?it/s]"
     ]
    },
    {
     "name": "stdout",
     "output_type": "stream",
     "text": [
      "Epoch 46 | Train Loss: 0.023792024357948326 | Test Loss: 0.02418024663347751\n"
     ]
    },
    {
     "name": "stderr",
     "output_type": "stream",
     "text": [
      " 18%|█▊        | 13/72 [00:16<01:17,  1.32s/it]\n",
      " 17%|█▋        | 12/72 [00:15<01:09,  1.15s/it]\n",
      "  0%|          | 0/72 [00:00<?, ?it/s]"
     ]
    },
    {
     "name": "stdout",
     "output_type": "stream",
     "text": [
      "Epoch 46 | Train Loss: 0.025485709421239552 | Test Loss: 0.02529070265073743\n"
     ]
    },
    {
     "name": "stderr",
     "output_type": "stream",
     "text": [
      "100%|██████████| 72/72 [01:33<00:00,  1.30s/it]\n",
      " 18%|█▊        | 13/72 [00:16<01:08,  1.15s/it]\n",
      "  0%|          | 0/72 [00:00<?, ?it/s]"
     ]
    },
    {
     "name": "stdout",
     "output_type": "stream",
     "text": [
      "Epoch 46 | Train Loss: 0.024603566422663647 | Test Loss: 0.025624783298957884\n"
     ]
    },
    {
     "name": "stderr",
     "output_type": "stream",
     "text": [
      " 96%|█████████▌| 69/72 [01:30<00:03,  1.31s/it]\n",
      " 64%|██████▍   | 46/72 [01:00<00:29,  1.15s/it]\n",
      "100%|██████████| 72/72 [01:32<00:00,  1.29s/it]"
     ]
    },
    {
     "name": "stdout",
     "output_type": "stream",
     "text": [
      "Epoch 47 | Train Loss: 0.023302260245788003 | Test Loss: 0.025133575345130846\n"
     ]
    },
    {
     "name": "stderr",
     "output_type": "stream",
     "text": [
      " 83%|████████▎ | 60/72 [01:17<00:12,  1.08s/it]\n",
      "  4%|▍         | 3/72 [00:03<01:06,  1.04it/s]]\n",
      "  0%|          | 0/72 [00:00<?, ?it/s]"
     ]
    },
    {
     "name": "stdout",
     "output_type": "stream",
     "text": [
      "Epoch 47 | Train Loss: 0.0231694237569381 | Test Loss: 0.022572169752998486\n"
     ]
    },
    {
     "name": "stderr",
     "output_type": "stream",
     "text": [
      " 14%|█▍        | 10/72 [00:13<01:15,  1.22s/it]\n",
      " 86%|████████▌ | 62/72 [01:19<00:10,  1.06s/it]\n",
      "  0%|          | 0/72 [00:00<?, ?it/s]"
     ]
    },
    {
     "name": "stdout",
     "output_type": "stream",
     "text": [
      "Epoch 47 | Train Loss: 0.024440819079575852 | Test Loss: 0.024370941618043516\n"
     ]
    },
    {
     "name": "stderr",
     "output_type": "stream",
     "text": [
      " 36%|███▌      | 26/72 [00:32<00:59,  1.29s/it]\n",
      " 18%|█▊        | 13/72 [00:16<01:03,  1.08s/it]\n",
      "  0%|          | 0/72 [00:00<?, ?it/s]"
     ]
    },
    {
     "name": "stdout",
     "output_type": "stream",
     "text": [
      "Epoch 47 | Train Loss: 0.02392490476865053 | Test Loss: 0.02479785854747105\n"
     ]
    },
    {
     "name": "stderr",
     "output_type": "stream",
     "text": [
      " 79%|███████▉  | 57/72 [01:14<00:19,  1.31s/it]\n",
      " 64%|██████▍   | 46/72 [01:00<00:30,  1.16s/it]\n",
      "100%|██████████| 72/72 [01:32<00:00,  1.29s/it]"
     ]
    },
    {
     "name": "stdout",
     "output_type": "stream",
     "text": [
      "Epoch 48 | Train Loss: 0.024154105464030514 | Test Loss: 0.023251567372224398\n"
     ]
    },
    {
     "name": "stderr",
     "output_type": "stream",
     "text": [
      " 83%|████████▎ | 60/72 [01:17<00:14,  1.17s/it]\n",
      "  4%|▍         | 3/72 [00:03<01:11,  1.03s/it]]\n",
      "  0%|          | 0/72 [00:00<?, ?it/s]"
     ]
    },
    {
     "name": "stdout",
     "output_type": "stream",
     "text": [
      "Epoch 48 | Train Loss: 0.021869473513717447 | Test Loss: 0.022042765773625836\n"
     ]
    },
    {
     "name": "stderr",
     "output_type": "stream",
     "text": [
      " 82%|████████▏ | 59/72 [01:16<00:16,  1.30s/it]\n",
      " 17%|█▋        | 12/72 [00:15<01:08,  1.14s/it]\n",
      " 86%|████████▌ | 62/72 [01:19<00:10,  1.02s/it]"
     ]
    },
    {
     "name": "stdout",
     "output_type": "stream",
     "text": [
      "Epoch 48 | Train Loss: 0.02331214322895459 | Test Loss: 0.023586786455578275\n"
     ]
    },
    {
     "name": "stderr",
     "output_type": "stream",
     "text": [
      " 32%|███▏      | 23/72 [00:29<01:01,  1.25s/it]\n",
      " 18%|█▊        | 13/72 [00:16<01:02,  1.06s/it]"
     ]
    },
    {
     "name": "stdout",
     "output_type": "stream",
     "text": [
      "Epoch 48 | Train Loss: 0.024110206408502224 | Test Loss: 0.024557665003360145\n"
     ]
    },
    {
     "name": "stderr",
     "output_type": "stream",
     "text": [
      "\n",
      " 60%|█████▉    | 43/72 [00:57<00:38,  1.34s/it]\n",
      " 64%|██████▍   | 46/72 [01:00<00:29,  1.13s/it]\n",
      "  0%|          | 0/72 [00:00<?, ?it/s]"
     ]
    },
    {
     "name": "stdout",
     "output_type": "stream",
     "text": [
      "Epoch 49 | Train Loss: 0.022666827752072845 | Test Loss: 0.021545464793841045\n"
     ]
    },
    {
     "name": "stderr",
     "output_type": "stream",
     "text": [
      "  1%|▏         | 1/72 [00:01<01:30,  1.27s/it]]\n",
      "  4%|▍         | 3/72 [00:03<01:22,  1.20s/it]]\n",
      " 88%|████████▊ | 63/72 [01:21<00:09,  1.06s/it]"
     ]
    },
    {
     "name": "stdout",
     "output_type": "stream",
     "text": [
      "Epoch 49 | Train Loss: 0.02349139372215361 | Test Loss: 0.023618319476049185\n"
     ]
    },
    {
     "name": "stderr",
     "output_type": "stream",
     "text": [
      " 82%|████████▏ | 59/72 [01:17<00:16,  1.30s/it]\n",
      " 17%|█▋        | 12/72 [00:15<01:06,  1.11s/it]\n",
      "  0%|          | 0/72 [00:00<?, ?it/s]"
     ]
    },
    {
     "name": "stdout",
     "output_type": "stream",
     "text": [
      "Epoch 49 | Train Loss: 0.023589783866803198 | Test Loss: 0.025791170107873365\n"
     ]
    },
    {
     "name": "stderr",
     "output_type": "stream",
     "text": [
      "100%|██████████| 72/72 [01:33<00:00,  1.30s/it]\n",
      " 18%|█▊        | 13/72 [00:17<01:12,  1.23s/it]\n",
      "  0%|          | 0/72 [00:00<?, ?it/s]"
     ]
    },
    {
     "name": "stdout",
     "output_type": "stream",
     "text": [
      "Epoch 49 | Train Loss: 0.023991539427034757 | Test Loss: 0.025935161173240177\n"
     ]
    },
    {
     "name": "stderr",
     "output_type": "stream",
     "text": [
      " 58%|█████▊    | 42/72 [00:56<00:37,  1.24s/it]\n",
      " 97%|█████████▋| 70/72 [01:31<00:02,  1.07s/it]\n",
      " 81%|████████  | 58/72 [01:17<00:16,  1.21s/it]"
     ]
    },
    {
     "name": "stdout",
     "output_type": "stream",
     "text": [
      "Epoch 50 | Train Loss: 0.02303322519844869 | Test Loss: 0.025214467391682167\n"
     ]
    },
    {
     "name": "stderr",
     "output_type": "stream",
     "text": [
      "100%|██████████| 72/72 [01:34<00:00,  1.31s/it]\n",
      " 68%|██████▊   | 49/72 [01:04<00:26,  1.15s/it]\n",
      "  7%|▋         | 5/72 [00:05<01:06,  1.01it/s]"
     ]
    },
    {
     "name": "stdout",
     "output_type": "stream",
     "text": [
      "Epoch 50 | Train Loss: 0.02134025708362007 | Test Loss: 0.023473595970750064\n"
     ]
    },
    {
     "name": "stderr",
     "output_type": "stream",
     "text": [
      " 14%|█▍        | 10/72 [00:13<01:20,  1.30s/it]\n",
      " 86%|████████▌ | 62/72 [01:20<00:10,  1.08s/it]\n",
      " 18%|█▊        | 13/72 [00:16<01:03,  1.08s/it]"
     ]
    },
    {
     "name": "stdout",
     "output_type": "stream",
     "text": [
      "Epoch 50 | Train Loss: 0.024608971167527315 | Test Loss: 0.023563628033217456\n"
     ]
    },
    {
     "name": "stderr",
     "output_type": "stream",
     "text": [
      " 32%|███▏      | 23/72 [00:29<01:04,  1.32s/it]\n",
      " 18%|█▊        | 13/72 [00:16<01:01,  1.04s/it]\n",
      "  0%|          | 0/72 [00:00<?, ?it/s]"
     ]
    },
    {
     "name": "stdout",
     "output_type": "stream",
     "text": [
      "Epoch 50 | Train Loss: 0.025048446008930716 | Test Loss: 0.024719075778395765\n"
     ]
    },
    {
     "name": "stderr",
     "output_type": "stream",
     "text": [
      " 76%|███████▋  | 55/72 [01:12<00:21,  1.24s/it]\n",
      " 62%|██████▎   | 45/72 [00:58<00:28,  1.04s/it]\n",
      "  0%|          | 0/72 [00:00<?, ?it/s]"
     ]
    },
    {
     "name": "stdout",
     "output_type": "stream",
     "text": [
      "Epoch 51 | Train Loss: 0.022883101627004084 | Test Loss: 0.02293379427606447\n"
     ]
    },
    {
     "name": "stderr",
     "output_type": "stream",
     "text": [
      "  3%|▎         | 2/72 [00:02<01:30,  1.30s/it]]\n",
      " 86%|████████▌ | 62/72 [01:19<00:10,  1.08s/it]\n",
      " 69%|██████▉   | 50/72 [01:04<00:22,  1.04s/it]"
     ]
    },
    {
     "name": "stdout",
     "output_type": "stream",
     "text": [
      "Epoch 51 | Train Loss: 0.02485791978941701 | Test Loss: 0.025767536808012262\n"
     ]
    },
    {
     "name": "stderr",
     "output_type": "stream",
     "text": [
      " 14%|█▍        | 10/72 [00:13<01:19,  1.28s/it]\n",
      " 24%|██▎       | 17/72 [00:21<01:01,  1.12s/it]\n",
      " 18%|█▊        | 13/72 [00:16<01:01,  1.04s/it]"
     ]
    },
    {
     "name": "stdout",
     "output_type": "stream",
     "text": [
      "Epoch 51 | Train Loss: 0.022955259282326407 | Test Loss: 0.023445208233574197\n"
     ]
    },
    {
     "name": "stderr",
     "output_type": "stream",
     "text": [
      " 38%|███▊      | 27/72 [00:34<00:58,  1.29s/it]\n",
      " 42%|████▏     | 30/72 [00:37<00:46,  1.11s/it]\n",
      "  0%|          | 0/72 [00:00<?, ?it/s]"
     ]
    },
    {
     "name": "stdout",
     "output_type": "stream",
     "text": [
      "Epoch 51 | Train Loss: 0.024321106611245306 | Test Loss: 0.024929923626283806\n"
     ]
    },
    {
     "name": "stderr",
     "output_type": "stream",
     "text": [
      " 76%|███████▋  | 55/72 [01:12<00:20,  1.22s/it]\n",
      " 61%|██████    | 44/72 [00:59<00:33,  1.19s/it]\n",
      "  0%|          | 0/72 [00:00<?, ?it/s]"
     ]
    },
    {
     "name": "stdout",
     "output_type": "stream",
     "text": [
      "Epoch 52 | Train Loss: 0.022475574408325292 | Test Loss: 0.025001237631335646\n"
     ]
    },
    {
     "name": "stderr",
     "output_type": "stream",
     "text": [
      " 83%|████████▎ | 60/72 [01:18<00:14,  1.25s/it]\n",
      " 88%|████████▊ | 63/72 [01:21<00:09,  1.11s/it]\n",
      "  0%|          | 0/72 [00:00<?, ?it/s]"
     ]
    },
    {
     "name": "stdout",
     "output_type": "stream",
     "text": [
      "Epoch 52 | Train Loss: 0.02346515396511187 | Test Loss: 0.023639412351056106\n"
     ]
    },
    {
     "name": "stderr",
     "output_type": "stream",
     "text": [
      " 12%|█▎        | 9/72 [00:12<01:21,  1.30s/it]]\n",
      " 17%|█▋        | 12/72 [00:14<01:01,  1.02s/it]\n",
      "  0%|          | 0/72 [00:00<?, ?it/s]"
     ]
    },
    {
     "name": "stdout",
     "output_type": "stream",
     "text": [
      "Epoch 52 | Train Loss: 0.02251290078788711 | Test Loss: 0.0246212800201546\n"
     ]
    },
    {
     "name": "stderr",
     "output_type": "stream",
     "text": [
      " 32%|███▏      | 23/72 [00:29<01:01,  1.25s/it]\n",
      " 43%|████▎     | 31/72 [00:38<00:47,  1.15s/it]\n",
      " 36%|███▌      | 26/72 [00:32<00:47,  1.02s/it]"
     ]
    },
    {
     "name": "stdout",
     "output_type": "stream",
     "text": [
      "Epoch 52 | Train Loss: 0.023468470361106403 | Test Loss: 0.023805219925836556\n"
     ]
    },
    {
     "name": "stderr",
     "output_type": "stream",
     "text": [
      " 93%|█████████▎| 67/72 [01:26<00:06,  1.26s/it]\n",
      " 79%|███████▉  | 57/72 [01:14<00:17,  1.14s/it]\n",
      " 97%|█████████▋| 70/72 [01:29<00:02,  1.15s/it]"
     ]
    },
    {
     "name": "stdout",
     "output_type": "stream",
     "text": [
      "Epoch 53 | Train Loss: 0.024037491369969837 | Test Loss: 0.023506188661687903\n"
     ]
    },
    {
     "name": "stderr",
     "output_type": "stream",
     "text": [
      " 83%|████████▎ | 60/72 [01:17<00:13,  1.14s/it]\n",
      "  7%|▋         | 5/72 [00:05<01:11,  1.07s/it]]\n",
      "  0%|          | 0/72 [00:00<?, ?it/s]"
     ]
    },
    {
     "name": "stdout",
     "output_type": "stream",
     "text": [
      "Epoch 53 | Train Loss: 0.022636752944604713 | Test Loss: 0.022505362421118964\n"
     ]
    },
    {
     "name": "stderr",
     "output_type": "stream",
     "text": [
      " 14%|█▍        | 10/72 [00:13<01:21,  1.31s/it]\n",
      " 85%|████████▍ | 61/72 [01:18<00:11,  1.09s/it]\n",
      "  0%|          | 0/72 [00:00<?, ?it/s]"
     ]
    },
    {
     "name": "stdout",
     "output_type": "stream",
     "text": [
      "Epoch 53 | Train Loss: 0.02355983131828125 | Test Loss: 0.02432735072216019\n"
     ]
    },
    {
     "name": "stderr",
     "output_type": "stream",
     "text": [
      " 40%|████      | 29/72 [00:36<00:55,  1.29s/it]\n",
      " 36%|███▌      | 26/72 [00:32<00:51,  1.12s/it]\n",
      "  0%|          | 0/72 [00:00<?, ?it/s]"
     ]
    },
    {
     "name": "stdout",
     "output_type": "stream",
     "text": [
      "Epoch 53 | Train Loss: 0.022651798791736753 | Test Loss: 0.0264082554106911\n"
     ]
    },
    {
     "name": "stderr",
     "output_type": "stream",
     "text": [
      " 76%|███████▋  | 55/72 [01:11<00:21,  1.25s/it]\n",
      " 97%|█████████▋| 70/72 [01:30<00:02,  1.07s/it]\n",
      "  0%|          | 0/72 [00:00<?, ?it/s]"
     ]
    },
    {
     "name": "stdout",
     "output_type": "stream",
     "text": [
      "Epoch 54 | Train Loss: 0.02183421768189823 | Test Loss: 0.02344166302160981\n"
     ]
    },
    {
     "name": "stderr",
     "output_type": "stream",
     "text": [
      " 83%|████████▎ | 60/72 [01:17<00:14,  1.20s/it]\n",
      "  7%|▋         | 5/72 [00:05<01:07,  1.00s/it]]\n",
      "  0%|          | 0/72 [00:00<?, ?it/s]"
     ]
    },
    {
     "name": "stdout",
     "output_type": "stream",
     "text": [
      "Epoch 54 | Train Loss: 0.02186743815961115 | Test Loss: 0.023817236955639802\n"
     ]
    },
    {
     "name": "stderr",
     "output_type": "stream",
     "text": [
      " 81%|████████  | 58/72 [01:15<00:18,  1.31s/it]\n",
      " 85%|████████▍ | 61/72 [01:18<00:11,  1.05s/it]\n",
      "  0%|          | 0/72 [00:00<?, ?it/s]"
     ]
    },
    {
     "name": "stdout",
     "output_type": "stream",
     "text": [
      "Epoch 54 | Train Loss: 0.023089269825057504 | Test Loss: 0.02513421838456351\n"
     ]
    },
    {
     "name": "stderr",
     "output_type": "stream",
     "text": [
      " 15%|█▌        | 11/72 [00:14<01:21,  1.34s/it]\n",
      " 36%|███▌      | 26/72 [00:32<00:56,  1.23s/it]\n",
      "  0%|          | 0/72 [00:00<?, ?it/s]"
     ]
    },
    {
     "name": "stdout",
     "output_type": "stream",
     "text": [
      "Epoch 54 | Train Loss: 0.022048267304450662 | Test Loss: 0.02318842357231511\n"
     ]
    },
    {
     "name": "stderr",
     "output_type": "stream",
     "text": [
      " 76%|███████▋  | 55/72 [01:12<00:21,  1.27s/it]\n",
      " 97%|█████████▋| 70/72 [01:30<00:02,  1.12s/it]\n",
      " 61%|██████    | 44/72 [00:57<00:30,  1.08s/it]"
     ]
    },
    {
     "name": "stdout",
     "output_type": "stream",
     "text": [
      "Epoch 55 | Train Loss: 0.022331667457141637 | Test Loss: 0.022025654014820855\n"
     ]
    },
    {
     "name": "stderr",
     "output_type": "stream",
     "text": [
      " 64%|██████▍   | 46/72 [01:00<00:31,  1.21s/it]\n",
      " 86%|████████▌ | 62/72 [01:20<00:11,  1.10s/it]\n",
      "  0%|          | 0/72 [00:00<?, ?it/s]"
     ]
    },
    {
     "name": "stdout",
     "output_type": "stream",
     "text": [
      "Epoch 55 | Train Loss: 0.022261594890654865 | Test Loss: 0.023266224112982552\n"
     ]
    },
    {
     "name": "stderr",
     "output_type": "stream",
     "text": [
      " 82%|████████▏ | 59/72 [01:16<00:15,  1.21s/it]\n",
      " 18%|█▊        | 13/72 [00:16<01:02,  1.06s/it]\n",
      "  0%|          | 0/72 [00:00<?, ?it/s]"
     ]
    },
    {
     "name": "stdout",
     "output_type": "stream",
     "text": [
      "Epoch 55 | Train Loss: 0.02200794521780712 | Test Loss: 0.023971146438270807\n"
     ]
    },
    {
     "name": "stderr",
     "output_type": "stream",
     "text": [
      " 40%|████      | 29/72 [00:36<00:50,  1.18s/it]\n",
      " 43%|████▎     | 31/72 [00:38<00:45,  1.11s/it]\n",
      " 38%|███▊      | 27/72 [00:33<00:50,  1.13s/it]"
     ]
    },
    {
     "name": "stdout",
     "output_type": "stream",
     "text": [
      "Epoch 55 | Train Loss: 0.02165469871129967 | Test Loss: 0.024810668676056795\n"
     ]
    },
    {
     "name": "stderr",
     "output_type": "stream",
     "text": [
      " 94%|█████████▍| 68/72 [01:28<00:05,  1.30s/it]\n",
      " 79%|███████▉  | 57/72 [01:14<00:16,  1.08s/it]\n",
      "  0%|          | 0/72 [00:00<?, ?it/s]"
     ]
    },
    {
     "name": "stdout",
     "output_type": "stream",
     "text": [
      "Epoch 56 | Train Loss: 0.0220547314574675 | Test Loss: 0.021515450737853017\n"
     ]
    },
    {
     "name": "stderr",
     "output_type": "stream",
     "text": [
      " 82%|████████▏ | 59/72 [01:16<00:15,  1.19s/it]\n",
      "  6%|▌         | 4/72 [00:04<01:16,  1.13s/it]]"
     ]
    },
    {
     "name": "stdout",
     "output_type": "stream",
     "text": [
      "Epoch 56 | Train Loss: 0.022482382807618478 | Test Loss: 0.02223170004112439\n"
     ]
    },
    {
     "name": "stderr",
     "output_type": "stream",
     "text": [
      "\n",
      " 15%|█▌        | 11/72 [00:14<01:19,  1.30s/it]\n",
      " 25%|██▌       | 18/72 [00:22<00:57,  1.06s/it]\n",
      "  0%|          | 0/72 [00:00<?, ?it/s]"
     ]
    },
    {
     "name": "stdout",
     "output_type": "stream",
     "text": [
      "Epoch 56 | Train Loss: 0.021892566047770682 | Test Loss: 0.0251958178770211\n"
     ]
    },
    {
     "name": "stderr",
     "output_type": "stream",
     "text": [
      " 15%|█▌        | 11/72 [00:14<01:21,  1.34s/it]\n",
      " 38%|███▊      | 27/72 [00:34<00:53,  1.18s/it]\n",
      "  0%|          | 0/72 [00:00<?, ?it/s]"
     ]
    },
    {
     "name": "stdout",
     "output_type": "stream",
     "text": [
      "Epoch 56 | Train Loss: 0.024127486483926208 | Test Loss: 0.024163870910544775\n"
     ]
    },
    {
     "name": "stderr",
     "output_type": "stream",
     "text": [
      " 57%|█████▋    | 41/72 [00:54<00:41,  1.32s/it]\n",
      " 81%|████████  | 58/72 [01:14<00:14,  1.07s/it]\n",
      "  0%|          | 0/72 [00:00<?, ?it/s]"
     ]
    },
    {
     "name": "stdout",
     "output_type": "stream",
     "text": [
      "Epoch 57 | Train Loss: 0.021414659213400942 | Test Loss: 0.02129045586075841\n"
     ]
    },
    {
     "name": "stderr",
     "output_type": "stream",
     "text": [
      "  1%|▏         | 1/72 [00:01<01:33,  1.31s/it]]\n",
      "  4%|▍         | 3/72 [00:03<01:23,  1.21s/it]]\n",
      " 86%|████████▌ | 62/72 [01:19<00:09,  1.02it/s]"
     ]
    },
    {
     "name": "stdout",
     "output_type": "stream",
     "text": [
      "Epoch 57 | Train Loss: 0.02150021540850634 | Test Loss: 0.020475459485573486\n"
     ]
    },
    {
     "name": "stderr",
     "output_type": "stream",
     "text": [
      " 81%|████████  | 58/72 [01:15<00:17,  1.26s/it]\n",
      " 18%|█▊        | 13/72 [00:16<01:04,  1.09s/it]\n",
      " 24%|██▎       | 17/72 [00:20<00:58,  1.06s/it]"
     ]
    },
    {
     "name": "stdout",
     "output_type": "stream",
     "text": [
      "Epoch 57 | Train Loss: 0.02306972308364332 | Test Loss: 0.02517093097170194\n"
     ]
    },
    {
     "name": "stderr",
     "output_type": "stream",
     "text": [
      " 35%|███▍      | 25/72 [00:32<01:01,  1.31s/it]\n",
      " 39%|███▉      | 28/72 [00:35<00:46,  1.07s/it]\n",
      "  0%|          | 0/72 [00:00<?, ?it/s]"
     ]
    },
    {
     "name": "stdout",
     "output_type": "stream",
     "text": [
      "Epoch 57 | Train Loss: 0.023586879914009914 | Test Loss: 0.02393229281814355\n"
     ]
    },
    {
     "name": "stderr",
     "output_type": "stream",
     "text": [
      " 57%|█████▋    | 41/72 [00:54<00:39,  1.29s/it]\n",
      " 82%|████████▏ | 59/72 [01:16<00:13,  1.08s/it]"
     ]
    },
    {
     "name": "stdout",
     "output_type": "stream",
     "text": [
      "Epoch 58 | Train Loss: 0.02139316063914788 | Test Loss: 0.026049567127807274\n"
     ]
    },
    {
     "name": "stderr",
     "output_type": "stream",
     "text": [
      "\n",
      " 61%|██████    | 44/72 [00:57<00:29,  1.04s/it]\n",
      " 86%|████████▌ | 62/72 [01:18<00:09,  1.05it/s]\n",
      "  0%|          | 0/72 [00:00<?, ?it/s]"
     ]
    },
    {
     "name": "stdout",
     "output_type": "stream",
     "text": [
      "Epoch 58 | Train Loss: 0.02297234373307948 | Test Loss: 0.023732966924500134\n"
     ]
    },
    {
     "name": "stderr",
     "output_type": "stream",
     "text": [
      " 18%|█▊        | 13/72 [00:16<01:14,  1.26s/it]\n",
      " 18%|█▊        | 13/72 [00:16<01:04,  1.09s/it]\n",
      "  0%|          | 0/72 [00:00<?, ?it/s]"
     ]
    },
    {
     "name": "stdout",
     "output_type": "stream",
     "text": [
      "Epoch 58 | Train Loss: 0.02279411051276712 | Test Loss: 0.02321833475596375\n"
     ]
    },
    {
     "name": "stderr",
     "output_type": "stream",
     "text": [
      " 18%|█▊        | 13/72 [00:17<01:18,  1.33s/it]\n",
      " 43%|████▎     | 31/72 [00:38<00:47,  1.15s/it]\n",
      "  0%|          | 0/72 [00:00<?, ?it/s]"
     ]
    },
    {
     "name": "stdout",
     "output_type": "stream",
     "text": [
      "Epoch 58 | Train Loss: 0.023061358528074158 | Test Loss: 0.02484773665977021\n"
     ]
    },
    {
     "name": "stderr",
     "output_type": "stream",
     "text": [
      " 97%|█████████▋| 70/72 [01:31<00:02,  1.33s/it]\n",
      " 82%|████████▏ | 59/72 [01:17<00:15,  1.16s/it]\n",
      "  0%|          | 0/72 [00:00<?, ?it/s]\n",
      " 22%|██▏       | 4/18 [00:00<00:00, 32.21it/s]"
     ]
    },
    {
     "name": "stdout",
     "output_type": "stream",
     "text": [
      "Epoch 59 | Train Loss: 0.024462852834988478 | Test Loss: 0.02424795885518607\n"
     ]
    },
    {
     "name": "stderr",
     "output_type": "stream",
     "text": [
      " 64%|██████▍   | 46/72 [01:00<00:28,  1.09s/it]\n",
      "  0%|          | 0/72 [00:00<?, ?it/s]"
     ]
    },
    {
     "name": "stdout",
     "output_type": "stream",
     "text": [
      "Epoch 59 | Train Loss: 0.021347033710329817 | Test Loss: 0.02141821617907327\n"
     ]
    },
    {
     "name": "stderr",
     "output_type": "stream",
     "text": [
      "100%|██████████| 72/72 [01:33<00:00,  1.30s/it]\n",
      " 18%|█▊        | 13/72 [00:16<01:10,  1.20s/it]\n",
      " 22%|██▏       | 16/72 [00:19<00:58,  1.05s/it]"
     ]
    },
    {
     "name": "stdout",
     "output_type": "stream",
     "text": [
      "Epoch 59 | Train Loss: 0.02190725362943008 | Test Loss: 0.024238374368805025\n"
     ]
    },
    {
     "name": "stderr",
     "output_type": "stream",
     "text": [
      " 18%|█▊        | 13/72 [00:17<01:14,  1.27s/it]\n",
      " 43%|████▎     | 31/72 [00:39<00:48,  1.17s/it]\n",
      "  0%|          | 0/72 [00:00<?, ?it/s]"
     ]
    },
    {
     "name": "stdout",
     "output_type": "stream",
     "text": [
      "Epoch 59 | Train Loss: 0.023830176425772474 | Test Loss: 0.02394265399521424\n"
     ]
    },
    {
     "name": "stderr",
     "output_type": "stream",
     "text": [
      "100%|██████████| 72/72 [01:33<00:00,  1.30s/it]\n",
      " 82%|████████▏ | 59/72 [01:17<00:14,  1.13s/it]\n",
      " 44%|████▍     | 8/18 [00:00<00:00, 34.20it/s]\n",
      "  0%|          | 0/72 [00:00<?, ?it/s]"
     ]
    },
    {
     "name": "stdout",
     "output_type": "stream",
     "text": [
      "Epoch 60 | Train Loss: 0.02317810691666541 | Test Loss: 0.02222557974811126\n"
     ]
    },
    {
     "name": "stderr",
     "output_type": "stream",
     "text": [
      "  3%|▎         | 2/72 [00:02<01:11,  1.02s/it]]\n",
      "  0%|          | 0/72 [00:00<?, ?it/s]"
     ]
    },
    {
     "name": "stdout",
     "output_type": "stream",
     "text": [
      "Epoch 60 | Train Loss: 0.021059560888874902 | Test Loss: 0.020179269259743806\n"
     ]
    },
    {
     "name": "stderr",
     "output_type": "stream",
     "text": [
      "100%|██████████| 72/72 [01:33<00:00,  1.30s/it]\n",
      " 82%|████████▏ | 59/72 [01:16<00:15,  1.18s/it]\n",
      "  0%|          | 0/72 [00:00<?, ?it/s]"
     ]
    },
    {
     "name": "stdout",
     "output_type": "stream",
     "text": [
      "Epoch 60 | Train Loss: 0.021979724535221748 | Test Loss: 0.022967605528214738\n"
     ]
    },
    {
     "name": "stderr",
     "output_type": "stream",
     "text": [
      " 18%|█▊        | 13/72 [00:17<01:17,  1.31s/it]\n",
      " 40%|████      | 29/72 [00:37<00:49,  1.16s/it]\n",
      " 22%|██▏       | 16/72 [00:20<00:58,  1.05s/it]"
     ]
    },
    {
     "name": "stdout",
     "output_type": "stream",
     "text": [
      "Epoch 60 | Train Loss: 0.02348325481487812 | Test Loss: 0.022813625504366226\n"
     ]
    },
    {
     "name": "stderr",
     "output_type": "stream",
     "text": [
      " 79%|███████▉  | 57/72 [01:14<00:19,  1.30s/it]\n",
      " 60%|█████▉    | 43/72 [00:56<00:32,  1.12s/it]\n",
      "100%|██████████| 18/18 [00:00<00:00, 33.75it/s]\n",
      "  0%|          | 0/72 [00:00<?, ?it/s]"
     ]
    },
    {
     "name": "stdout",
     "output_type": "stream",
     "text": [
      "Epoch 61 | Train Loss: 0.02107955000122975 | Test Loss: 0.024321705361621246\n"
     ]
    },
    {
     "name": "stderr",
     "output_type": "stream",
     "text": [
      " 62%|██████▎   | 45/72 [00:58<00:29,  1.08s/it]\n",
      "  0%|          | 0/72 [00:00<?, ?it/s]"
     ]
    },
    {
     "name": "stdout",
     "output_type": "stream",
     "text": [
      "Epoch 61 | Train Loss: 0.024641195090437433 | Test Loss: 0.024772253146188125\n"
     ]
    },
    {
     "name": "stderr",
     "output_type": "stream",
     "text": [
      "100%|██████████| 72/72 [01:33<00:00,  1.30s/it]\n",
      " 21%|██        | 15/72 [00:19<01:08,  1.21s/it]\n",
      "  0%|          | 0/72 [00:00<?, ?it/s]"
     ]
    },
    {
     "name": "stdout",
     "output_type": "stream",
     "text": [
      "Epoch 61 | Train Loss: 0.022830918677261246 | Test Loss: 0.025326808435945876\n"
     ]
    },
    {
     "name": "stderr",
     "output_type": "stream",
     "text": [
      " 19%|█▉        | 14/72 [00:18<01:08,  1.18s/it]\n",
      " 42%|████▏     | 30/72 [00:37<00:44,  1.05s/it]"
     ]
    },
    {
     "name": "stdout",
     "output_type": "stream",
     "text": [
      "Epoch 61 | Train Loss: 0.021487773871041192 | Test Loss: 0.021685275093962748\n"
     ]
    },
    {
     "name": "stderr",
     "output_type": "stream",
     "text": [
      "\n",
      " 99%|█████████▊| 71/72 [01:32<00:01,  1.28s/it]\n",
      " 82%|████████▏ | 59/72 [01:16<00:14,  1.11s/it]\n",
      " 61%|██████    | 44/72 [00:56<00:25,  1.11it/s]"
     ]
    },
    {
     "name": "stdout",
     "output_type": "stream",
     "text": [
      "Epoch 62 | Train Loss: 0.022294120113814427 | Test Loss: 0.023838320462447073\n"
     ]
    },
    {
     "name": "stderr",
     "output_type": "stream",
     "text": [
      "\n",
      " 64%|██████▍   | 46/72 [00:58<00:22,  1.13it/s]\n",
      "  0%|          | 0/72 [00:00<?, ?it/s]"
     ]
    },
    {
     "name": "stdout",
     "output_type": "stream",
     "text": [
      "Epoch 62 | Train Loss: 0.02410355680254001 | Test Loss: 0.023964424355654046\n"
     ]
    },
    {
     "name": "stderr",
     "output_type": "stream",
     "text": [
      "100%|██████████| 72/72 [01:32<00:00,  1.28s/it]\n",
      " 82%|████████▏ | 59/72 [01:14<00:13,  1.06s/it]\n",
      "  0%|          | 0/72 [00:00<?, ?it/s]"
     ]
    },
    {
     "name": "stdout",
     "output_type": "stream",
     "text": [
      "Epoch 62 | Train Loss: 0.022444271393521623 | Test Loss: 0.02267414710432705\n"
     ]
    },
    {
     "name": "stderr",
     "output_type": "stream",
     "text": [
      "100%|██████████| 72/72 [01:31<00:00,  1.27s/it]\n",
      " 21%|██        | 15/72 [00:19<01:02,  1.09s/it]\n",
      " 39%|███▉      | 28/72 [00:36<00:54,  1.24s/it]"
     ]
    },
    {
     "name": "stdout",
     "output_type": "stream",
     "text": [
      "Epoch 62 | Train Loss: 0.02263330870011027 | Test Loss: 0.026154105208762404\n"
     ]
    },
    {
     "name": "stderr",
     "output_type": "stream",
     "text": [
      " 99%|█████████▊| 71/72 [01:32<00:01,  1.24s/it]\n",
      "100%|██████████| 72/72 [01:34<00:00,  1.31s/it]\n",
      " 85%|████████▍ | 61/72 [01:19<00:11,  1.03s/it]\n",
      "  0%|          | 0/72 [00:00<?, ?it/s]"
     ]
    },
    {
     "name": "stdout",
     "output_type": "stream",
     "text": [
      "Epoch 63 | Train Loss: 0.02142294740658755 | Test Loss: 0.020792894563378975\n"
     ]
    },
    {
     "name": "stderr",
     "output_type": "stream",
     "text": [
      " 65%|██████▌   | 47/72 [01:00<00:23,  1.05it/s]\n",
      "  0%|          | 0/72 [00:00<?, ?it/s]"
     ]
    },
    {
     "name": "stdout",
     "output_type": "stream",
     "text": [
      "Epoch 63 | Train Loss: 0.023628155420899237 | Test Loss: 0.023335196608160105\n"
     ]
    },
    {
     "name": "stderr",
     "output_type": "stream",
     "text": [
      " 15%|█▌        | 11/72 [00:14<01:20,  1.32s/it]\n",
      " 19%|█▉        | 14/72 [00:17<01:03,  1.10s/it]\n",
      "  0%|          | 0/72 [00:00<?, ?it/s]"
     ]
    },
    {
     "name": "stdout",
     "output_type": "stream",
     "text": [
      "Epoch 63 | Train Loss: 0.021606442564653376 | Test Loss: 0.027021040143962536\n"
     ]
    },
    {
     "name": "stderr",
     "output_type": "stream",
     "text": [
      " 18%|█▊        | 13/72 [00:17<01:13,  1.24s/it]\n",
      " 42%|████▏     | 30/72 [00:37<00:45,  1.08s/it]\n",
      "  0%|          | 0/72 [00:00<?, ?it/s]"
     ]
    },
    {
     "name": "stdout",
     "output_type": "stream",
     "text": [
      "Epoch 63 | Train Loss: 0.024529117746982597 | Test Loss: 0.024727397449573293\n"
     ]
    },
    {
     "name": "stderr",
     "output_type": "stream",
     "text": [
      "100%|██████████| 72/72 [01:32<00:00,  1.29s/it]\n",
      " 61%|██████    | 44/72 [00:57<00:33,  1.18s/it]\n",
      " 85%|████████▍ | 61/72 [01:18<00:10,  1.02it/s]\n",
      "  0%|          | 0/72 [00:00<?, ?it/s]"
     ]
    },
    {
     "name": "stdout",
     "output_type": "stream",
     "text": [
      "Epoch 64 | Train Loss: 0.020569759185590192 | Test Loss: 0.02055541775512716\n"
     ]
    },
    {
     "name": "stderr",
     "output_type": "stream",
     "text": [
      " 88%|████████▊ | 63/72 [01:20<00:08,  1.11it/s]\n",
      "  0%|          | 0/72 [00:00<?, ?it/s]"
     ]
    },
    {
     "name": "stdout",
     "output_type": "stream",
     "text": [
      "Epoch 64 | Train Loss: 0.02087174498311832 | Test Loss: 0.02171899824558447\n"
     ]
    },
    {
     "name": "stderr",
     "output_type": "stream",
     "text": [
      " 79%|███████▉  | 57/72 [01:13<00:19,  1.28s/it]\n",
      " 17%|█▋        | 12/72 [00:14<01:04,  1.07s/it]\n",
      "  0%|          | 0/72 [00:00<?, ?it/s]"
     ]
    },
    {
     "name": "stdout",
     "output_type": "stream",
     "text": [
      "Epoch 64 | Train Loss: 0.02373872773089065 | Test Loss: 0.024424372176225815\n"
     ]
    },
    {
     "name": "stderr",
     "output_type": "stream",
     "text": [
      " 18%|█▊        | 13/72 [00:17<01:13,  1.25s/it]\n",
      " 21%|██        | 15/72 [00:19<01:09,  1.21s/it]\n",
      "  0%|          | 0/72 [00:00<?, ?it/s]"
     ]
    },
    {
     "name": "stdout",
     "output_type": "stream",
     "text": [
      "Epoch 64 | Train Loss: 0.023921358197616763 | Test Loss: 0.02411513760065039\n"
     ]
    },
    {
     "name": "stderr",
     "output_type": "stream",
     "text": [
      " 82%|████████▏ | 59/72 [01:17<00:17,  1.34s/it]\n",
      " 62%|██████▎   | 45/72 [00:59<00:32,  1.22s/it]\n",
      "100%|██████████| 18/18 [00:00<00:00, 34.26it/s]\n",
      "  0%|          | 0/72 [00:00<?, ?it/s]"
     ]
    },
    {
     "name": "stdout",
     "output_type": "stream",
     "text": [
      "Epoch 65 | Train Loss: 0.023192141575659492 | Test Loss: 0.02430380058164398\n"
     ]
    },
    {
     "name": "stderr",
     "output_type": "stream",
     "text": [
      " 67%|██████▋   | 48/72 [01:02<00:25,  1.08s/it]\n",
      "  0%|          | 0/72 [00:00<?, ?it/s]"
     ]
    },
    {
     "name": "stdout",
     "output_type": "stream",
     "text": [
      "Epoch 65 | Train Loss: 0.023547767181690625 | Test Loss: 0.021853596010866266\n"
     ]
    },
    {
     "name": "stderr",
     "output_type": "stream",
     "text": [
      " 79%|███████▉  | 57/72 [01:14<00:19,  1.27s/it]\n",
      " 15%|█▌        | 11/72 [00:14<01:10,  1.16s/it]\n",
      " 83%|████████▎ | 60/72 [01:16<00:12,  1.07s/it]"
     ]
    },
    {
     "name": "stdout",
     "output_type": "stream",
     "text": [
      "Epoch 65 | Train Loss: 0.022079759927144473 | Test Loss: 0.022866892741553277\n"
     ]
    },
    {
     "name": "stderr",
     "output_type": "stream",
     "text": [
      " 17%|█▋        | 12/72 [00:16<01:14,  1.25s/it]\n",
      " 36%|███▌      | 26/72 [00:33<00:54,  1.19s/it]\n",
      " 21%|██        | 15/72 [00:18<00:59,  1.05s/it]"
     ]
    },
    {
     "name": "stdout",
     "output_type": "stream",
     "text": [
      "Epoch 65 | Train Loss: 0.02376632105606041 | Test Loss: 0.023585376316784985\n"
     ]
    },
    {
     "name": "stderr",
     "output_type": "stream",
     "text": [
      " 82%|████████▏ | 59/72 [01:17<00:15,  1.23s/it]\n",
      " 64%|██████▍   | 46/72 [01:01<00:29,  1.15s/it]\n",
      " 86%|████████▌ | 62/72 [01:20<00:10,  1.04s/it]"
     ]
    },
    {
     "name": "stdout",
     "output_type": "stream",
     "text": [
      "Epoch 66 | Train Loss: 0.023618218764908723 | Test Loss: 0.02426991476548008\n"
     ]
    },
    {
     "name": "stderr",
     "output_type": "stream",
     "text": [
      "\n",
      " 89%|████████▉ | 64/72 [01:22<00:08,  1.12s/it]\n",
      "  0%|          | 0/72 [00:00<?, ?it/s]"
     ]
    },
    {
     "name": "stdout",
     "output_type": "stream",
     "text": [
      "Epoch 66 | Train Loss: 0.020942000651992632 | Test Loss: 0.021740189591784857\n"
     ]
    },
    {
     "name": "stderr",
     "output_type": "stream",
     "text": [
      " 11%|█         | 8/72 [00:10<01:27,  1.36s/it]]\n",
      " 18%|█▊        | 13/72 [00:16<01:01,  1.04s/it]\n",
      "  0%|          | 0/72 [00:00<?, ?it/s]"
     ]
    },
    {
     "name": "stdout",
     "output_type": "stream",
     "text": [
      "Epoch 66 | Train Loss: 0.022146797482471274 | Test Loss: 0.021973202561235264\n"
     ]
    },
    {
     "name": "stderr",
     "output_type": "stream",
     "text": [
      " 36%|███▌      | 26/72 [00:33<00:58,  1.28s/it]\n",
      " 36%|███▌      | 26/72 [00:33<00:52,  1.15s/it]\n",
      " 40%|████      | 29/72 [00:36<00:44,  1.03s/it]"
     ]
    },
    {
     "name": "stdout",
     "output_type": "stream",
     "text": [
      "Epoch 66 | Train Loss: 0.023443472146062256 | Test Loss: 0.023792577577599634\n"
     ]
    },
    {
     "name": "stderr",
     "output_type": "stream",
     "text": [
      "100%|██████████| 72/72 [01:33<00:00,  1.30s/it]\n",
      "100%|██████████| 72/72 [01:33<00:00,  1.30s/it]\n",
      " 64%|██████▍   | 46/72 [01:00<00:30,  1.16s/it]"
     ]
    },
    {
     "name": "stdout",
     "output_type": "stream",
     "text": [
      "Epoch 67 | Train Loss: 0.02307373252766066 | Test Loss: 0.023338327410682622\n"
     ]
    },
    {
     "name": "stderr",
     "output_type": "stream",
     "text": [
      "\n",
      " 89%|████████▉ | 64/72 [01:22<00:08,  1.03s/it]\n",
      " 68%|██████▊   | 49/72 [01:03<00:25,  1.12s/it]"
     ]
    },
    {
     "name": "stdout",
     "output_type": "stream",
     "text": [
      "Epoch 67 | Train Loss: 0.020627614799288176 | Test Loss: 0.02167181158438325\n"
     ]
    },
    {
     "name": "stderr",
     "output_type": "stream",
     "text": [
      " 79%|███████▉  | 57/72 [01:13<00:18,  1.26s/it]\n",
      " 18%|█▊        | 13/72 [00:16<01:02,  1.06s/it]\n",
      " 83%|████████▎ | 60/72 [01:17<00:13,  1.12s/it]"
     ]
    },
    {
     "name": "stdout",
     "output_type": "stream",
     "text": [
      "Epoch 67 | Train Loss: 0.02111269330539515 | Test Loss: 0.022939891166364152\n"
     ]
    },
    {
     "name": "stderr",
     "output_type": "stream",
     "text": [
      " 32%|███▏      | 23/72 [00:29<01:04,  1.32s/it]\n",
      " 21%|██        | 15/72 [00:18<01:05,  1.15s/it]\n",
      " 36%|███▌      | 26/72 [00:32<00:47,  1.04s/it]"
     ]
    },
    {
     "name": "stdout",
     "output_type": "stream",
     "text": [
      "Epoch 67 | Train Loss: 0.02298506836266905 | Test Loss: 0.02172706426224775\n"
     ]
    },
    {
     "name": "stderr",
     "output_type": "stream",
     "text": [
      " 82%|████████▏ | 59/72 [01:17<00:17,  1.33s/it]\n",
      " 86%|████████▌ | 62/72 [01:20<00:10,  1.10s/it]\n",
      "  0%|          | 0/72 [00:00<?, ?it/s]\n",
      "  0%|          | 0/18 [00:00<?, ?it/s]"
     ]
    },
    {
     "name": "stdout",
     "output_type": "stream",
     "text": [
      "Epoch 68 | Train Loss: 0.023008553406707523 | Test Loss: 0.022108224091223545\n"
     ]
    },
    {
     "name": "stderr",
     "output_type": "stream",
     "text": [
      " 90%|█████████ | 65/72 [01:23<00:07,  1.00s/it]\n",
      "  0%|          | 0/72 [00:00<?, ?it/s]"
     ]
    },
    {
     "name": "stdout",
     "output_type": "stream",
     "text": [
      "Epoch 68 | Train Loss: 0.021485367496955093 | Test Loss: 0.021131927677844133\n"
     ]
    },
    {
     "name": "stderr",
     "output_type": "stream",
     "text": [
      " 14%|█▍        | 10/72 [00:12<01:21,  1.32s/it]\n",
      " 14%|█▍        | 10/72 [00:12<01:04,  1.04s/it]\n",
      "  0%|          | 0/72 [00:00<?, ?it/s]"
     ]
    },
    {
     "name": "stdout",
     "output_type": "stream",
     "text": [
      "Epoch 68 | Train Loss: 0.02140650338939125 | Test Loss: 0.02210386420160325\n"
     ]
    },
    {
     "name": "stderr",
     "output_type": "stream",
     "text": [
      " 32%|███▏      | 23/72 [00:29<01:03,  1.30s/it]\n",
      " 36%|███▌      | 26/72 [00:32<00:47,  1.03s/it]\n",
      "  0%|          | 0/72 [00:00<?, ?it/s]"
     ]
    },
    {
     "name": "stdout",
     "output_type": "stream",
     "text": [
      "Epoch 68 | Train Loss: 0.023178802322528343 | Test Loss: 0.024417226112240717\n"
     ]
    },
    {
     "name": "stderr",
     "output_type": "stream",
     "text": [
      " 76%|███████▋  | 55/72 [01:11<00:22,  1.34s/it]"
     ]
    }
   ],
   "source": [
    "from joblib import Parallel, delayed\n",
    "results = Parallel(n_jobs=4)(delayed(train_catch)(pkg['control_outputs'], pkg['curvature'], pkg['hidden_dims'],200) for pkg in hyp_packages)"
   ]
  },
  {
   "cell_type": "code",
   "execution_count": null,
   "metadata": {
    "pycharm": {
     "is_executing": true,
     "name": "#%%\n"
    }
   },
   "outputs": [],
   "source": [
    "with SummaryWriter('runs/hyp-search') as w:\n",
    "    for r in results:\n",
    "        w.add_hparams(\n",
    "            {\n",
    "                'control_outputs': r['control_outputs'], \n",
    "                'curvature': r['curvature'].name, \n",
    "                'hidden_dims': r['hidden_dims'],\n",
    "                'params': r['params']\n",
    "            },\n",
    "            {\n",
    "                'training_loss': r['training_loss'], \n",
    "                'test_loss': r['test_loss'],\n",
    "                'ade':r['ade'],\n",
    "                'fde':r['fde']\n",
    "            }, \n",
    "                      name=f\"bicycle-{r['control_outputs']}-{r['curvature'].name}-{r['hidden_dim']}\")\n",
    "        "
   ]
  },
  {
   "cell_type": "code",
   "execution_count": null,
   "metadata": {},
   "outputs": [],
   "source": [
    "\n"
   ]
  }
 ],
 "metadata": {
  "kernelspec": {
   "display_name": "Python 3 (ipykernel)",
   "language": "python",
   "name": "python3"
  },
  "language_info": {
   "codemirror_mode": {
    "name": "ipython",
    "version": 3
   },
   "file_extension": ".py",
   "mimetype": "text/x-python",
   "name": "python",
   "nbconvert_exporter": "python",
   "pygments_lexer": "ipython3",
   "version": "3.8.10"
  }
 },
 "nbformat": 4,
 "nbformat_minor": 4
}
