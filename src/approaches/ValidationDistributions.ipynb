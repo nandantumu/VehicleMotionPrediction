{
 "cells": [
  {
   "cell_type": "code",
   "execution_count": 31,
   "id": "cda2cdf8-fd70-474b-a319-59a0269ac9ed",
   "metadata": {},
   "outputs": [
    {
     "name": "stdout",
     "output_type": "stream",
     "text": [
      "2302  in train\n",
      "576  in test\n"
     ]
    },
    {
     "name": "stderr",
     "output_type": "stream",
     "text": [
      "/tmp/ipykernel_40613/359593953.py:49: DeprecationWarning: FLIP_TOP_BOTTOM is deprecated and will be removed in Pillow 10 (2023-07-01). Use Transpose.FLIP_TOP_BOTTOM instead.\n",
      "  Image.open(map_path + map_ext).transpose(Image.FLIP_TOP_BOTTOM)\n"
     ]
    }
   ],
   "source": [
    "import random\n",
    "from enum import Enum, unique\n",
    "from typing import List\n",
    "\n",
    "import matplotlib.pylab as plt\n",
    "import numpy as np\n",
    "import pandas as pd\n",
    "import torch\n",
    "import torch.nn as nn\n",
    "import torch.nn.functional as F\n",
    "import yaml\n",
    "from PIL import Image\n",
    "from tensorboardX import SummaryWriter\n",
    "from torch.multiprocessing import freeze_support\n",
    "from torch.utils.data import DataLoader, Dataset\n",
    "from tqdm.autonotebook import tqdm\n",
    "\n",
    "from pit.dynamics.kinematic_bicycle import Bicycle\n",
    "from pit.integration import Euler, RK4\n",
    "\n",
    "freeze_support()\n",
    "\n",
    "\n",
    "class Curvature(Enum):\n",
    "    NO_CURVATURE = False\n",
    "    CURVATURE = True\n",
    "\n",
    "\n",
    "@unique\n",
    "class Method(Enum):\n",
    "    PIMP = 0\n",
    "    LSTM = 1\n",
    "\n",
    "\n",
    "DEVICE = \"cuda:1\" if torch.cuda.is_available() else \"cpu\"\n",
    "\n",
    "\n",
    "def _get_map_points(map_path, map_ext):\n",
    "    with open(map_path + \".yaml\", \"r\") as yaml_stream:\n",
    "        try:\n",
    "            map_metadata = yaml.safe_load(yaml_stream)\n",
    "            map_resolution = map_metadata[\"resolution\"]\n",
    "            origin = map_metadata[\"origin\"]\n",
    "            origin_x = origin[0]\n",
    "            origin_y = origin[1]\n",
    "        except yaml.YAMLError as ex:\n",
    "            print(ex)\n",
    "    map_img = np.array(\n",
    "        Image.open(map_path + map_ext).transpose(Image.FLIP_TOP_BOTTOM)\n",
    "    ).astype(np.float64)\n",
    "    map_height = map_img.shape[0]\n",
    "    map_width = map_img.shape[1]\n",
    "\n",
    "    # convert map pixels to coordinates\n",
    "    range_x = np.arange(map_width)\n",
    "    range_y = np.arange(map_height)\n",
    "    map_x, map_y = np.meshgrid(range_x, range_y)\n",
    "    map_x = (map_x * map_resolution + origin_x).flatten()\n",
    "    map_y = (map_y * map_resolution + origin_y).flatten()\n",
    "    map_z = np.zeros(map_y.shape)\n",
    "    map_coords = np.vstack((map_x, map_y, map_z))\n",
    "\n",
    "    # mask and only leave the obstacle points\n",
    "    map_mask = map_img == 0.0\n",
    "    map_mask_flat = map_mask.flatten()\n",
    "    map_points = map_coords[:, map_mask_flat].T\n",
    "    return map_points[:, 0], map_points[:, 1]\n",
    "\n",
    "\n",
    "map_x, map_y = _get_map_points(\"../data_generation/track_config/Spielberg_map\", \".png\")\n",
    "\n",
    "train_frame = pd.read_pickle(\"../../data/train_data.pkl\")\n",
    "test_frame = pd.read_pickle(\"../../data/test_data.pkl\")\n",
    "full_frame = pd.read_pickle(\"../../data/final_data.pkl\")\n",
    "\n",
    "no_race_train_frame = train_frame[\n",
    "    train_frame[\"selected_lane\"].apply(\n",
    "        lambda x: True if x in [\"left\", \"center\", \"right\"] else False\n",
    "    )\n",
    "]\n",
    "no_race_test_frame = test_frame[\n",
    "    test_frame[\"selected_lane\"].apply(\n",
    "        lambda x: True if x in [\"left\", \"center\", \"right\"] else False\n",
    "    )\n",
    "]\n",
    "race_test_frame = full_frame[\n",
    "    full_frame[\"selected_lane\"].apply(lambda x: True if x in [\"race\"] else False)\n",
    "]\n",
    "\n",
    "RACE_SELECTION = [2246, 2329, 2711, 2596, 2465, 2365, 2805, 2554, 2266]\n",
    "\n",
    "\n",
    "class TraceRelativeDataset(Dataset):\n",
    "    def __init__(self, dataframe, curve=False):\n",
    "        self.dataframe = dataframe\n",
    "        self.curve = curve\n",
    "\n",
    "    def __len__(self):\n",
    "        return len(self.dataframe)\n",
    "\n",
    "    def __getitem__(self, idx):\n",
    "        if self.curve:\n",
    "            key = \"input\"\n",
    "        else:\n",
    "            key = \"input_no_curve\"\n",
    "\n",
    "        try:\n",
    "            inputs = torch.tensor(\n",
    "                np.array(self.dataframe.iloc[idx][key].to_list()), dtype=torch.float32\n",
    "            )\n",
    "            last_pose = torch.tensor(\n",
    "                np.array(self.dataframe.iloc[idx][\"last_pose\"].to_list()),\n",
    "                dtype=torch.float32,\n",
    "            )\n",
    "            target = torch.tensor(\n",
    "                np.array(self.dataframe.iloc[idx][\"target\"].to_list()),\n",
    "                dtype=torch.float32,\n",
    "            )\n",
    "        except AttributeError as v:\n",
    "            inputs = torch.tensor(self.dataframe.iloc[idx][key], dtype=torch.float32)\n",
    "            last_pose = torch.tensor(\n",
    "                self.dataframe.iloc[idx][\"last_pose\"], dtype=torch.float32\n",
    "            )\n",
    "            target = torch.tensor(\n",
    "                self.dataframe.iloc[idx][\"target\"], dtype=torch.float32\n",
    "            )\n",
    "        return inputs, last_pose, target\n",
    "\n",
    "\n",
    "train_dataset = TraceRelativeDataset(train_frame, curve=False)\n",
    "test_dataset = TraceRelativeDataset(test_frame, curve=False)\n",
    "train_dataloader = DataLoader(train_dataset, batch_size=32, shuffle=True, num_workers=8)\n",
    "test_dataloader = DataLoader(test_dataset, batch_size=32, shuffle=True, num_workers=8)\n",
    "\n",
    "print(len(train_dataset), \" in train\")\n",
    "print(len(test_dataset), \" in test\")\n",
    "\n",
    "\n",
    "class LSTMPredictor(nn.Module):\n",
    "    def __init__(self, input_dim=3, hidden_dim=32, horizon=60, num_layers=2):\n",
    "        super(LSTMPredictor, self).__init__()\n",
    "        self.hidden_dim = hidden_dim\n",
    "        self.horizon = horizon\n",
    "\n",
    "        self.lstm = nn.LSTM(\n",
    "            input_dim, hidden_dim, num_layers=num_layers, batch_first=True\n",
    "        )\n",
    "\n",
    "        self.hidden2output = nn.Sequential(\n",
    "            nn.Linear(hidden_dim, hidden_dim // 2),\n",
    "            nn.ELU(),\n",
    "            # nn.Linear(hidden_dim//2, hidden_dim//2),\n",
    "            # nn.ELU(),\n",
    "            nn.Linear(hidden_dim // 2, hidden_dim // 2),\n",
    "            nn.Linear(hidden_dim // 2, 3 * horizon),\n",
    "        )\n",
    "        print(\"WARNING: 2 layer LSTM + 2 layer decoder\")\n",
    "\n",
    "    def forward(self, inputs):\n",
    "        lstm_out, _ = self.lstm(inputs)\n",
    "        output = self.hidden2output(lstm_out)\n",
    "        output = output[:, -1].reshape((inputs.shape[0], self.horizon, 3))\n",
    "        return output\n",
    "\n",
    "    def predict(self, inputs, last_poses, horizon=60):\n",
    "        residuals = self.forward(inputs)\n",
    "        last_poses = last_poses.to(DEVICE)\n",
    "        outputs = torch.tile(\n",
    "            last_poses[:, :3].reshape(last_poses.shape[0], 1, 3), (1, 60, 1)\n",
    "        )\n",
    "        outputs = residuals + outputs\n",
    "        return outputs\n",
    "\n",
    "\n",
    "class LSTMPredictorBicycle(nn.Module):\n",
    "    def __init__(\n",
    "        self, input_dim=3, hidden_dim=32, control_outputs=1, num_layers=2, horizon=60\n",
    "    ):\n",
    "        super(LSTMPredictorBicycle, self).__init__()\n",
    "        self.hidden_dim = hidden_dim\n",
    "        self.control_outputs = control_outputs\n",
    "        self.horizon = horizon\n",
    "\n",
    "        # The LSTM takes word embeddings as inputs, and outputs hidden states\n",
    "        # with dimensionality hidden_dim.\n",
    "        self.lstm = nn.LSTM(\n",
    "            input_dim, hidden_dim, num_layers=num_layers, batch_first=True\n",
    "        )\n",
    "\n",
    "        # The linear layer that maps from hidden state space to tag space\n",
    "        self.hidden2output = nn.Sequential(\n",
    "            nn.Linear(hidden_dim, hidden_dim // 2),\n",
    "            nn.ELU(),\n",
    "            nn.Linear(hidden_dim // 2, hidden_dim // 2),\n",
    "            nn.ELU(),\n",
    "            nn.Linear(hidden_dim // 2, hidden_dim // 2),\n",
    "            nn.BatchNorm1d(10),\n",
    "            nn.Linear(hidden_dim // 2, control_outputs * 2 + 1),\n",
    "        )\n",
    "\n",
    "        self.dynamics = Bicycle(0.3302)\n",
    "        self.integrator = Euler(self.dynamics, timestep=0.1)\n",
    "\n",
    "\n",
    "        \n",
    "    def forward(self, inputs):\n",
    "        lstm_out, _ = self.lstm(inputs)\n",
    "        output = self.hidden2output(lstm_out)\n",
    "        scaled_output = list()\n",
    "        scaled_output.append(F.softplus(output[:, :, 0]))\n",
    "        for step in range(self.control_outputs):\n",
    "            scaled_output.append(\n",
    "                torch.tanh(output[:, :, (step * 2) + 1]) * np.pi\n",
    "            )  # Steering\n",
    "            scaled_output.append(output[:, :, (step * 2) + 2])  # Acceleration\n",
    "        output = torch.dstack(scaled_output)\n",
    "        return output\n",
    "\n",
    "    def predict(self, inputs, last_poses):\n",
    "        # Compute LSTM output\n",
    "        controls = self.forward(inputs)[:, -1]  # Take last prediction\n",
    "        last_poses = last_poses.to(DEVICE)\n",
    "        BATCHES = controls.shape[0]\n",
    "        states = []  # torch.zeros((81, 4))\n",
    "        L = 0.3302\n",
    "        TS = 0.1\n",
    "        X, Y, THETA, V = 0, 1, 2, 3\n",
    "        CDIMS = 2\n",
    "        HORIZON = 60\n",
    "        state = torch.zeros(\n",
    "            (\n",
    "                BATCHES,\n",
    "                4,\n",
    "            ),\n",
    "            device=DEVICE,\n",
    "        )\n",
    "        state[:, X] = last_poses[:, 0]\n",
    "        state[:, Y] = last_poses[:, 1]\n",
    "        state[:, THETA] = last_poses[:, 2]\n",
    "        state[:, V] = controls[:, 0]\n",
    "        \n",
    "        real_controls = torch.zeros((BATCHES, self.horizon, CDIMS), device=DEVICE)\n",
    "        step_length = self.horizon // self.control_outputs\n",
    "        for i in range(1, self.horizon):\n",
    "            step = min((i) // step_length, self.control_outputs - 1)\n",
    "            real_controls[:,i] = controls[:, [(step * CDIMS) + 1,(step * CDIMS) + 2]]\n",
    "        \n",
    "        trace = self.integrator(state, real_controls)\n",
    "        return trace\n",
    "\n",
    "\n",
    "def create_debug_plot(\n",
    "    net,\n",
    "    train_dataset: TraceRelativeDataset = train_dataset,\n",
    "    test_dataset: TraceRelativeDataset = test_dataset,\n",
    "    curvature: Curvature = Curvature.NO_CURVATURE,\n",
    "    selection: list = [1912, 2465, 533, 905, 277, 1665, 2395, 61, 1054],\n",
    "):\n",
    "    if selection is None:\n",
    "        selection = np.random.choice(len(full_frame), 9)\n",
    "    inputs, last_poses, targets = train_dataset[: len(selection)]\n",
    "    inputs = torch.zeros_like(inputs, dtype=torch.float32, device=DEVICE)\n",
    "    last_poses = torch.zeros_like(last_poses, dtype=torch.float32, device=DEVICE)\n",
    "    for i, DATA_IDX in enumerate(selection):\n",
    "        data_in_train = True if DATA_IDX in train_frame.index else False\n",
    "        dframe = full_frame\n",
    "        if curvature is Curvature.NO_CURVATURE:\n",
    "            inputs[i] = torch.tensor(\n",
    "                dframe.loc[DATA_IDX][\"input_no_curve\"],\n",
    "                dtype=torch.float32,\n",
    "                device=DEVICE,\n",
    "            )\n",
    "        else:\n",
    "            inputs[i] = torch.tensor(\n",
    "                dframe.loc[DATA_IDX][\"input\"], dtype=torch.float32, device=DEVICE\n",
    "            )\n",
    "        last_poses[i] = torch.tensor(\n",
    "            dframe.loc[DATA_IDX][\"last_pose\"], dtype=torch.float32, device=DEVICE\n",
    "        )\n",
    "        targets[i] = torch.tensor(\n",
    "            dframe.loc[DATA_IDX][\"target\"], dtype=torch.float32, device=DEVICE\n",
    "        )\n",
    "    outputs = net.predict(inputs, last_poses).detach().cpu().numpy()\n",
    "\n",
    "    fig, axs = plt.subplots(3, 3, figsize=(10, 10), dpi=300)\n",
    "    for idx, DATA_IDX in enumerate(selection):\n",
    "        data_in_train = True if DATA_IDX in train_frame.index else False\n",
    "        dframe = full_frame\n",
    "        (linput,) = axs[idx // 3, idx % 3].plot(\n",
    "            dframe.loc[DATA_IDX][\"input\"][:, 0],\n",
    "            dframe.loc[DATA_IDX][\"input\"][:, 1],\n",
    "            marker=\".\",\n",
    "            label=\"Input\",\n",
    "        )\n",
    "        (ltarget,) = axs[idx // 3, idx % 3].plot(\n",
    "            dframe.loc[DATA_IDX][\"target\"][:, 0],\n",
    "            dframe.loc[DATA_IDX][\"target\"][:, 1],\n",
    "            marker=\".\",\n",
    "            label=\"Target\",\n",
    "        )\n",
    "        (lpred,) = axs[idx // 3, idx % 3].plot(\n",
    "            outputs[idx, :, 0],\n",
    "            outputs[idx, :, 1],\n",
    "            marker=\"o\",\n",
    "            mfc=\"none\",\n",
    "            label=\"Prediction\",\n",
    "        )\n",
    "        xlim, ylim = np.average(axs[idx // 3, idx % 3].get_xlim()), np.average(\n",
    "            axs[idx // 3, idx % 3].get_ylim()\n",
    "        )\n",
    "        axs[idx // 3, idx % 3].scatter(map_x, map_y, marker=\".\", color=\"black\")\n",
    "        axs[idx // 3, idx % 3].set(\n",
    "            xlim=(xlim - 3.5, xlim + 3.5),\n",
    "            ylim=(ylim - 3.5, ylim + 3.5),\n",
    "            aspect=1.0,\n",
    "            adjustable=\"box\",\n",
    "            yticklabels=[],\n",
    "            xticklabels=[],\n",
    "        )\n",
    "        axs[idx // 3, idx % 3].set_title(\n",
    "            \"{}:{}:{}\".format(\n",
    "                \"Train\" if data_in_train else \"Test\",\n",
    "                DATA_IDX,\n",
    "                dframe.loc[DATA_IDX][\"selected_lane\"],\n",
    "            )\n",
    "        )\n",
    "    fig.suptitle(\"Manually Selected Traces\")\n",
    "    fig.legend(handles=[linput, ltarget, lpred])\n",
    "    return fig, axs"
   ]
  },
  {
   "cell_type": "code",
   "execution_count": 5,
   "id": "8f42424e-7829-46ce-a299-5dfa9a272518",
   "metadata": {},
   "outputs": [],
   "source": [
    "net = LSTMPredictorBicycle()\n",
    "net = net.to(DEVICE)"
   ]
  },
  {
   "cell_type": "code",
   "execution_count": 13,
   "id": "9d231ab5-93ae-4184-b750-c7c524213ad6",
   "metadata": {},
   "outputs": [],
   "source": [
    "epoch=1\n",
    "curriculum=False\n",
    "optimizer = torch.optim.Adam(net.parameters(), lr=1e-3)\n",
    "\n",
    "for input_data, last_pose, target_data in train_dataloader:\n",
    "    net.zero_grad()\n",
    "    input_data = input_data.to(DEVICE)\n",
    "    last_pose = last_pose.to(DEVICE)\n",
    "    outp = net.predict(input_data, last_pose)\n",
    "    target_data = target_data.to(DEVICE)\n",
    "\n",
    "    loss = custom_loss_func(outp, target_data)\n",
    "    end_index = 30\n",
    "    \n",
    "    loss.backward()\n",
    "    optimizer.step()\n",
    "    fde = final_displacement_error(outp, target_data).detach().cpu().numpy()\n",
    "    ade = average_displacement_error(outp, target_data).detach().cpu().numpy()\n",
    "    cum_train_loss = loss.item()\n",
    "    break"
   ]
  },
  {
   "cell_type": "code",
   "execution_count": 14,
   "id": "df62397a-1c05-498f-b55c-61a4b7ada834",
   "metadata": {},
   "outputs": [
    {
     "data": {
      "text/plain": [
       "4.770482540130615"
      ]
     },
     "execution_count": 14,
     "metadata": {},
     "output_type": "execute_result"
    }
   ],
   "source": [
    "loss.item()"
   ]
  },
  {
   "cell_type": "code",
   "execution_count": 18,
   "id": "0e2b07d7-1400-47c8-b24c-9ffbc9390e89",
   "metadata": {},
   "outputs": [
    {
     "data": {
      "text/plain": [
       "torch.Size([32, 10, 3])"
      ]
     },
     "execution_count": 18,
     "metadata": {},
     "output_type": "execute_result"
    }
   ],
   "source": [
    "input_data.shape"
   ]
  },
  {
   "cell_type": "code",
   "execution_count": 17,
   "id": "2ea91b00-ddfa-4c1d-93f4-401cc4d9f04b",
   "metadata": {},
   "outputs": [
    {
     "data": {
      "text/plain": [
       "torch.Size([32, 60, 4])"
      ]
     },
     "execution_count": 17,
     "metadata": {},
     "output_type": "execute_result"
    }
   ],
   "source": [
    "outp.shape"
   ]
  },
  {
   "cell_type": "code",
   "execution_count": 19,
   "id": "b404f1eb-4101-496c-a3f7-7fd79b62fd97",
   "metadata": {},
   "outputs": [
    {
     "data": {
      "text/plain": [
       "torch.Size([32, 60, 3])"
      ]
     },
     "execution_count": 19,
     "metadata": {},
     "output_type": "execute_result"
    }
   ],
   "source": [
    "target_data.shape"
   ]
  },
  {
   "cell_type": "code",
   "execution_count": 49,
   "id": "893f43c3-9c4f-486c-b6d5-718d35bf9b09",
   "metadata": {},
   "outputs": [],
   "source": [
    "def custom_loss_func(prediction, target):\n",
    "    loss = F.smooth_l1_loss(prediction[..., :2], target[..., :2])\n",
    "    loss += 4 * F.smooth_l1_loss(prediction[..., 2], target[..., 2])\n",
    "    # loss += 10*output[0]**2 if output[0]<0 else 0\n",
    "    # loss += 2*torch.linalg.norm(output)**2\n",
    "    return loss\n",
    "\n",
    "\n",
    "def average_displacement_error(prediction, target):\n",
    "    loss = torch.linalg.norm(prediction[..., :2] - target[..., :2], dim=1)\n",
    "    ade = torch.mean(loss, dim=0)\n",
    "    return torch.mean(ade)\n",
    "\n",
    "\n",
    "def final_displacement_error(prediction, target):\n",
    "    loss = torch.linalg.norm(prediction[..., :2] - target[..., :2], dim=1)\n",
    "    return torch.mean(loss)"
   ]
  },
  {
   "cell_type": "code",
   "execution_count": 50,
   "id": "800f88a9-0f0c-4eaa-ad72-276869595d59",
   "metadata": {},
   "outputs": [],
   "source": [
    "ade, fde, loss = list(), list(), list()\n",
    "for batch in range(input_data.shape[0]):\n",
    "    ade.append(average_displacement_error(outp[batch], target_data[batch]).detach().cpu().numpy())\n",
    "    fde.append(final_displacement_error(outp[batch], target_data[batch]).detach().cpu().numpy())\n",
    "    loss.append(custom_loss_func(outp[batch], target_data[batch]).item())"
   ]
  },
  {
   "cell_type": "code",
   "execution_count": 54,
   "id": "27be5b5a-4783-45ee-9bdb-fab1e2e0486d",
   "metadata": {},
   "outputs": [
    {
     "data": {
      "image/png": "[encoded data removed]",
      "text/plain": [
       "<Figure size 640x480 with 1 Axes>"
      ]
     },
     "metadata": {},
     "output_type": "display_data"
    }
   ],
   "source": []
  },
  {
   "cell_type": "code",
   "execution_count": 48,
   "id": "b574edf4-1eea-48b6-be21-5ab3a05b5d70",
   "metadata": {},
   "outputs": [
    {
     "data": {
      "text/plain": [
       "tensor([0.0050, 0.0101, 0.0172, 0.0271, 0.0407, 0.0581, 0.0799, 0.1062, 0.1372,\n",
       "        0.1729, 0.2132, 0.2585, 0.3085, 0.3638, 0.4240, 0.4896, 0.5609, 0.6377,\n",
       "        0.7203, 0.8083, 0.9021, 1.0012, 1.1051, 1.2140, 1.3274, 1.4454, 1.5672,\n",
       "        1.6930, 1.8227, 1.9554, 2.0909, 2.2285, 2.3677, 2.5076, 2.6471, 2.7858,\n",
       "        2.9226, 3.0568, 3.1873, 3.3134, 3.4343, 3.5488, 3.6559, 3.7545, 3.8436,\n",
       "        3.9219, 3.9884, 4.0422, 4.0823, 4.1082, 4.1189, 4.1142, 4.0938, 4.0574,\n",
       "        4.0054, 3.9380, 3.8565, 3.7620, 3.6567, 3.5434], device='cuda:1',\n",
       "       grad_fn=<LinalgVectorNormBackward0>)"
      ]
     },
     "execution_count": 48,
     "metadata": {},
     "output_type": "execute_result"
    }
   ],
   "source": [
    "torch.linalg.norm(outp[batch][..., :2] - target_data[batch][..., :2], dim=1)"
   ]
  },
  {
   "cell_type": "code",
   "execution_count": 55,
   "id": "8f8e3b19-a9c4-4233-97e9-320f697064ce",
   "metadata": {},
   "outputs": [],
   "source": [
    "gpus = [f'cuda:{i}' for i in range(3)]\n",
    "procs_per_gpu = 2"
   ]
  },
  {
   "cell_type": "code",
   "execution_count": 56,
   "id": "80058e5a-dbcb-4e56-9605-a1f0ceeb4f9e",
   "metadata": {},
   "outputs": [
    {
     "data": {
      "text/plain": [
       "['cuda:0', 'cuda:1', 'cuda:2', 'cuda:0', 'cuda:1', 'cuda:2']"
      ]
     },
     "execution_count": 56,
     "metadata": {},
     "output_type": "execute_result"
    }
   ],
   "source": [
    "gpus*procs_per_gpu"
   ]
  },
  {
   "cell_type": "code",
   "execution_count": null,
   "id": "f10756b3-28a3-4f26-877e-13e306511f02",
   "metadata": {},
   "outputs": [],
   "source": []
  }
 ],
 "metadata": {
  "kernelspec": {
   "display_name": "Python [conda env:VMP]",
   "language": "python",
   "name": "conda-env-VMP-py"
  },
  "language_info": {
   "codemirror_mode": {
    "name": "ipython",
    "version": 3
   },
   "file_extension": ".py",
   "mimetype": "text/x-python",
   "name": "python",
   "nbconvert_exporter": "python",
   "pygments_lexer": "ipython3",
   "version": "3.8.13"
  }
 },
 "nbformat": 4,
 "nbformat_minor": 5
}
