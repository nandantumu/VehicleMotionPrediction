{
 "cells": [
  {
   "cell_type": "code",
   "execution_count": 1,
   "id": "2c367e10-44ee-4adf-b7f0-69d139715ff8",
   "metadata": {},
   "outputs": [],
   "source": [
    "from sympy import *\n",
    "init_printing()"
   ]
  },
  {
   "cell_type": "code",
   "execution_count": 2,
   "id": "4d771064-c710-41fa-b57d-ef55a0b99c83",
   "metadata": {},
   "outputs": [],
   "source": [
    "x0, y0, theta0, v0 = symbols(['x_0', 'y_0', '\\Theta_0', 'v_0'])\n",
    "d_1, a_1, d_2, a_2, d_3, a_3, d_4, a_4, d_5, a_5 = symbols('\\delta_1 a_1 \\delta_2 a_2 \\delta_3 a_3 \\delta_4 a_4 \\delta_5 a_5')\n",
    "U1 = Matrix([d_1, a_1])\n",
    "U2 = Matrix([d_2, a_2])\n",
    "U3 = Matrix([d_3, a_3])\n",
    "U4 = Matrix([d_4, a_4])\n",
    "U5 = Matrix([d_5, a_5])\n",
    "L = symbols('L')\n",
    "dt = symbols('t_d')"
   ]
  },
  {
   "cell_type": "code",
   "execution_count": 21,
   "id": "fe44cfb2-6b31-4b30-9568-fe6041fe4aea",
   "metadata": {},
   "outputs": [],
   "source": [
    "def dynamics(X,U):\n",
    "    _X, _Y, _THETA, _V = 0, 1, 2, 3\n",
    "    _STEER, _ACCEL = 0, 1\n",
    "    dx = Matrix([\n",
    "        (X[_V]+(L/2))*cos(X[_THETA]),\n",
    "        (X[_V]+(L/2))*sin(X[_THETA]),\n",
    "        (X[_V]*(tan(U[_STEER])/L)),\n",
    "        U[_ACCEL]\n",
    "    ])\n",
    "    return dx\n",
    "def cdynamics(X,U):\n",
    "    _X, _Y, _THETA, _V = 0, 1, 2, 3\n",
    "    _STEER, _ACCEL = 0, 1\n",
    "    dx = Matrix([\n",
    "        (X[_V]+(L/2))*cos(X[_THETA]),\n",
    "        (X[_V]+(L/2))*sin(X[_THETA]),\n",
    "        (X[_V]*(U[_STEER]+(U[_STEER]**3/3))/L),\n",
    "        U[_ACCEL]\n",
    "    ])\n",
    "    return dx"
   ]
  },
  {
   "cell_type": "markdown",
   "id": "fcfbd796-1aa3-4cfb-b3f3-427143963b4d",
   "metadata": {},
   "source": [
    "First, we consider the single step gradient, with respect to our control input"
   ]
  },
  {
   "cell_type": "code",
   "execution_count": 22,
   "id": "3d6e78ed-759e-4a11-bd4e-23e5e3b44045",
   "metadata": {},
   "outputs": [
    {
     "data": {
      "text/latex": [
       "$\\displaystyle \\left[\\begin{matrix}x_{0}\\\\y_{0}\\\\\\Theta_{0}\\\\v_{0}\\end{matrix}\\right]$"
      ],
      "text/plain": [
       "⎡  x₀   ⎤\n",
       "⎢       ⎥\n",
       "⎢  y₀   ⎥\n",
       "⎢       ⎥\n",
       "⎢\\Theta₀⎥\n",
       "⎢       ⎥\n",
       "⎣  v₀   ⎦"
      ]
     },
     "execution_count": 22,
     "metadata": {},
     "output_type": "execute_result"
    }
   ],
   "source": [
    "X0 = Matrix([x0, y0, theta0, v0])\n",
    "X0"
   ]
  },
  {
   "cell_type": "code",
   "execution_count": 23,
   "id": "e5cfaa53-9864-41c2-89fe-f38825bd1906",
   "metadata": {},
   "outputs": [
    {
     "data": {
      "text/latex": [
       "$\\displaystyle \\left[\\begin{matrix}t_{d} \\left(\\frac{L}{2} + v_{0}\\right) \\cos{\\left(\\Theta_{0} \\right)} + x_{0}\\\\t_{d} \\left(\\frac{L}{2} + v_{0}\\right) \\sin{\\left(\\Theta_{0} \\right)} + y_{0}\\\\\\Theta_{0} + \\frac{t_{d} v_{0} \\tan{\\left(\\delta_{1} \\right)}}{L}\\\\a_{1} t_{d} + v_{0}\\end{matrix}\\right]$"
      ],
      "text/plain": [
       "⎡    ⎛L     ⎞                  ⎤\n",
       "⎢t_d⋅⎜─ + v₀⎟⋅cos(\\Theta₀) + x₀⎥\n",
       "⎢    ⎝2     ⎠                  ⎥\n",
       "⎢                              ⎥\n",
       "⎢    ⎛L     ⎞                  ⎥\n",
       "⎢t_d⋅⎜─ + v₀⎟⋅sin(\\Theta₀) + y₀⎥\n",
       "⎢    ⎝2     ⎠                  ⎥\n",
       "⎢                              ⎥\n",
       "⎢          t_d⋅v₀⋅tan(\\delta₁) ⎥\n",
       "⎢\\Theta₀ + ─────────────────── ⎥\n",
       "⎢                   L          ⎥\n",
       "⎢                              ⎥\n",
       "⎣         a₁⋅t_d + v₀          ⎦"
      ]
     },
     "execution_count": 23,
     "metadata": {},
     "output_type": "execute_result"
    }
   ],
   "source": [
    "X1 = X0 + dt*dynamics(X0, U1)\n",
    "X1"
   ]
  },
  {
   "cell_type": "code",
   "execution_count": 24,
   "id": "0c6577ea-fea7-4233-bb91-fe6db0f558d9",
   "metadata": {},
   "outputs": [
    {
     "data": {
      "text/latex": [
       "$\\displaystyle \\left[\\begin{matrix}t_{d} \\left(\\frac{L}{2} + v_{0}\\right) \\cos{\\left(\\Theta_{0} \\right)} + t_{d} \\left(\\frac{L}{2} + a_{1} t_{d} + v_{0}\\right) \\cos{\\left(\\Theta_{0} + \\frac{t_{d} v_{0} \\tan{\\left(\\delta_{1} \\right)}}{L} \\right)} + x_{0}\\\\t_{d} \\left(\\frac{L}{2} + v_{0}\\right) \\sin{\\left(\\Theta_{0} \\right)} + t_{d} \\left(\\frac{L}{2} + a_{1} t_{d} + v_{0}\\right) \\sin{\\left(\\Theta_{0} + \\frac{t_{d} v_{0} \\tan{\\left(\\delta_{1} \\right)}}{L} \\right)} + y_{0}\\\\\\Theta_{0} + \\frac{t_{d} v_{0} \\tan{\\left(\\delta_{1} \\right)}}{L} + \\frac{t_{d} \\left(a_{1} t_{d} + v_{0}\\right) \\tan{\\left(\\delta_{2} \\right)}}{L}\\\\a_{1} t_{d} + a_{2} t_{d} + v_{0}\\end{matrix}\\right]$"
      ],
      "text/plain": [
       "⎡    ⎛L     ⎞                    ⎛L              ⎞    ⎛          t_d⋅v₀⋅tan(\\delta₁)⎞     ⎤\n",
       "⎢t_d⋅⎜─ + v₀⎟⋅cos(\\Theta₀) + t_d⋅⎜─ + a₁⋅t_d + v₀⎟⋅cos⎜\\Theta₀ + ───────────────────⎟ + x₀⎥\n",
       "⎢    ⎝2     ⎠                    ⎝2              ⎠    ⎝                   L         ⎠     ⎥\n",
       "⎢                                                                                         ⎥\n",
       "⎢    ⎛L     ⎞                    ⎛L              ⎞    ⎛          t_d⋅v₀⋅tan(\\delta₁)⎞     ⎥\n",
       "⎢t_d⋅⎜─ + v₀⎟⋅sin(\\Theta₀) + t_d⋅⎜─ + a₁⋅t_d + v₀⎟⋅sin⎜\\Theta₀ + ───────────────────⎟ + y₀⎥\n",
       "⎢    ⎝2     ⎠                    ⎝2              ⎠    ⎝                   L         ⎠     ⎥\n",
       "⎢                                                                                         ⎥\n",
       "⎢                       t_d⋅v₀⋅tan(\\delta₁)   t_d⋅(a₁⋅t_d + v₀)⋅tan(\\delta₂)              ⎥\n",
       "⎢             \\Theta₀ + ─────────────────── + ──────────────────────────────              ⎥\n",
       "⎢                                L                          L                             ⎥\n",
       "⎢                                                                                         ⎥\n",
       "⎣                                  a₁⋅t_d + a₂⋅t_d + v₀                                   ⎦"
      ]
     },
     "execution_count": 24,
     "metadata": {},
     "output_type": "execute_result"
    }
   ],
   "source": [
    "X2 = X1 + dt*dynamics(X1, U2)\n",
    "X2"
   ]
  },
  {
   "cell_type": "code",
   "execution_count": 25,
   "id": "8930a6ec-263f-426b-b6c6-ecb71d20a21f",
   "metadata": {},
   "outputs": [
    {
     "data": {
      "text/latex": [
       "$\\displaystyle \\left[\\begin{matrix}t_{d} \\left(\\frac{L}{2} + v_{0}\\right) \\cos{\\left(\\Theta_{0} \\right)} + t_{d} \\left(\\frac{L}{2} + a_{1} t_{d} + v_{0}\\right) \\cos{\\left(\\Theta_{0} + \\frac{t_{d} v_{0} \\tan{\\left(\\delta_{1} \\right)}}{L} \\right)} + t_{d} \\left(\\frac{L}{2} + a_{1} t_{d} + a_{2} t_{d} + v_{0}\\right) \\cos{\\left(\\Theta_{0} + \\frac{t_{d} v_{0} \\tan{\\left(\\delta_{1} \\right)}}{L} + \\frac{t_{d} \\left(a_{1} t_{d} + v_{0}\\right) \\tan{\\left(\\delta_{2} \\right)}}{L} \\right)} + x_{0}\\\\t_{d} \\left(\\frac{L}{2} + v_{0}\\right) \\sin{\\left(\\Theta_{0} \\right)} + t_{d} \\left(\\frac{L}{2} + a_{1} t_{d} + v_{0}\\right) \\sin{\\left(\\Theta_{0} + \\frac{t_{d} v_{0} \\tan{\\left(\\delta_{1} \\right)}}{L} \\right)} + t_{d} \\left(\\frac{L}{2} + a_{1} t_{d} + a_{2} t_{d} + v_{0}\\right) \\sin{\\left(\\Theta_{0} + \\frac{t_{d} v_{0} \\tan{\\left(\\delta_{1} \\right)}}{L} + \\frac{t_{d} \\left(a_{1} t_{d} + v_{0}\\right) \\tan{\\left(\\delta_{2} \\right)}}{L} \\right)} + y_{0}\\\\\\Theta_{0} + \\frac{t_{d} v_{0} \\tan{\\left(\\delta_{1} \\right)}}{L} + \\frac{t_{d} \\left(a_{1} t_{d} + v_{0}\\right) \\tan{\\left(\\delta_{2} \\right)}}{L} + \\frac{t_{d} \\left(a_{1} t_{d} + a_{2} t_{d} + v_{0}\\right) \\tan{\\left(\\delta_{3} \\right)}}{L}\\\\a_{1} t_{d} + a_{2} t_{d} + a_{3} t_{d} + v_{0}\\end{matrix}\\right]$"
      ],
      "text/plain": [
       "⎡    ⎛L     ⎞                    ⎛L              ⎞    ⎛          t_d⋅v₀⋅tan(\\delta₁)⎞       ⎛L                       ⎞    ⎛          t_d⋅v₀⋅\n",
       "⎢t_d⋅⎜─ + v₀⎟⋅cos(\\Theta₀) + t_d⋅⎜─ + a₁⋅t_d + v₀⎟⋅cos⎜\\Theta₀ + ───────────────────⎟ + t_d⋅⎜─ + a₁⋅t_d + a₂⋅t_d + v₀⎟⋅cos⎜\\Theta₀ + ───────\n",
       "⎢    ⎝2     ⎠                    ⎝2              ⎠    ⎝                   L         ⎠       ⎝2                       ⎠    ⎝                 \n",
       "⎢                                                                                                                                           \n",
       "⎢    ⎛L     ⎞                    ⎛L              ⎞    ⎛          t_d⋅v₀⋅tan(\\delta₁)⎞       ⎛L                       ⎞    ⎛          t_d⋅v₀⋅\n",
       "⎢t_d⋅⎜─ + v₀⎟⋅sin(\\Theta₀) + t_d⋅⎜─ + a₁⋅t_d + v₀⎟⋅sin⎜\\Theta₀ + ───────────────────⎟ + t_d⋅⎜─ + a₁⋅t_d + a₂⋅t_d + v₀⎟⋅sin⎜\\Theta₀ + ───────\n",
       "⎢    ⎝2     ⎠                    ⎝2              ⎠    ⎝                   L         ⎠       ⎝2                       ⎠    ⎝                 \n",
       "⎢                                                                                                                                           \n",
       "⎢                                                     t_d⋅v₀⋅tan(\\delta₁)   t_d⋅(a₁⋅t_d + v₀)⋅tan(\\delta₂)   t_d⋅(a₁⋅t_d + a₂⋅t_d + v₀)⋅tan(\n",
       "⎢                                           \\Theta₀ + ─────────────────── + ────────────────────────────── + ───────────────────────────────\n",
       "⎢                                                              L                          L                                     L           \n",
       "⎢                                                                                                                                           \n",
       "⎣                                                                                a₁⋅t_d + a₂⋅t_d + a₃⋅t_d + v₀                              \n",
       "\n",
       "tan(\\delta₁)   t_d⋅(a₁⋅t_d + v₀)⋅tan(\\delta₂)⎞     ⎤\n",
       "──────────── + ──────────────────────────────⎟ + x₀⎥\n",
       "  L                          L               ⎠     ⎥\n",
       "                                                   ⎥\n",
       "tan(\\delta₁)   t_d⋅(a₁⋅t_d + v₀)⋅tan(\\delta₂)⎞     ⎥\n",
       "──────────── + ──────────────────────────────⎟ + y₀⎥\n",
       "  L                          L               ⎠     ⎥\n",
       "                                                   ⎥\n",
       "\\delta₃)                                           ⎥\n",
       "────────                                           ⎥\n",
       "                                                   ⎥\n",
       "                                                   ⎥\n",
       "                                                   ⎦"
      ]
     },
     "execution_count": 25,
     "metadata": {},
     "output_type": "execute_result"
    }
   ],
   "source": [
    "X3 = X2 + dt*dynamics(X2, U3)\n",
    "X3"
   ]
  },
  {
   "cell_type": "code",
   "execution_count": 26,
   "id": "f04b6c77-95e0-4bd6-b95f-c8546ec7e692",
   "metadata": {},
   "outputs": [
    {
     "data": {
      "text/latex": [
       "$\\displaystyle \\left[\\begin{matrix}t_{d} \\left(\\frac{L}{2} + v_{0}\\right) \\cos{\\left(\\Theta_{0} \\right)} + t_{d} \\left(\\frac{L}{2} + a_{1} t_{d} + v_{0}\\right) \\cos{\\left(\\Theta_{0} + \\frac{t_{d} v_{0} \\tan{\\left(\\delta_{1} \\right)}}{L} \\right)} + t_{d} \\left(\\frac{L}{2} + a_{1} t_{d} + a_{2} t_{d} + v_{0}\\right) \\cos{\\left(\\Theta_{0} + \\frac{t_{d} v_{0} \\tan{\\left(\\delta_{1} \\right)}}{L} + \\frac{t_{d} \\left(a_{1} t_{d} + v_{0}\\right) \\tan{\\left(\\delta_{2} \\right)}}{L} \\right)} + t_{d} \\left(\\frac{L}{2} + a_{1} t_{d} + a_{2} t_{d} + a_{3} t_{d} + v_{0}\\right) \\cos{\\left(\\Theta_{0} + \\frac{t_{d} v_{0} \\tan{\\left(\\delta_{1} \\right)}}{L} + \\frac{t_{d} \\left(a_{1} t_{d} + v_{0}\\right) \\tan{\\left(\\delta_{2} \\right)}}{L} + \\frac{t_{d} \\left(a_{1} t_{d} + a_{2} t_{d} + v_{0}\\right) \\tan{\\left(\\delta_{3} \\right)}}{L} \\right)} + x_{0}\\\\t_{d} \\left(\\frac{L}{2} + v_{0}\\right) \\sin{\\left(\\Theta_{0} \\right)} + t_{d} \\left(\\frac{L}{2} + a_{1} t_{d} + v_{0}\\right) \\sin{\\left(\\Theta_{0} + \\frac{t_{d} v_{0} \\tan{\\left(\\delta_{1} \\right)}}{L} \\right)} + t_{d} \\left(\\frac{L}{2} + a_{1} t_{d} + a_{2} t_{d} + v_{0}\\right) \\sin{\\left(\\Theta_{0} + \\frac{t_{d} v_{0} \\tan{\\left(\\delta_{1} \\right)}}{L} + \\frac{t_{d} \\left(a_{1} t_{d} + v_{0}\\right) \\tan{\\left(\\delta_{2} \\right)}}{L} \\right)} + t_{d} \\left(\\frac{L}{2} + a_{1} t_{d} + a_{2} t_{d} + a_{3} t_{d} + v_{0}\\right) \\sin{\\left(\\Theta_{0} + \\frac{t_{d} v_{0} \\tan{\\left(\\delta_{1} \\right)}}{L} + \\frac{t_{d} \\left(a_{1} t_{d} + v_{0}\\right) \\tan{\\left(\\delta_{2} \\right)}}{L} + \\frac{t_{d} \\left(a_{1} t_{d} + a_{2} t_{d} + v_{0}\\right) \\tan{\\left(\\delta_{3} \\right)}}{L} \\right)} + y_{0}\\\\\\Theta_{0} + \\frac{t_{d} v_{0} \\tan{\\left(\\delta_{1} \\right)}}{L} + \\frac{t_{d} \\left(a_{1} t_{d} + v_{0}\\right) \\tan{\\left(\\delta_{2} \\right)}}{L} + \\frac{t_{d} \\left(a_{1} t_{d} + a_{2} t_{d} + v_{0}\\right) \\tan{\\left(\\delta_{3} \\right)}}{L} + \\frac{t_{d} \\left(a_{1} t_{d} + a_{2} t_{d} + a_{3} t_{d} + v_{0}\\right) \\tan{\\left(\\delta_{4} \\right)}}{L}\\\\a_{1} t_{d} + a_{2} t_{d} + a_{3} t_{d} + a_{4} t_{d} + v_{0}\\end{matrix}\\right]$"
      ],
      "text/plain": [
       "⎡    ⎛L     ⎞                    ⎛L              ⎞    ⎛          t_d⋅v₀⋅tan(\\delta₁)⎞       ⎛L                       ⎞    ⎛          t_d⋅v₀⋅\n",
       "⎢t_d⋅⎜─ + v₀⎟⋅cos(\\Theta₀) + t_d⋅⎜─ + a₁⋅t_d + v₀⎟⋅cos⎜\\Theta₀ + ───────────────────⎟ + t_d⋅⎜─ + a₁⋅t_d + a₂⋅t_d + v₀⎟⋅cos⎜\\Theta₀ + ───────\n",
       "⎢    ⎝2     ⎠                    ⎝2              ⎠    ⎝                   L         ⎠       ⎝2                       ⎠    ⎝                 \n",
       "⎢                                                                                                                                           \n",
       "⎢    ⎛L     ⎞                    ⎛L              ⎞    ⎛          t_d⋅v₀⋅tan(\\delta₁)⎞       ⎛L                       ⎞    ⎛          t_d⋅v₀⋅\n",
       "⎢t_d⋅⎜─ + v₀⎟⋅sin(\\Theta₀) + t_d⋅⎜─ + a₁⋅t_d + v₀⎟⋅sin⎜\\Theta₀ + ───────────────────⎟ + t_d⋅⎜─ + a₁⋅t_d + a₂⋅t_d + v₀⎟⋅sin⎜\\Theta₀ + ───────\n",
       "⎢    ⎝2     ⎠                    ⎝2              ⎠    ⎝                   L         ⎠       ⎝2                       ⎠    ⎝                 \n",
       "⎢                                                                                                                                           \n",
       "⎢                                                                                                       t_d⋅v₀⋅tan(\\delta₁)   t_d⋅(a₁⋅t_d + \n",
       "⎢                                                                                             \\Theta₀ + ─────────────────── + ──────────────\n",
       "⎢                                                                                                                L                          \n",
       "⎢                                                                                                                                           \n",
       "⎣                                                                                                                                           \n",
       "\n",
       "tan(\\delta₁)   t_d⋅(a₁⋅t_d + v₀)⋅tan(\\delta₂)⎞       ⎛L                                ⎞    ⎛          t_d⋅v₀⋅tan(\\delta₁)   t_d⋅(a₁⋅t_d + v\n",
       "──────────── + ──────────────────────────────⎟ + t_d⋅⎜─ + a₁⋅t_d + a₂⋅t_d + a₃⋅t_d + v₀⎟⋅cos⎜\\Theta₀ + ─────────────────── + ───────────────\n",
       "  L                          L               ⎠       ⎝2                                ⎠    ⎝                   L                          L\n",
       "                                                                                                                                            \n",
       "tan(\\delta₁)   t_d⋅(a₁⋅t_d + v₀)⋅tan(\\delta₂)⎞       ⎛L                                ⎞    ⎛          t_d⋅v₀⋅tan(\\delta₁)   t_d⋅(a₁⋅t_d + v\n",
       "──────────── + ──────────────────────────────⎟ + t_d⋅⎜─ + a₁⋅t_d + a₂⋅t_d + a₃⋅t_d + v₀⎟⋅sin⎜\\Theta₀ + ─────────────────── + ───────────────\n",
       "  L                          L               ⎠       ⎝2                                ⎠    ⎝                   L                          L\n",
       "                                                                                                                                            \n",
       "v₀)⋅tan(\\delta₂)   t_d⋅(a₁⋅t_d + a₂⋅t_d + v₀)⋅tan(\\delta₃)   t_d⋅(a₁⋅t_d + a₂⋅t_d + a₃⋅t_d + v₀)⋅tan(\\delta₄)                               \n",
       "──────────────── + ─────────────────────────────────────── + ────────────────────────────────────────────────                               \n",
       "L                                     L                                             L                                                       \n",
       "                                                                                                                                            \n",
       "             a₁⋅t_d + a₂⋅t_d + a₃⋅t_d + a₄⋅t_d + v₀                                                                                         \n",
       "\n",
       "₀)⋅tan(\\delta₂)   t_d⋅(a₁⋅t_d + a₂⋅t_d + v₀)⋅tan(\\delta₃)⎞     ⎤\n",
       "─────────────── + ───────────────────────────────────────⎟ + x₀⎥\n",
       "                                     L                   ⎠     ⎥\n",
       "                                                               ⎥\n",
       "₀)⋅tan(\\delta₂)   t_d⋅(a₁⋅t_d + a₂⋅t_d + v₀)⋅tan(\\delta₃)⎞     ⎥\n",
       "─────────────── + ───────────────────────────────────────⎟ + y₀⎥\n",
       "                                     L                   ⎠     ⎥\n",
       "                                                               ⎥\n",
       "                                                               ⎥\n",
       "                                                               ⎥\n",
       "                                                               ⎥\n",
       "                                                               ⎥\n",
       "                                                               ⎦"
      ]
     },
     "execution_count": 26,
     "metadata": {},
     "output_type": "execute_result"
    }
   ],
   "source": [
    "X4 = X3 + dt*dynamics(X3, U4)\n",
    "X4"
   ]
  },
  {
   "cell_type": "code",
   "execution_count": 27,
   "id": "4c607a3c-eab0-4d4c-9b9d-b3032c130d85",
   "metadata": {},
   "outputs": [
    {
     "data": {
      "text/latex": [
       "$\\displaystyle \\left[\\begin{matrix}t_{d} \\left(\\frac{L}{2} + v_{0}\\right) \\cos{\\left(\\Theta_{0} \\right)} + t_{d} \\left(\\frac{L}{2} + a_{1} t_{d} + v_{0}\\right) \\cos{\\left(\\Theta_{0} + \\frac{t_{d} v_{0} \\tan{\\left(\\delta_{1} \\right)}}{L} \\right)} + t_{d} \\left(\\frac{L}{2} + a_{1} t_{d} + a_{2} t_{d} + v_{0}\\right) \\cos{\\left(\\Theta_{0} + \\frac{t_{d} v_{0} \\tan{\\left(\\delta_{1} \\right)}}{L} + \\frac{t_{d} \\left(a_{1} t_{d} + v_{0}\\right) \\tan{\\left(\\delta_{2} \\right)}}{L} \\right)} + t_{d} \\left(\\frac{L}{2} + a_{1} t_{d} + a_{2} t_{d} + a_{3} t_{d} + v_{0}\\right) \\cos{\\left(\\Theta_{0} + \\frac{t_{d} v_{0} \\tan{\\left(\\delta_{1} \\right)}}{L} + \\frac{t_{d} \\left(a_{1} t_{d} + v_{0}\\right) \\tan{\\left(\\delta_{2} \\right)}}{L} + \\frac{t_{d} \\left(a_{1} t_{d} + a_{2} t_{d} + v_{0}\\right) \\tan{\\left(\\delta_{3} \\right)}}{L} \\right)} + t_{d} \\left(\\frac{L}{2} + a_{1} t_{d} + a_{2} t_{d} + a_{3} t_{d} + a_{4} t_{d} + v_{0}\\right) \\cos{\\left(\\Theta_{0} + \\frac{t_{d} v_{0} \\tan{\\left(\\delta_{1} \\right)}}{L} + \\frac{t_{d} \\left(a_{1} t_{d} + v_{0}\\right) \\tan{\\left(\\delta_{2} \\right)}}{L} + \\frac{t_{d} \\left(a_{1} t_{d} + a_{2} t_{d} + v_{0}\\right) \\tan{\\left(\\delta_{3} \\right)}}{L} + \\frac{t_{d} \\left(a_{1} t_{d} + a_{2} t_{d} + a_{3} t_{d} + v_{0}\\right) \\tan{\\left(\\delta_{4} \\right)}}{L} \\right)} + x_{0}\\\\t_{d} \\left(\\frac{L}{2} + v_{0}\\right) \\sin{\\left(\\Theta_{0} \\right)} + t_{d} \\left(\\frac{L}{2} + a_{1} t_{d} + v_{0}\\right) \\sin{\\left(\\Theta_{0} + \\frac{t_{d} v_{0} \\tan{\\left(\\delta_{1} \\right)}}{L} \\right)} + t_{d} \\left(\\frac{L}{2} + a_{1} t_{d} + a_{2} t_{d} + v_{0}\\right) \\sin{\\left(\\Theta_{0} + \\frac{t_{d} v_{0} \\tan{\\left(\\delta_{1} \\right)}}{L} + \\frac{t_{d} \\left(a_{1} t_{d} + v_{0}\\right) \\tan{\\left(\\delta_{2} \\right)}}{L} \\right)} + t_{d} \\left(\\frac{L}{2} + a_{1} t_{d} + a_{2} t_{d} + a_{3} t_{d} + v_{0}\\right) \\sin{\\left(\\Theta_{0} + \\frac{t_{d} v_{0} \\tan{\\left(\\delta_{1} \\right)}}{L} + \\frac{t_{d} \\left(a_{1} t_{d} + v_{0}\\right) \\tan{\\left(\\delta_{2} \\right)}}{L} + \\frac{t_{d} \\left(a_{1} t_{d} + a_{2} t_{d} + v_{0}\\right) \\tan{\\left(\\delta_{3} \\right)}}{L} \\right)} + t_{d} \\left(\\frac{L}{2} + a_{1} t_{d} + a_{2} t_{d} + a_{3} t_{d} + a_{4} t_{d} + v_{0}\\right) \\sin{\\left(\\Theta_{0} + \\frac{t_{d} v_{0} \\tan{\\left(\\delta_{1} \\right)}}{L} + \\frac{t_{d} \\left(a_{1} t_{d} + v_{0}\\right) \\tan{\\left(\\delta_{2} \\right)}}{L} + \\frac{t_{d} \\left(a_{1} t_{d} + a_{2} t_{d} + v_{0}\\right) \\tan{\\left(\\delta_{3} \\right)}}{L} + \\frac{t_{d} \\left(a_{1} t_{d} + a_{2} t_{d} + a_{3} t_{d} + v_{0}\\right) \\tan{\\left(\\delta_{4} \\right)}}{L} \\right)} + y_{0}\\\\\\Theta_{0} + \\frac{t_{d} v_{0} \\tan{\\left(\\delta_{1} \\right)}}{L} + \\frac{t_{d} \\left(a_{1} t_{d} + v_{0}\\right) \\tan{\\left(\\delta_{2} \\right)}}{L} + \\frac{t_{d} \\left(a_{1} t_{d} + a_{2} t_{d} + v_{0}\\right) \\tan{\\left(\\delta_{3} \\right)}}{L} + \\frac{t_{d} \\left(a_{1} t_{d} + a_{2} t_{d} + a_{3} t_{d} + v_{0}\\right) \\tan{\\left(\\delta_{4} \\right)}}{L} + \\frac{t_{d} \\left(a_{1} t_{d} + a_{2} t_{d} + a_{3} t_{d} + a_{4} t_{d} + v_{0}\\right) \\tan{\\left(\\delta_{5} \\right)}}{L}\\\\a_{1} t_{d} + a_{2} t_{d} + a_{3} t_{d} + a_{4} t_{d} + a_{5} t_{d} + v_{0}\\end{matrix}\\right]$"
      ],
      "text/plain": [
       "⎡    ⎛L     ⎞                    ⎛L              ⎞    ⎛          t_d⋅v₀⋅tan(\\delta₁)⎞       ⎛L                       ⎞    ⎛          t_d⋅v₀⋅\n",
       "⎢t_d⋅⎜─ + v₀⎟⋅cos(\\Theta₀) + t_d⋅⎜─ + a₁⋅t_d + v₀⎟⋅cos⎜\\Theta₀ + ───────────────────⎟ + t_d⋅⎜─ + a₁⋅t_d + a₂⋅t_d + v₀⎟⋅cos⎜\\Theta₀ + ───────\n",
       "⎢    ⎝2     ⎠                    ⎝2              ⎠    ⎝                   L         ⎠       ⎝2                       ⎠    ⎝                 \n",
       "⎢                                                                                                                                           \n",
       "⎢    ⎛L     ⎞                    ⎛L              ⎞    ⎛          t_d⋅v₀⋅tan(\\delta₁)⎞       ⎛L                       ⎞    ⎛          t_d⋅v₀⋅\n",
       "⎢t_d⋅⎜─ + v₀⎟⋅sin(\\Theta₀) + t_d⋅⎜─ + a₁⋅t_d + v₀⎟⋅sin⎜\\Theta₀ + ───────────────────⎟ + t_d⋅⎜─ + a₁⋅t_d + a₂⋅t_d + v₀⎟⋅sin⎜\\Theta₀ + ───────\n",
       "⎢    ⎝2     ⎠                    ⎝2              ⎠    ⎝                   L         ⎠       ⎝2                       ⎠    ⎝                 \n",
       "⎢                                                                                                                                           \n",
       "⎢                                                                                                                                           \n",
       "⎢                                                                                                                                           \n",
       "⎢                                                                                                                                           \n",
       "⎢                                                                                                                                           \n",
       "⎣                                                                                                                                           \n",
       "\n",
       "tan(\\delta₁)   t_d⋅(a₁⋅t_d + v₀)⋅tan(\\delta₂)⎞       ⎛L                                ⎞    ⎛          t_d⋅v₀⋅tan(\\delta₁)   t_d⋅(a₁⋅t_d + v\n",
       "──────────── + ──────────────────────────────⎟ + t_d⋅⎜─ + a₁⋅t_d + a₂⋅t_d + a₃⋅t_d + v₀⎟⋅cos⎜\\Theta₀ + ─────────────────── + ───────────────\n",
       "  L                          L               ⎠       ⎝2                                ⎠    ⎝                   L                          L\n",
       "                                                                                                                                            \n",
       "tan(\\delta₁)   t_d⋅(a₁⋅t_d + v₀)⋅tan(\\delta₂)⎞       ⎛L                                ⎞    ⎛          t_d⋅v₀⋅tan(\\delta₁)   t_d⋅(a₁⋅t_d + v\n",
       "──────────── + ──────────────────────────────⎟ + t_d⋅⎜─ + a₁⋅t_d + a₂⋅t_d + a₃⋅t_d + v₀⎟⋅sin⎜\\Theta₀ + ─────────────────── + ───────────────\n",
       "  L                          L               ⎠       ⎝2                                ⎠    ⎝                   L                          L\n",
       "                                                                                                                                            \n",
       "                                        t_d⋅v₀⋅tan(\\delta₁)   t_d⋅(a₁⋅t_d + v₀)⋅tan(\\delta₂)   t_d⋅(a₁⋅t_d + a₂⋅t_d + v₀)⋅tan(\\delta₃)   t_d\n",
       "                              \\Theta₀ + ─────────────────── + ────────────────────────────── + ─────────────────────────────────────── + ───\n",
       "                                                 L                          L                                     L                         \n",
       "                                                                                                                                            \n",
       "                                                                                                                  a₁⋅t_d + a₂⋅t_d + a₃⋅t_d +\n",
       "\n",
       "₀)⋅tan(\\delta₂)   t_d⋅(a₁⋅t_d + a₂⋅t_d + v₀)⋅tan(\\delta₃)⎞       ⎛L                                         ⎞    ⎛          t_d⋅v₀⋅tan(\\delt\n",
       "─────────────── + ───────────────────────────────────────⎟ + t_d⋅⎜─ + a₁⋅t_d + a₂⋅t_d + a₃⋅t_d + a₄⋅t_d + v₀⎟⋅cos⎜\\Theta₀ + ────────────────\n",
       "                                     L                   ⎠       ⎝2                                         ⎠    ⎝                   L      \n",
       "                                                                                                                                            \n",
       "₀)⋅tan(\\delta₂)   t_d⋅(a₁⋅t_d + a₂⋅t_d + v₀)⋅tan(\\delta₃)⎞       ⎛L                                         ⎞    ⎛          t_d⋅v₀⋅tan(\\delt\n",
       "─────────────── + ───────────────────────────────────────⎟ + t_d⋅⎜─ + a₁⋅t_d + a₂⋅t_d + a₃⋅t_d + a₄⋅t_d + v₀⎟⋅sin⎜\\Theta₀ + ────────────────\n",
       "                                     L                   ⎠       ⎝2                                         ⎠    ⎝                   L      \n",
       "                                                                                                                                            \n",
       "⋅(a₁⋅t_d + a₂⋅t_d + a₃⋅t_d + v₀)⋅tan(\\delta₄)   t_d⋅(a₁⋅t_d + a₂⋅t_d + a₃⋅t_d + a₄⋅t_d + v₀)⋅tan(\\delta₅)                                   \n",
       "───────────────────────────────────────────── + ─────────────────────────────────────────────────────────                                   \n",
       "                    L                                                       L                                                               \n",
       "                                                                                                                                            \n",
       " a₄⋅t_d + a₅⋅t_d + v₀                                                                                                                       \n",
       "\n",
       "a₁)   t_d⋅(a₁⋅t_d + v₀)⋅tan(\\delta₂)   t_d⋅(a₁⋅t_d + a₂⋅t_d + v₀)⋅tan(\\delta₃)   t_d⋅(a₁⋅t_d + a₂⋅t_d + a₃⋅t_d + v₀)⋅tan(\\delta₄)⎞     ⎤\n",
       "─── + ────────────────────────────── + ─────────────────────────────────────── + ────────────────────────────────────────────────⎟ + x₀⎥\n",
       "                    L                                     L                                             L                        ⎠     ⎥\n",
       "                                                                                                                                       ⎥\n",
       "a₁)   t_d⋅(a₁⋅t_d + v₀)⋅tan(\\delta₂)   t_d⋅(a₁⋅t_d + a₂⋅t_d + v₀)⋅tan(\\delta₃)   t_d⋅(a₁⋅t_d + a₂⋅t_d + a₃⋅t_d + v₀)⋅tan(\\delta₄)⎞     ⎥\n",
       "─── + ────────────────────────────── + ─────────────────────────────────────── + ────────────────────────────────────────────────⎟ + y₀⎥\n",
       "                    L                                     L                                             L                        ⎠     ⎥\n",
       "                                                                                                                                       ⎥\n",
       "                                                                                                                                       ⎥\n",
       "                                                                                                                                       ⎥\n",
       "                                                                                                                                       ⎥\n",
       "                                                                                                                                       ⎥\n",
       "                                                                                                                                       ⎦"
      ]
     },
     "execution_count": 27,
     "metadata": {},
     "output_type": "execute_result"
    }
   ],
   "source": [
    "X5 = X4 + dt*dynamics(X4, U5)\n",
    "X5"
   ]
  },
  {
   "cell_type": "code",
   "execution_count": 28,
   "id": "a4682e1c-aadb-4200-86f1-37f9730ef63a",
   "metadata": {},
   "outputs": [
    {
     "data": {
      "image/png": "[encoded data removed]",
      "text/latex": [
       "$\\displaystyle - \\frac{t_{d}^{2} v_{0} \\left(\\tan^{2}{\\left(\\delta_{1} \\right)} + 1\\right) \\left(\\frac{L}{2} + a_{1} t_{d} + v_{0}\\right) \\sin{\\left(\\Theta_{0} + \\frac{t_{d} v_{0} \\tan{\\left(\\delta_{1} \\right)}}{L} \\right)}}{L} - \\frac{t_{d}^{2} v_{0} \\left(\\tan^{2}{\\left(\\delta_{1} \\right)} + 1\\right) \\left(\\frac{L}{2} + a_{1} t_{d} + a_{2} t_{d} + v_{0}\\right) \\sin{\\left(\\Theta_{0} + \\frac{t_{d} v_{0} \\tan{\\left(\\delta_{1} \\right)}}{L} + \\frac{t_{d} \\left(a_{1} t_{d} + v_{0}\\right) \\tan{\\left(\\delta_{2} \\right)}}{L} \\right)}}{L} - \\frac{t_{d}^{2} v_{0} \\left(\\tan^{2}{\\left(\\delta_{1} \\right)} + 1\\right) \\left(\\frac{L}{2} + a_{1} t_{d} + a_{2} t_{d} + a_{3} t_{d} + v_{0}\\right) \\sin{\\left(\\Theta_{0} + \\frac{t_{d} v_{0} \\tan{\\left(\\delta_{1} \\right)}}{L} + \\frac{t_{d} \\left(a_{1} t_{d} + v_{0}\\right) \\tan{\\left(\\delta_{2} \\right)}}{L} + \\frac{t_{d} \\left(a_{1} t_{d} + a_{2} t_{d} + v_{0}\\right) \\tan{\\left(\\delta_{3} \\right)}}{L} \\right)}}{L} - \\frac{t_{d}^{2} v_{0} \\left(\\tan^{2}{\\left(\\delta_{1} \\right)} + 1\\right) \\left(\\frac{L}{2} + a_{1} t_{d} + a_{2} t_{d} + a_{3} t_{d} + a_{4} t_{d} + v_{0}\\right) \\sin{\\left(\\Theta_{0} + \\frac{t_{d} v_{0} \\tan{\\left(\\delta_{1} \\right)}}{L} + \\frac{t_{d} \\left(a_{1} t_{d} + v_{0}\\right) \\tan{\\left(\\delta_{2} \\right)}}{L} + \\frac{t_{d} \\left(a_{1} t_{d} + a_{2} t_{d} + v_{0}\\right) \\tan{\\left(\\delta_{3} \\right)}}{L} + \\frac{t_{d} \\left(a_{1} t_{d} + a_{2} t_{d} + a_{3} t_{d} + v_{0}\\right) \\tan{\\left(\\delta_{4} \\right)}}{L} \\right)}}{L}$"
      ],
      "text/plain": [
       "     2    ⎛   2             ⎞ ⎛L              ⎞    ⎛          t_d⋅v₀⋅tan(\\delta₁)⎞      2    ⎛   2             ⎞ ⎛L                       ⎞ \n",
       "  t_d ⋅v₀⋅⎝tan (\\delta₁) + 1⎠⋅⎜─ + a₁⋅t_d + v₀⎟⋅sin⎜\\Theta₀ + ───────────────────⎟   t_d ⋅v₀⋅⎝tan (\\delta₁) + 1⎠⋅⎜─ + a₁⋅t_d + a₂⋅t_d + v₀⎟⋅\n",
       "                              ⎝2              ⎠    ⎝                   L         ⎠                               ⎝2                       ⎠ \n",
       "- ──────────────────────────────────────────────────────────────────────────────── - ───────────────────────────────────────────────────────\n",
       "                                         L                                                                                                  \n",
       "\n",
       "   ⎛          t_d⋅v₀⋅tan(\\delta₁)   t_d⋅(a₁⋅t_d + v₀)⋅tan(\\delta₂)⎞      2    ⎛   2             ⎞ ⎛L                                ⎞    ⎛  \n",
       "sin⎜\\Theta₀ + ─────────────────── + ──────────────────────────────⎟   t_d ⋅v₀⋅⎝tan (\\delta₁) + 1⎠⋅⎜─ + a₁⋅t_d + a₂⋅t_d + a₃⋅t_d + v₀⎟⋅sin⎜\\T\n",
       "   ⎝                   L                          L               ⎠                               ⎝2                                ⎠    ⎝  \n",
       "─────────────────────────────────────────────────────────────────── - ──────────────────────────────────────────────────────────────────────\n",
       "     L                                                                                                                                      \n",
       "\n",
       "        t_d⋅v₀⋅tan(\\delta₁)   t_d⋅(a₁⋅t_d + v₀)⋅tan(\\delta₂)   t_d⋅(a₁⋅t_d + a₂⋅t_d + v₀)⋅tan(\\delta₃)⎞      2    ⎛   2             ⎞ ⎛L    \n",
       "heta₀ + ─────────────────── + ────────────────────────────── + ───────────────────────────────────────⎟   t_d ⋅v₀⋅⎝tan (\\delta₁) + 1⎠⋅⎜─ + a\n",
       "                 L                          L                                     L                   ⎠                               ⎝2    \n",
       "─────────────────────────────────────────────────────────────────────────────────────────────────────── - ──────────────────────────────────\n",
       "                L                                                                                                                           \n",
       "\n",
       "                                     ⎞    ⎛          t_d⋅v₀⋅tan(\\delta₁)   t_d⋅(a₁⋅t_d + v₀)⋅tan(\\delta₂)   t_d⋅(a₁⋅t_d + a₂⋅t_d + v₀)⋅tan(\\\n",
       "₁⋅t_d + a₂⋅t_d + a₃⋅t_d + a₄⋅t_d + v₀⎟⋅sin⎜\\Theta₀ + ─────────────────── + ────────────────────────────── + ────────────────────────────────\n",
       "                                     ⎠    ⎝                   L                          L                                     L            \n",
       "────────────────────────────────────────────────────────────────────────────────────────────────────────────────────────────────────────────\n",
       "                                                                                  L                                                         \n",
       "\n",
       "delta₃)   t_d⋅(a₁⋅t_d + a₂⋅t_d + a₃⋅t_d + v₀)⋅tan(\\delta₄)⎞\n",
       "─────── + ────────────────────────────────────────────────⎟\n",
       "                                 L                        ⎠\n",
       "───────────────────────────────────────────────────────────\n",
       "                                                           "
      ]
     },
     "execution_count": 28,
     "metadata": {},
     "output_type": "execute_result"
    }
   ],
   "source": [
    "diff(X5[0], d_1)"
   ]
  },
  {
   "cell_type": "code",
   "execution_count": 29,
   "id": "a893eaeb-a4fa-4a9a-aedd-1a1c7f7ca39f",
   "metadata": {},
   "outputs": [
    {
     "data": {
      "image/png": "[encoded data removed]",
      "text/latex": [
       "$\\displaystyle t_{d} \\left(\\frac{L}{2} + v_{0}\\right) \\sin{\\left(\\Theta_{0} \\right)} + t_{d} \\left(\\frac{L}{2} + a_{1} t_{d} + v_{0}\\right) \\sin{\\left(\\Theta_{0} + \\frac{t_{d} v_{0} \\tan{\\left(\\delta_{1} \\right)}}{L} \\right)} + y_{0}$"
      ],
      "text/plain": [
       "    ⎛L     ⎞                    ⎛L              ⎞    ⎛          t_d⋅v₀⋅tan(\\delta₁)⎞     \n",
       "t_d⋅⎜─ + v₀⎟⋅sin(\\Theta₀) + t_d⋅⎜─ + a₁⋅t_d + v₀⎟⋅sin⎜\\Theta₀ + ───────────────────⎟ + y₀\n",
       "    ⎝2     ⎠                    ⎝2              ⎠    ⎝                   L         ⎠     "
      ]
     },
     "execution_count": 29,
     "metadata": {},
     "output_type": "execute_result"
    }
   ],
   "source": [
    "X2[1]"
   ]
  },
  {
   "cell_type": "code",
   "execution_count": 30,
   "id": "9f64f69e-60b4-47c7-a47f-e303f72c0ce8",
   "metadata": {},
   "outputs": [
    {
     "data": {
      "image/png": "[encoded data removed]",
      "text/latex": [
       "$\\displaystyle \\frac{t_{d}^{2} v_{0} \\left(\\tan^{2}{\\left(\\delta_{1} \\right)} + 1\\right) \\left(\\frac{L}{2} + a_{1} t_{d} + v_{0}\\right) \\cos{\\left(\\Theta_{0} + \\frac{t_{d} v_{0} \\tan{\\left(\\delta_{1} \\right)}}{L} \\right)}}{L}$"
      ],
      "text/plain": [
       "   2    ⎛   2             ⎞ ⎛L              ⎞    ⎛          t_d⋅v₀⋅tan(\\delta₁)⎞\n",
       "t_d ⋅v₀⋅⎝tan (\\delta₁) + 1⎠⋅⎜─ + a₁⋅t_d + v₀⎟⋅cos⎜\\Theta₀ + ───────────────────⎟\n",
       "                            ⎝2              ⎠    ⎝                   L         ⎠\n",
       "────────────────────────────────────────────────────────────────────────────────\n",
       "                                       L                                        "
      ]
     },
     "execution_count": 30,
     "metadata": {},
     "output_type": "execute_result"
    }
   ],
   "source": [
    "diff(X2[1], d_1)"
   ]
  },
  {
   "cell_type": "code",
   "execution_count": 31,
   "id": "7f1f21ef-897f-4622-8904-9d310d4c0c2f",
   "metadata": {},
   "outputs": [
    {
     "data": {
      "image/png": "[encoded data removed]",
      "text/latex": [
       "$\\displaystyle \\frac{0.005 v_{0} \\left(L + 0.2 a_{1} + 2 v_{0}\\right) \\cos{\\left(\\Theta_{0} + \\frac{0.1 v_{0} \\tan{\\left(\\delta_{1} \\right)}}{L} \\right)}}{L \\cos^{2}{\\left(\\delta_{1} \\right)}}$"
      ],
      "text/plain": [
       "                                ⎛          0.1⋅v₀⋅tan(\\delta₁)⎞\n",
       "0.005⋅v₀⋅(L + 0.2⋅a₁ + 2⋅v₀)⋅cos⎜\\Theta₀ + ───────────────────⎟\n",
       "                                ⎝                   L         ⎠\n",
       "───────────────────────────────────────────────────────────────\n",
       "                             2                                 \n",
       "                        L⋅cos (\\delta₁)                        "
      ]
     },
     "execution_count": 31,
     "metadata": {},
     "output_type": "execute_result"
    }
   ],
   "source": [
    "simplify(diff(X2[1], d_1).subs([(dt, 0.1)]))"
   ]
  },
  {
   "cell_type": "code",
   "execution_count": 32,
   "id": "2349b95d-3923-43f0-96c7-ef1369799f9f",
   "metadata": {},
   "outputs": [
    {
     "data": {
      "image/png": "[encoded data removed]",
      "text/latex": [
       "$\\displaystyle t_{d}^{2} \\sin{\\left(\\Theta_{0} + \\frac{t_{d} v_{0} \\tan{\\left(\\delta_{1} \\right)}}{L} \\right)}$"
      ],
      "text/plain": [
       "   2    ⎛          t_d⋅v₀⋅tan(\\delta₁)⎞\n",
       "t_d ⋅sin⎜\\Theta₀ + ───────────────────⎟\n",
       "        ⎝                   L         ⎠"
      ]
     },
     "execution_count": 32,
     "metadata": {},
     "output_type": "execute_result"
    }
   ],
   "source": [
    "diff(X2[1], a_1)"
   ]
  },
  {
   "cell_type": "code",
   "execution_count": 33,
   "id": "1e3f7444-9952-4a00-9299-19b06d6dd15f",
   "metadata": {},
   "outputs": [
    {
     "data": {
      "image/png": "[encoded data removed]",
      "text/latex": [
       "$\\displaystyle 0.01 \\sin{\\left(\\Theta_{0} + \\frac{0.1 v_{0} \\tan{\\left(\\delta_{1} \\right)}}{L} \\right)}$"
      ],
      "text/plain": [
       "        ⎛          0.1⋅v₀⋅tan(\\delta₁)⎞\n",
       "0.01⋅sin⎜\\Theta₀ + ───────────────────⎟\n",
       "        ⎝                   L         ⎠"
      ]
     },
     "execution_count": 33,
     "metadata": {},
     "output_type": "execute_result"
    }
   ],
   "source": [
    "diff(X2[1], a_1).subs([(dt, 0.1)])"
   ]
  },
  {
   "cell_type": "code",
   "execution_count": 34,
   "id": "268596fe-dc9f-4098-a3d2-31bdf3576a26",
   "metadata": {},
   "outputs": [
    {
     "data": {
      "image/png": "[encoded data removed]",
      "text/latex": [
       "$\\displaystyle 0.01 \\sin{\\left(\\Theta_{0} + \\frac{0.1 v_{0} \\tan{\\left(\\delta_{1} \\right)}}{L} \\right)} + 0.01 \\sin{\\left(\\Theta_{0} + \\frac{0.1 v_{0} \\tan{\\left(\\delta_{1} \\right)}}{L} + \\frac{0.1 \\cdot \\left(0.1 a_{1} + v_{0}\\right) \\tan{\\left(\\delta_{2} \\right)}}{L} \\right)} + \\frac{0.001 \\left(\\frac{L}{2} + 0.1 a_{1} + 0.1 a_{2} + v_{0}\\right) \\cos{\\left(\\Theta_{0} + \\frac{0.1 v_{0} \\tan{\\left(\\delta_{1} \\right)}}{L} + \\frac{0.1 \\cdot \\left(0.1 a_{1} + v_{0}\\right) \\tan{\\left(\\delta_{2} \\right)}}{L} \\right)} \\tan{\\left(\\delta_{2} \\right)}}{L}$"
      ],
      "text/plain": [
       "                                                                                                                           ⎛L               \n",
       "                                                                                                                     0.001⋅⎜─ + 0.1⋅a₁ + 0.1\n",
       "        ⎛          0.1⋅v₀⋅tan(\\delta₁)⎞           ⎛          0.1⋅v₀⋅tan(\\delta₁)   0.1⋅(0.1⋅a₁ + v₀)⋅tan(\\delta₂)⎞         ⎝2               \n",
       "0.01⋅sin⎜\\Theta₀ + ───────────────────⎟ + 0.01⋅sin⎜\\Theta₀ + ─────────────────── + ──────────────────────────────⎟ + ───────────────────────\n",
       "        ⎝                   L         ⎠           ⎝                   L                          L               ⎠                          \n",
       "\n",
       "        ⎞    ⎛          0.1⋅v₀⋅tan(\\delta₁)   0.1⋅(0.1⋅a₁ + v₀)⋅tan(\\delta₂)⎞             \n",
       "⋅a₂ + v₀⎟⋅cos⎜\\Theta₀ + ─────────────────── + ──────────────────────────────⎟⋅tan(\\delta₂)\n",
       "        ⎠    ⎝                   L                          L               ⎠             \n",
       "──────────────────────────────────────────────────────────────────────────────────────────\n",
       "                                 L                                                        "
      ]
     },
     "execution_count": 34,
     "metadata": {},
     "output_type": "execute_result"
    }
   ],
   "source": [
    "diff(X3[1], a_1).subs([(dt, 0.1)])"
   ]
  },
  {
   "cell_type": "code",
   "execution_count": 35,
   "id": "a96bfccc-7f4e-4774-b0d8-b3c2998367f5",
   "metadata": {},
   "outputs": [
    {
     "data": {
      "image/png": "[encoded data removed]",
      "text/latex": [
       "$\\displaystyle \\frac{t_{d}^{2} v_{0} \\left(\\tan^{2}{\\left(\\delta_{1} \\right)} + 1\\right) \\left(\\frac{L}{2} + a_{1} t_{d} + v_{0}\\right) \\cos{\\left(\\Theta_{0} + \\frac{t_{d} v_{0} \\tan{\\left(\\delta_{1} \\right)}}{L} \\right)}}{L}$"
      ],
      "text/plain": [
       "   2    ⎛   2             ⎞ ⎛L              ⎞    ⎛          t_d⋅v₀⋅tan(\\delta₁)⎞\n",
       "t_d ⋅v₀⋅⎝tan (\\delta₁) + 1⎠⋅⎜─ + a₁⋅t_d + v₀⎟⋅cos⎜\\Theta₀ + ───────────────────⎟\n",
       "                            ⎝2              ⎠    ⎝                   L         ⎠\n",
       "────────────────────────────────────────────────────────────────────────────────\n",
       "                                       L                                        "
      ]
     },
     "execution_count": 35,
     "metadata": {},
     "output_type": "execute_result"
    }
   ],
   "source": [
    "diff(X2[1], d_1)"
   ]
  },
  {
   "cell_type": "code",
   "execution_count": null,
   "id": "4fe3b07b-b8c3-4591-ab60-08fc2f7f2862",
   "metadata": {},
   "outputs": [],
   "source": [
    "XT = X0 + dt*dynamics(X0, U1)\n",
    "XT"
   ]
  },
  {
   "cell_type": "code",
   "execution_count": 37,
   "id": "1fe4cc13-6e73-4af5-8db9-fb955785f180",
   "metadata": {},
   "outputs": [
    {
     "data": {
      "text/latex": [
       "$\\displaystyle \\left[\\begin{matrix}t_{d} \\left(\\frac{L}{2} + v_{0}\\right) \\cos{\\left(\\Theta_{0} \\right)}\\\\t_{d} \\left(\\frac{L}{2} + v_{0}\\right) \\sin{\\left(\\Theta_{0} \\right)}\\\\\\frac{t_{d} v_{0} \\tan{\\left(\\delta_{1} \\right)}}{L}\\\\a_{1} t_{d}\\end{matrix}\\right]$"
      ],
      "text/plain": [
       "⎡    ⎛L     ⎞             ⎤\n",
       "⎢t_d⋅⎜─ + v₀⎟⋅cos(\\Theta₀)⎥\n",
       "⎢    ⎝2     ⎠             ⎥\n",
       "⎢                         ⎥\n",
       "⎢    ⎛L     ⎞             ⎥\n",
       "⎢t_d⋅⎜─ + v₀⎟⋅sin(\\Theta₀)⎥\n",
       "⎢    ⎝2     ⎠             ⎥\n",
       "⎢                         ⎥\n",
       "⎢   t_d⋅v₀⋅tan(\\delta₁)   ⎥\n",
       "⎢   ───────────────────   ⎥\n",
       "⎢            L            ⎥\n",
       "⎢                         ⎥\n",
       "⎣         a₁⋅t_d          ⎦"
      ]
     },
     "execution_count": 37,
     "metadata": {},
     "output_type": "execute_result"
    }
   ],
   "source": [
    "integrate(dynamics(X0, U1), dt)"
   ]
  },
  {
   "cell_type": "code",
   "execution_count": 39,
   "id": "fdcc32d4-0b64-4993-8526-528ed50b0800",
   "metadata": {},
   "outputs": [
    {
     "data": {
      "image/png": "[encoded data removed]",
      "text/latex": [
       "$\\displaystyle 2 \\delta_{1} t_{d}$"
      ],
      "text/plain": [
       "2⋅\\delta₁⋅t_d"
      ]
     },
     "execution_count": 39,
     "metadata": {},
     "output_type": "execute_result"
    }
   ],
   "source": []
  },
  {
   "cell_type": "code",
   "execution_count": 40,
   "id": "73f04162-08b1-4699-8cbb-f9f76faa560d",
   "metadata": {},
   "outputs": [],
   "source": [
    "def dx(t):\n",
    "    return (v(t)+(L/2))*cos(theta(t))\n",
    "\n",
    "def dy(t):\n",
    "    return (v(t)+(L/2))*sin(theta(t))\n",
    "\n",
    "def dtheta(t, steer):\n",
    "    return (v(t)*(tan(steer)/L))\n",
    "\n",
    "def dv(t, accel):\n",
    "    return accel"
   ]
  },
  {
   "cell_type": "code",
   "execution_count": null,
   "id": "f3a21d2b-0a0b-4d5b-8490-46887e7c6c84",
   "metadata": {},
   "outputs": [],
   "source": []
  }
 ],
 "metadata": {
  "kernelspec": {
   "display_name": "Python 3 (ipykernel)",
   "language": "python",
   "name": "python3"
  },
  "language_info": {
   "codemirror_mode": {
    "name": "ipython",
    "version": 3
   },
   "file_extension": ".py",
   "mimetype": "text/x-python",
   "name": "python",
   "nbconvert_exporter": "python",
   "pygments_lexer": "ipython3",
   "version": "3.8.10"
  }
 },
 "nbformat": 4,
 "nbformat_minor": 5
}
